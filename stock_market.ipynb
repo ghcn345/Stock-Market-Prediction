{
 "cells": [
  {
   "cell_type": "markdown",
   "metadata": {},
   "source": [
    "# Stock Market Prediction"
   ]
  },
  {
   "cell_type": "markdown",
   "metadata": {},
   "source": [
    "## Overview"
   ]
  },
  {
   "cell_type": "markdown",
   "metadata": {},
   "source": [
    "The goal of this project"
   ]
  },
  {
   "cell_type": "markdown",
   "metadata": {},
   "source": [
    "## Business Understanding"
   ]
  },
  {
   "cell_type": "markdown",
   "metadata": {},
   "source": [
    "The prediction problem of stock market"
   ]
  },
  {
   "cell_type": "markdown",
   "metadata": {},
   "source": [
    "## Data Understanding\n",
    "\n",
    "Data Collection by API"
   ]
  },
  {
   "cell_type": "markdown",
   "metadata": {},
   "source": [
    "### Import Packages"
   ]
  },
  {
   "cell_type": "code",
   "execution_count": 96,
   "metadata": {
    "ExecuteTime": {
     "end_time": "2020-11-09T16:42:16.477059Z",
     "start_time": "2020-11-09T16:42:16.465937Z"
    }
   },
   "outputs": [],
   "source": [
    "import numpy as np\n",
    "import pandas as pd\n",
    "import seaborn as sns\n",
    "import requests\n",
    "import json\n",
    "import time\n",
    "import itertools\n",
    "import re\n",
    "import pickle\n",
    "import datetime\n",
    "from bs4 import BeautifulSoup\n",
    "import matplotlib.pyplot as plt\n",
    "%matplotlib inline\n",
    "\n",
    "# import statsmodels\n",
    "from statsmodels.tsa.arima_model import ARIMA\n",
    "from statsmodels.tsa.stattools import adfuller\n",
    "from statsmodels.tsa.statespace.sarimax import SARIMAX\n",
    "from statsmodels.tsa.seasonal import seasonal_decompose\n",
    "from statsmodels.graphics.tsaplots import plot_acf, plot_pacf\n",
    "\n",
    "\n",
    "from sklearn.model_selection import train_test_split\n",
    "from sklearn.decomposition import PCA\n",
    "from sklearn.metrics import mean_squared_error, mean_absolute_error\n",
    "from sklearn.preprocessing import StandardScaler\n",
    "from sklearn.pipeline import Pipeline\n",
    "from sklearn.model_selection import GridSearchCV\n",
    "from sklearn.metrics import accuracy_score, f1_score, classification_report, auc, roc_curve\n",
    "from sklearn.svm import SVC\n",
    "\n",
    "from fbprophet import Prophet\n",
    "\n",
    "import yfinance as yf\n",
    "\n",
    "pd.options.display.max_columns = 200\n",
    "sns.set_style('darkgrid')\n",
    "#import geopandas as gpd\n",
    "\n",
    "import warnings\n",
    "warnings.filterwarnings('ignore')"
   ]
  },
  {
   "cell_type": "markdown",
   "metadata": {},
   "source": [
    "### IEX API"
   ]
  },
  {
   "cell_type": "markdown",
   "metadata": {},
   "source": [
    "https://iexcloud.io"
   ]
  },
  {
   "cell_type": "code",
   "execution_count": 2,
   "metadata": {},
   "outputs": [],
   "source": [
    "#url ='https://cloud.iexapis.com/stable/stock/{}/chart/5y?token={}'.format(symbol, token)\n",
    "url = 'https://cloud.iexapis.com/v1'\n",
    "\n",
    "random = np.random.uniform(0, 1, 501)\n",
    "# time.sleep(random[i])\n",
    "params = {  \n",
    "          }\n",
    "\n",
    "response = requests.get(url, params)\n",
    "d = response.json()"
   ]
  },
  {
   "cell_type": "code",
   "execution_count": 3,
   "metadata": {},
   "outputs": [
    {
     "data": {
      "text/plain": [
       "dict_keys(['openapi', 'info', 'servers', 'components', 'paths'])"
      ]
     },
     "execution_count": 3,
     "metadata": {},
     "output_type": "execute_result"
    }
   ],
   "source": [
    "d.keys()"
   ]
  },
  {
   "cell_type": "code",
   "execution_count": null,
   "metadata": {},
   "outputs": [],
   "source": []
  },
  {
   "cell_type": "markdown",
   "metadata": {},
   "source": [
    "### Yahoo Finance"
   ]
  },
  {
   "cell_type": "code",
   "execution_count": 4,
   "metadata": {},
   "outputs": [],
   "source": [
    "tick = yf.Ticker(\"aapl\")\n",
    "\n",
    "# get stock info\n",
    "#msft.info\n",
    "\n",
    "# get historical market data\n",
    "data = tick.history(period=\"max\")"
   ]
  },
  {
   "cell_type": "code",
   "execution_count": 6,
   "metadata": {},
   "outputs": [],
   "source": [
    "#df = df.reindex(pd.date_range(df.index[0], df.index[-1], freq='D')).fillna(method='bfill')\n",
    "data = data.reindex(pd.date_range(data.index[0], data.index[-1], freq='D')).interpolate()"
   ]
  },
  {
   "cell_type": "code",
   "execution_count": 7,
   "metadata": {},
   "outputs": [
    {
     "data": {
      "text/html": [
       "<div>\n",
       "<style scoped>\n",
       "    .dataframe tbody tr th:only-of-type {\n",
       "        vertical-align: middle;\n",
       "    }\n",
       "\n",
       "    .dataframe tbody tr th {\n",
       "        vertical-align: top;\n",
       "    }\n",
       "\n",
       "    .dataframe thead th {\n",
       "        text-align: right;\n",
       "    }\n",
       "</style>\n",
       "<table border=\"1\" class=\"dataframe\">\n",
       "  <thead>\n",
       "    <tr style=\"text-align: right;\">\n",
       "      <th></th>\n",
       "      <th>Open</th>\n",
       "      <th>High</th>\n",
       "      <th>Low</th>\n",
       "      <th>Close</th>\n",
       "      <th>Volume</th>\n",
       "      <th>Dividends</th>\n",
       "      <th>Stock Splits</th>\n",
       "    </tr>\n",
       "  </thead>\n",
       "  <tbody>\n",
       "    <tr>\n",
       "      <th>1980-12-12</th>\n",
       "      <td>0.100922</td>\n",
       "      <td>0.101361</td>\n",
       "      <td>0.100922</td>\n",
       "      <td>0.100922</td>\n",
       "      <td>4.690336e+08</td>\n",
       "      <td>0.0</td>\n",
       "      <td>0.0</td>\n",
       "    </tr>\n",
       "    <tr>\n",
       "      <th>1980-12-13</th>\n",
       "      <td>0.099313</td>\n",
       "      <td>0.099606</td>\n",
       "      <td>0.099167</td>\n",
       "      <td>0.099167</td>\n",
       "      <td>3.713173e+08</td>\n",
       "      <td>0.0</td>\n",
       "      <td>0.0</td>\n",
       "    </tr>\n",
       "    <tr>\n",
       "      <th>1980-12-14</th>\n",
       "      <td>0.097704</td>\n",
       "      <td>0.097851</td>\n",
       "      <td>0.097412</td>\n",
       "      <td>0.097412</td>\n",
       "      <td>2.736011e+08</td>\n",
       "      <td>0.0</td>\n",
       "      <td>0.0</td>\n",
       "    </tr>\n",
       "    <tr>\n",
       "      <th>1980-12-15</th>\n",
       "      <td>0.096096</td>\n",
       "      <td>0.096096</td>\n",
       "      <td>0.095657</td>\n",
       "      <td>0.095657</td>\n",
       "      <td>1.758848e+08</td>\n",
       "      <td>0.0</td>\n",
       "      <td>0.0</td>\n",
       "    </tr>\n",
       "    <tr>\n",
       "      <th>1980-12-16</th>\n",
       "      <td>0.089075</td>\n",
       "      <td>0.089075</td>\n",
       "      <td>0.088636</td>\n",
       "      <td>0.088636</td>\n",
       "      <td>1.057280e+08</td>\n",
       "      <td>0.0</td>\n",
       "      <td>0.0</td>\n",
       "    </tr>\n",
       "  </tbody>\n",
       "</table>\n",
       "</div>"
      ],
      "text/plain": [
       "                Open      High       Low     Close        Volume  Dividends  \\\n",
       "1980-12-12  0.100922  0.101361  0.100922  0.100922  4.690336e+08        0.0   \n",
       "1980-12-13  0.099313  0.099606  0.099167  0.099167  3.713173e+08        0.0   \n",
       "1980-12-14  0.097704  0.097851  0.097412  0.097412  2.736011e+08        0.0   \n",
       "1980-12-15  0.096096  0.096096  0.095657  0.095657  1.758848e+08        0.0   \n",
       "1980-12-16  0.089075  0.089075  0.088636  0.088636  1.057280e+08        0.0   \n",
       "\n",
       "            Stock Splits  \n",
       "1980-12-12           0.0  \n",
       "1980-12-13           0.0  \n",
       "1980-12-14           0.0  \n",
       "1980-12-15           0.0  \n",
       "1980-12-16           0.0  "
      ]
     },
     "execution_count": 7,
     "metadata": {},
     "output_type": "execute_result"
    }
   ],
   "source": [
    "data.head()"
   ]
  },
  {
   "cell_type": "code",
   "execution_count": null,
   "metadata": {},
   "outputs": [],
   "source": []
  },
  {
   "cell_type": "markdown",
   "metadata": {},
   "source": [
    "### Web Scrapping"
   ]
  },
  {
   "cell_type": "markdown",
   "metadata": {},
   "source": [
    "#### Web Scrapping by BeautifulSoup"
   ]
  },
  {
   "cell_type": "code",
   "execution_count": 8,
   "metadata": {},
   "outputs": [],
   "source": [
    "# stock symbol\n",
    "stock = 'AAPL'\n",
    "# URL link \n",
    "url_is = 'https://finance.yahoo.com/quote/'+stock+'/financials?p='+stock\n",
    "url_bs = 'https://finance.yahoo.com/quote/'+stock+'/balance-sheet?p='+stock\n",
    "url_cf = 'https://finance.yahoo.com/quote/'+stock+'/cash-flow?p='+stock"
   ]
  },
  {
   "cell_type": "code",
   "execution_count": 9,
   "metadata": {},
   "outputs": [],
   "source": [
    "page_is = requests.get(url_is)\n",
    "#soup_is = BeautifulSoup(page_is.content, 'lxml')\n",
    "soup_is = BeautifulSoup(page_is.content, 'html.parser')"
   ]
  },
  {
   "cell_type": "code",
   "execution_count": 11,
   "metadata": {},
   "outputs": [],
   "source": [
    "features = soup_is.find_all('div', class_='D(tbr)')"
   ]
  },
  {
   "cell_type": "code",
   "execution_count": 12,
   "metadata": {},
   "outputs": [],
   "source": [
    "headers = []\n",
    "temp_list = []\n",
    "label_list = []\n",
    "final = []\n",
    "index = 0\n",
    "#create headers\n",
    "for item in features[0].find_all('div', class_='D(ib)'):\n",
    "    headers.append(item.text)\n",
    "#statement contents\n",
    "while index <= len(features)-1:\n",
    "    #filter for each line of the statement\n",
    "    temp = features[index].find_all('div', class_='D(tbc)')\n",
    "    for line in temp:\n",
    "        #each item adding to a temporary list\n",
    "        temp_list.append(line.text)\n",
    "    #temp_list added to final list\n",
    "    final.append(temp_list)\n",
    "    #clear temp_list\n",
    "    temp_list = []\n",
    "    index+=1\n",
    "df = pd.DataFrame(final[1:])\n",
    "df.columns = headers"
   ]
  },
  {
   "cell_type": "code",
   "execution_count": 13,
   "metadata": {},
   "outputs": [],
   "source": [
    "#function to make all values numerical\n",
    "def convert_to_numeric(column):\n",
    "    first_col = [i.replace(',','') for i in column]\n",
    "    second_col = [i.replace('-','') for i in first_col]\n",
    "    final_col = pd.to_numeric(second_col)\n",
    "    \n",
    "    return final_col"
   ]
  },
  {
   "cell_type": "code",
   "execution_count": 14,
   "metadata": {},
   "outputs": [],
   "source": [
    "for column in headers[1:]:    \n",
    "    df[column] = convert_to_numeric(df[column])\n",
    "    \n",
    "final_df = df.fillna('-')"
   ]
  },
  {
   "cell_type": "code",
   "execution_count": 15,
   "metadata": {},
   "outputs": [
    {
     "data": {
      "text/html": [
       "<div>\n",
       "<style scoped>\n",
       "    .dataframe tbody tr th:only-of-type {\n",
       "        vertical-align: middle;\n",
       "    }\n",
       "\n",
       "    .dataframe tbody tr th {\n",
       "        vertical-align: top;\n",
       "    }\n",
       "\n",
       "    .dataframe thead th {\n",
       "        text-align: right;\n",
       "    }\n",
       "</style>\n",
       "<table border=\"1\" class=\"dataframe\">\n",
       "  <thead>\n",
       "    <tr style=\"text-align: right;\">\n",
       "      <th></th>\n",
       "      <th>Breakdown</th>\n",
       "      <th>ttm</th>\n",
       "      <th>9/30/2020</th>\n",
       "      <th>9/30/2019</th>\n",
       "      <th>9/30/2018</th>\n",
       "      <th>9/30/2017</th>\n",
       "    </tr>\n",
       "  </thead>\n",
       "  <tbody>\n",
       "    <tr>\n",
       "      <th>0</th>\n",
       "      <td>Total Revenue</td>\n",
       "      <td>2.73857e+08</td>\n",
       "      <td>2.74515e+08</td>\n",
       "      <td>2.60174e+08</td>\n",
       "      <td>2.65595e+08</td>\n",
       "      <td>2.29234e+08</td>\n",
       "    </tr>\n",
       "    <tr>\n",
       "      <th>1</th>\n",
       "      <td>Cost of Revenue</td>\n",
       "      <td>1.69277e+08</td>\n",
       "      <td>1.69559e+08</td>\n",
       "      <td>1.61782e+08</td>\n",
       "      <td>1.63756e+08</td>\n",
       "      <td>1.41048e+08</td>\n",
       "    </tr>\n",
       "    <tr>\n",
       "      <th>2</th>\n",
       "      <td>Gross Profit</td>\n",
       "      <td>1.0458e+08</td>\n",
       "      <td>1.04956e+08</td>\n",
       "      <td>9.8392e+07</td>\n",
       "      <td>1.01839e+08</td>\n",
       "      <td>8.8186e+07</td>\n",
       "    </tr>\n",
       "    <tr>\n",
       "      <th>3</th>\n",
       "      <td>Operating Expense</td>\n",
       "      <td>3.7442e+07</td>\n",
       "      <td>3.8668e+07</td>\n",
       "      <td>3.4462e+07</td>\n",
       "      <td>3.0941e+07</td>\n",
       "      <td>2.6842e+07</td>\n",
       "    </tr>\n",
       "    <tr>\n",
       "      <th>4</th>\n",
       "      <td>Operating Income</td>\n",
       "      <td>6.7138e+07</td>\n",
       "      <td>6.6288e+07</td>\n",
       "      <td>6.393e+07</td>\n",
       "      <td>7.0898e+07</td>\n",
       "      <td>6.1344e+07</td>\n",
       "    </tr>\n",
       "  </tbody>\n",
       "</table>\n",
       "</div>"
      ],
      "text/plain": [
       "           Breakdown          ttm    9/30/2020    9/30/2019    9/30/2018  \\\n",
       "0      Total Revenue  2.73857e+08  2.74515e+08  2.60174e+08  2.65595e+08   \n",
       "1    Cost of Revenue  1.69277e+08  1.69559e+08  1.61782e+08  1.63756e+08   \n",
       "2       Gross Profit   1.0458e+08  1.04956e+08   9.8392e+07  1.01839e+08   \n",
       "3  Operating Expense   3.7442e+07   3.8668e+07   3.4462e+07   3.0941e+07   \n",
       "4   Operating Income   6.7138e+07   6.6288e+07    6.393e+07   7.0898e+07   \n",
       "\n",
       "     9/30/2017  \n",
       "0  2.29234e+08  \n",
       "1  1.41048e+08  \n",
       "2   8.8186e+07  \n",
       "3   2.6842e+07  \n",
       "4   6.1344e+07  "
      ]
     },
     "execution_count": 15,
     "metadata": {},
     "output_type": "execute_result"
    }
   ],
   "source": [
    "final_df.head()"
   ]
  },
  {
   "cell_type": "markdown",
   "metadata": {},
   "source": [
    "#### Web Scrapping from JSON File"
   ]
  },
  {
   "cell_type": "code",
   "execution_count": 17,
   "metadata": {},
   "outputs": [
    {
     "data": {
      "text/plain": [
       "dict_keys(['financialsTemplate', 'cashflowStatementHistory', 'balanceSheetHistoryQuarterly', 'earnings', 'price', 'incomeStatementHistoryQuarterly', 'incomeStatementHistory', 'balanceSheetHistory', 'cashflowStatementHistoryQuarterly', 'quoteType', 'summaryDetail', 'symbol', 'pageViews'])"
      ]
     },
     "execution_count": 17,
     "metadata": {},
     "output_type": "execute_result"
    }
   ],
   "source": [
    "pattern  = re.compile(r'\\s--\\sData\\s--\\s')\n",
    "scrpt_data = soup_is.find('script', text=pattern).contents[0]\n",
    "start = scrpt_data.find('context')-2\n",
    "json_data = json.loads(scrpt_data[start:-12])\n",
    "json_data['context']['dispatcher']['stores']['QuoteSummaryStore'].keys()"
   ]
  },
  {
   "cell_type": "code",
   "execution_count": 18,
   "metadata": {},
   "outputs": [],
   "source": [
    "quarterly_is = json_data['context']['dispatcher']['stores']['QuoteSummaryStore']['incomeStatementHistoryQuarterly']['incomeStatementHistory']"
   ]
  },
  {
   "cell_type": "code",
   "execution_count": 19,
   "metadata": {},
   "outputs": [
    {
     "data": {
      "text/html": [
       "<div>\n",
       "<style scoped>\n",
       "    .dataframe tbody tr th:only-of-type {\n",
       "        vertical-align: middle;\n",
       "    }\n",
       "\n",
       "    .dataframe tbody tr th {\n",
       "        vertical-align: top;\n",
       "    }\n",
       "\n",
       "    .dataframe thead th {\n",
       "        text-align: right;\n",
       "    }\n",
       "</style>\n",
       "<table border=\"1\" class=\"dataframe\">\n",
       "  <thead>\n",
       "    <tr style=\"text-align: right;\">\n",
       "      <th></th>\n",
       "      <th>0</th>\n",
       "      <th>1</th>\n",
       "      <th>2</th>\n",
       "      <th>3</th>\n",
       "    </tr>\n",
       "  </thead>\n",
       "  <tbody>\n",
       "    <tr>\n",
       "      <th>maxAge</th>\n",
       "      <td>1</td>\n",
       "      <td>1</td>\n",
       "      <td>1</td>\n",
       "      <td>1</td>\n",
       "    </tr>\n",
       "    <tr>\n",
       "      <th>researchDevelopment.raw</th>\n",
       "      <td>5163000000</td>\n",
       "      <td>4978000000</td>\n",
       "      <td>4758000000</td>\n",
       "      <td>4565000000</td>\n",
       "    </tr>\n",
       "    <tr>\n",
       "      <th>researchDevelopment.fmt</th>\n",
       "      <td>5.16B</td>\n",
       "      <td>4.98B</td>\n",
       "      <td>4.76B</td>\n",
       "      <td>4.57B</td>\n",
       "    </tr>\n",
       "    <tr>\n",
       "      <th>researchDevelopment.longFmt</th>\n",
       "      <td>5,163,000,000</td>\n",
       "      <td>4,978,000,000</td>\n",
       "      <td>4,758,000,000</td>\n",
       "      <td>4,565,000,000</td>\n",
       "    </tr>\n",
       "    <tr>\n",
       "      <th>incomeBeforeTax.raw</th>\n",
       "      <td>33579000000</td>\n",
       "      <td>14901000000</td>\n",
       "      <td>13137000000</td>\n",
       "      <td>13135000000</td>\n",
       "    </tr>\n",
       "  </tbody>\n",
       "</table>\n",
       "</div>"
      ],
      "text/plain": [
       "                                         0              1              2  \\\n",
       "maxAge                                   1              1              1   \n",
       "researchDevelopment.raw         5163000000     4978000000     4758000000   \n",
       "researchDevelopment.fmt              5.16B          4.98B          4.76B   \n",
       "researchDevelopment.longFmt  5,163,000,000  4,978,000,000  4,758,000,000   \n",
       "incomeBeforeTax.raw            33579000000    14901000000    13137000000   \n",
       "\n",
       "                                         3  \n",
       "maxAge                                   1  \n",
       "researchDevelopment.raw         4565000000  \n",
       "researchDevelopment.fmt              4.57B  \n",
       "researchDevelopment.longFmt  4,565,000,000  \n",
       "incomeBeforeTax.raw            13135000000  "
      ]
     },
     "execution_count": 19,
     "metadata": {},
     "output_type": "execute_result"
    }
   ],
   "source": [
    "pd.json_normalize(quarterly_is).T.head()"
   ]
  },
  {
   "cell_type": "code",
   "execution_count": 23,
   "metadata": {},
   "outputs": [],
   "source": [
    "def _json(report):\n",
    "    res = []\n",
    "    for d in report:\n",
    "        s = {}\n",
    "        for k, v in d.items():\n",
    "            try:\n",
    "                s[k] = v['raw']\n",
    "            except TypeError:\n",
    "                continue\n",
    "            except KeyError:\n",
    "                continue\n",
    "        res.append(s)\n",
    "    return res"
   ]
  },
  {
   "cell_type": "code",
   "execution_count": 24,
   "metadata": {},
   "outputs": [
    {
     "data": {
      "text/html": [
       "<div>\n",
       "<style scoped>\n",
       "    .dataframe tbody tr th:only-of-type {\n",
       "        vertical-align: middle;\n",
       "    }\n",
       "\n",
       "    .dataframe tbody tr th {\n",
       "        vertical-align: top;\n",
       "    }\n",
       "\n",
       "    .dataframe thead th {\n",
       "        text-align: right;\n",
       "    }\n",
       "</style>\n",
       "<table border=\"1\" class=\"dataframe\">\n",
       "  <thead>\n",
       "    <tr style=\"text-align: right;\">\n",
       "      <th></th>\n",
       "      <th>0</th>\n",
       "      <th>1</th>\n",
       "      <th>2</th>\n",
       "      <th>3</th>\n",
       "    </tr>\n",
       "  </thead>\n",
       "  <tbody>\n",
       "    <tr>\n",
       "      <th>totalLiab</th>\n",
       "      <td>258549000000</td>\n",
       "      <td>248028000000</td>\n",
       "      <td>258578000000</td>\n",
       "      <td>241272000000</td>\n",
       "    </tr>\n",
       "    <tr>\n",
       "      <th>totalStockholderEquity</th>\n",
       "      <td>65339000000</td>\n",
       "      <td>90488000000</td>\n",
       "      <td>107147000000</td>\n",
       "      <td>134047000000</td>\n",
       "    </tr>\n",
       "    <tr>\n",
       "      <th>otherCurrentLiab</th>\n",
       "      <td>47867000000</td>\n",
       "      <td>43242000000</td>\n",
       "      <td>39293000000</td>\n",
       "      <td>38099000000</td>\n",
       "    </tr>\n",
       "    <tr>\n",
       "      <th>totalAssets</th>\n",
       "      <td>323888000000</td>\n",
       "      <td>338516000000</td>\n",
       "      <td>365725000000</td>\n",
       "      <td>375319000000</td>\n",
       "    </tr>\n",
       "    <tr>\n",
       "      <th>endDate</th>\n",
       "      <td>1601078400</td>\n",
       "      <td>1569628800</td>\n",
       "      <td>1538179200</td>\n",
       "      <td>1506729600</td>\n",
       "    </tr>\n",
       "  </tbody>\n",
       "</table>\n",
       "</div>"
      ],
      "text/plain": [
       "                                   0             1             2             3\n",
       "totalLiab               258549000000  248028000000  258578000000  241272000000\n",
       "totalStockholderEquity   65339000000   90488000000  107147000000  134047000000\n",
       "otherCurrentLiab         47867000000   43242000000   39293000000   38099000000\n",
       "totalAssets             323888000000  338516000000  365725000000  375319000000\n",
       "endDate                   1601078400    1569628800    1538179200    1506729600"
      ]
     },
     "execution_count": 24,
     "metadata": {},
     "output_type": "execute_result"
    }
   ],
   "source": [
    "pd.DataFrame(_json(_is)).T.head()"
   ]
  },
  {
   "cell_type": "code",
   "execution_count": null,
   "metadata": {},
   "outputs": [],
   "source": []
  },
  {
   "cell_type": "code",
   "execution_count": 25,
   "metadata": {},
   "outputs": [],
   "source": [
    "df_f = pd.read_csv('data/AAPL_quarterly_financials.csv', index_col=0, header=None).T\n",
    "df_bs = pd.read_csv('data/AAPL_quarterly_balance-sheet.csv', index_col=0, header=None).T\n",
    "df_cf = pd.read_csv('data/AAPL_quarterly_financials.csv', index_col=0, header=None).T"
   ]
  },
  {
   "cell_type": "code",
   "execution_count": 26,
   "metadata": {},
   "outputs": [],
   "source": [
    "df = pd.concat([df_f, df_bs, df_cf], axis=1)"
   ]
  },
  {
   "cell_type": "code",
   "execution_count": 27,
   "metadata": {},
   "outputs": [],
   "source": [
    "#df.drop_duplicates(inplace=True)\n",
    "#df.drop(columns='ttm', inplace=True)\n",
    "#df = df.dropna(subset=['12/31/2020'])\n",
    "\n",
    "df = df.loc[:, ~df.columns.duplicated()]\n",
    "df.drop(1, inplace=True)\n",
    "df.dropna(subset=[2], axis=1, inplace=True)"
   ]
  },
  {
   "cell_type": "code",
   "execution_count": 28,
   "metadata": {},
   "outputs": [],
   "source": [
    "df.columns = [re.sub(r'((?<=[^\\W[A-Z])[A-Z]|(?<=\\S)[A-Z](?=[a-z]))', r' \\1', col.strip()) for col in df.columns]"
   ]
  },
  {
   "cell_type": "code",
   "execution_count": 29,
   "metadata": {},
   "outputs": [],
   "source": [
    "df['name'] = pd.to_datetime(df['name'])\n",
    "df.set_index('name', inplace=True)"
   ]
  },
  {
   "cell_type": "code",
   "execution_count": 30,
   "metadata": {},
   "outputs": [],
   "source": [
    "for col in df.columns:\n",
    "    df[col] = df[col].str.replace(',', '').astype(float)\n",
    "    df[col].fillna(df[col].mean(), inplace=True)"
   ]
  },
  {
   "cell_type": "code",
   "execution_count": 31,
   "metadata": {},
   "outputs": [],
   "source": [
    "df = df[::-1]"
   ]
  },
  {
   "cell_type": "code",
   "execution_count": 32,
   "metadata": {},
   "outputs": [
    {
     "data": {
      "text/plain": [
       "<AxesSubplot:>"
      ]
     },
     "execution_count": 32,
     "metadata": {},
     "output_type": "execute_result"
    },
    {
     "data": {
      "image/png": "[encoded data removed]",
      "text/plain": [
       "<Figure size 432x432 with 2 Axes>"
      ]
     },
     "metadata": {},
     "output_type": "display_data"
    }
   ],
   "source": [
    "sns.set(style=\"white\")\n",
    "\n",
    "corr = df.corr()\n",
    "mask = np.zeros_like(corr, dtype=np.bool)\n",
    "mask[np.triu_indices_from(mask)] = True\n",
    "\n",
    "fig, ax = plt.subplots(figsize=(6, 6))\n",
    "cmap = sns.diverging_palette(220, 10, as_cmap=True)\n",
    "sns.heatmap(corr, mask=mask, cmap=cmap, vmax=1, center=0, square=True, linewidths=.5, cbar_kws={\"shrink\": .5})\n",
    "#plt.savefig('images/heatmap.jpeg', format='jpeg')"
   ]
  },
  {
   "cell_type": "code",
   "execution_count": 33,
   "metadata": {},
   "outputs": [],
   "source": [
    "df = df.reindex(pd.date_range(data.index[0], data.index[-1], freq='D'))\n",
    "df.fillna(method='bfill', inplace=True)\n",
    "df.fillna(method='ffill', inplace=True)"
   ]
  },
  {
   "cell_type": "code",
   "execution_count": 34,
   "metadata": {},
   "outputs": [
    {
     "data": {
      "text/html": [
       "<div>\n",
       "<style scoped>\n",
       "    .dataframe tbody tr th:only-of-type {\n",
       "        vertical-align: middle;\n",
       "    }\n",
       "\n",
       "    .dataframe tbody tr th {\n",
       "        vertical-align: top;\n",
       "    }\n",
       "\n",
       "    .dataframe thead th {\n",
       "        text-align: right;\n",
       "    }\n",
       "</style>\n",
       "<table border=\"1\" class=\"dataframe\">\n",
       "  <thead>\n",
       "    <tr style=\"text-align: right;\">\n",
       "      <th></th>\n",
       "      <th>Total Revenue</th>\n",
       "      <th>Operating Revenue</th>\n",
       "      <th>Cost Of Revenue</th>\n",
       "      <th>Gross Profit</th>\n",
       "      <th>Operating Expense</th>\n",
       "      <th>Selling General And Administration</th>\n",
       "      <th>Research And Development</th>\n",
       "      <th>Operating Income</th>\n",
       "      <th>Net Non Operating Interest Income Expense</th>\n",
       "      <th>Interest Income Non Operating</th>\n",
       "      <th>Interest Expense Non Operating</th>\n",
       "      <th>Other Income Expense</th>\n",
       "      <th>Other Non Operating Income Expenses</th>\n",
       "      <th>Pretax Income</th>\n",
       "      <th>Tax Provision</th>\n",
       "      <th>Net Income Common Stockholders</th>\n",
       "      <th>Net Income</th>\n",
       "      <th>Net Income Including Noncontrolling Interests</th>\n",
       "      <th>Net Income Continuous Operations</th>\n",
       "      <th>Diluted NI Availto Com Stockholders</th>\n",
       "      <th>Basic EPS</th>\n",
       "      <th>Diluted EPS</th>\n",
       "      <th>Basic Average Shares</th>\n",
       "      <th>Diluted Average Shares</th>\n",
       "      <th>Total Operating Income As Reported</th>\n",
       "      <th>Total Expenses</th>\n",
       "      <th>Net Income From Continuing And Discontinued Operation</th>\n",
       "      <th>Normalized Income</th>\n",
       "      <th>Interest Income</th>\n",
       "      <th>Interest Expense</th>\n",
       "      <th>Net Interest Income</th>\n",
       "      <th>EBIT</th>\n",
       "      <th>Reconciled Cost Of Revenue</th>\n",
       "      <th>Reconciled Depreciation</th>\n",
       "      <th>Net Income From Continuing Operation Net Minority Interest</th>\n",
       "      <th>Normalized EBITDA</th>\n",
       "      <th>Tax Rate For Calcs</th>\n",
       "      <th>Tax Effect Of Unusual Items</th>\n",
       "      <th>Total Assets</th>\n",
       "      <th>Current Assets</th>\n",
       "      <th>Cash Cash Equivalents And Short Term Investments</th>\n",
       "      <th>Cash And Cash Equivalents</th>\n",
       "      <th>Cash Financial</th>\n",
       "      <th>Cash Equivalents</th>\n",
       "      <th>Other Short Term Investments</th>\n",
       "      <th>Receivables</th>\n",
       "      <th>Accounts Receivable</th>\n",
       "      <th>Other Receivables</th>\n",
       "      <th>Inventory</th>\n",
       "      <th>Other Current Assets</th>\n",
       "      <th>Total Non Current Assets</th>\n",
       "      <th>Net PPE</th>\n",
       "      <th>Gross PPE</th>\n",
       "      <th>Properties</th>\n",
       "      <th>Land And Improvements</th>\n",
       "      <th>Machinery Furniture Equipment</th>\n",
       "      <th>Leases</th>\n",
       "      <th>Accumulated Depreciation</th>\n",
       "      <th>Investments And Advances</th>\n",
       "      <th>Investmentin Financial Assets</th>\n",
       "      <th>Available For Sale Securities</th>\n",
       "      <th>Other Non Current Assets</th>\n",
       "      <th>Total Liabilities Net Minority Interest</th>\n",
       "      <th>Current Liabilities</th>\n",
       "      <th>Payables And Accrued Expenses</th>\n",
       "      <th>Payables</th>\n",
       "      <th>Accounts Payable</th>\n",
       "      <th>Current Debt And Capital Lease Obligation</th>\n",
       "      <th>Current Debt</th>\n",
       "      <th>Commercial Paper</th>\n",
       "      <th>Other Current Borrowings</th>\n",
       "      <th>Current Deferred Liabilities</th>\n",
       "      <th>Current Deferred Revenue</th>\n",
       "      <th>Other Current Liabilities</th>\n",
       "      <th>Total Non Current Liabilities Net Minority Interest</th>\n",
       "      <th>Long Term Debt And Capital Lease Obligation</th>\n",
       "      <th>Long Term Debt</th>\n",
       "      <th>Tradeand Other Payables Non Current</th>\n",
       "      <th>Other Non Current Liabilities</th>\n",
       "      <th>Total Equity Gross Minority Interest</th>\n",
       "      <th>Stockholders Equity</th>\n",
       "      <th>Capital Stock</th>\n",
       "      <th>Common Stock</th>\n",
       "      <th>Retained Earnings</th>\n",
       "      <th>Gains Losses Not Affecting Retained Earnings</th>\n",
       "      <th>Total Capitalization</th>\n",
       "      <th>Common Stock Equity</th>\n",
       "      <th>Net Tangible Assets</th>\n",
       "      <th>Working Capital</th>\n",
       "      <th>Invested Capital</th>\n",
       "      <th>Tangible Book Value</th>\n",
       "      <th>Total Debt</th>\n",
       "      <th>Net Debt</th>\n",
       "      <th>Share Issued</th>\n",
       "      <th>Ordinary Shares Number</th>\n",
       "    </tr>\n",
       "  </thead>\n",
       "  <tbody>\n",
       "    <tr>\n",
       "      <th>2021-02-13</th>\n",
       "      <td>1.114390e+11</td>\n",
       "      <td>1.114390e+11</td>\n",
       "      <td>6.711100e+10</td>\n",
       "      <td>4.432800e+10</td>\n",
       "      <td>1.079400e+10</td>\n",
       "      <td>5.631000e+09</td>\n",
       "      <td>5.163000e+09</td>\n",
       "      <td>3.353400e+10</td>\n",
       "      <td>109000000.0</td>\n",
       "      <td>747000000.0</td>\n",
       "      <td>638000000.0</td>\n",
       "      <td>-64000000.0</td>\n",
       "      <td>-64000000.0</td>\n",
       "      <td>3.357900e+10</td>\n",
       "      <td>4.824000e+09</td>\n",
       "      <td>2.875500e+10</td>\n",
       "      <td>2.875500e+10</td>\n",
       "      <td>2.875500e+10</td>\n",
       "      <td>2.875500e+10</td>\n",
       "      <td>2.875500e+10</td>\n",
       "      <td>1.7</td>\n",
       "      <td>1.68</td>\n",
       "      <td>1.693512e+10</td>\n",
       "      <td>1.711369e+10</td>\n",
       "      <td>3.353400e+10</td>\n",
       "      <td>7.790500e+10</td>\n",
       "      <td>2.875500e+10</td>\n",
       "      <td>2.875500e+10</td>\n",
       "      <td>747000000.0</td>\n",
       "      <td>638000000.0</td>\n",
       "      <td>109000000.0</td>\n",
       "      <td>3.421700e+10</td>\n",
       "      <td>6.711100e+10</td>\n",
       "      <td>2.666000e+09</td>\n",
       "      <td>2.875500e+10</td>\n",
       "      <td>3.688300e+10</td>\n",
       "      <td>0.144</td>\n",
       "      <td>0.0</td>\n",
       "      <td>3.238880e+11</td>\n",
       "      <td>1.437130e+11</td>\n",
       "      <td>9.094300e+10</td>\n",
       "      <td>3.801600e+10</td>\n",
       "      <td>1.777300e+10</td>\n",
       "      <td>2.024300e+10</td>\n",
       "      <td>5.292700e+10</td>\n",
       "      <td>3.744500e+10</td>\n",
       "      <td>1.612000e+10</td>\n",
       "      <td>2.132500e+10</td>\n",
       "      <td>4.061000e+09</td>\n",
       "      <td>1.126400e+10</td>\n",
       "      <td>1.801750e+11</td>\n",
       "      <td>3.676600e+10</td>\n",
       "      <td>1.035260e+11</td>\n",
       "      <td>0.0</td>\n",
       "      <td>1.795200e+10</td>\n",
       "      <td>7.529100e+10</td>\n",
       "      <td>1.028300e+10</td>\n",
       "      <td>-6.676000e+10</td>\n",
       "      <td>1.008870e+11</td>\n",
       "      <td>1.008870e+11</td>\n",
       "      <td>1.008870e+11</td>\n",
       "      <td>4.252200e+10</td>\n",
       "      <td>2.585490e+11</td>\n",
       "      <td>1.053920e+11</td>\n",
       "      <td>4.229600e+10</td>\n",
       "      <td>4.229600e+10</td>\n",
       "      <td>4.229600e+10</td>\n",
       "      <td>1.376900e+10</td>\n",
       "      <td>1.376900e+10</td>\n",
       "      <td>4.996000e+09</td>\n",
       "      <td>8.773000e+09</td>\n",
       "      <td>6.643000e+09</td>\n",
       "      <td>6.643000e+09</td>\n",
       "      <td>4.268400e+10</td>\n",
       "      <td>1.531570e+11</td>\n",
       "      <td>9.866700e+10</td>\n",
       "      <td>9.866700e+10</td>\n",
       "      <td>2.817000e+10</td>\n",
       "      <td>2.632000e+10</td>\n",
       "      <td>6.533900e+10</td>\n",
       "      <td>6.533900e+10</td>\n",
       "      <td>5.077900e+10</td>\n",
       "      <td>5.077900e+10</td>\n",
       "      <td>1.496600e+10</td>\n",
       "      <td>-406000000.0</td>\n",
       "      <td>1.640060e+11</td>\n",
       "      <td>6.533900e+10</td>\n",
       "      <td>6.533900e+10</td>\n",
       "      <td>3.832100e+10</td>\n",
       "      <td>1.777750e+11</td>\n",
       "      <td>6.533900e+10</td>\n",
       "      <td>1.124360e+11</td>\n",
       "      <td>7.442000e+10</td>\n",
       "      <td>1.697676e+10</td>\n",
       "      <td>1.697676e+10</td>\n",
       "    </tr>\n",
       "    <tr>\n",
       "      <th>2021-02-14</th>\n",
       "      <td>1.114390e+11</td>\n",
       "      <td>1.114390e+11</td>\n",
       "      <td>6.711100e+10</td>\n",
       "      <td>4.432800e+10</td>\n",
       "      <td>1.079400e+10</td>\n",
       "      <td>5.631000e+09</td>\n",
       "      <td>5.163000e+09</td>\n",
       "      <td>3.353400e+10</td>\n",
       "      <td>109000000.0</td>\n",
       "      <td>747000000.0</td>\n",
       "      <td>638000000.0</td>\n",
       "      <td>-64000000.0</td>\n",
       "      <td>-64000000.0</td>\n",
       "      <td>3.357900e+10</td>\n",
       "      <td>4.824000e+09</td>\n",
       "      <td>2.875500e+10</td>\n",
       "      <td>2.875500e+10</td>\n",
       "      <td>2.875500e+10</td>\n",
       "      <td>2.875500e+10</td>\n",
       "      <td>2.875500e+10</td>\n",
       "      <td>1.7</td>\n",
       "      <td>1.68</td>\n",
       "      <td>1.693512e+10</td>\n",
       "      <td>1.711369e+10</td>\n",
       "      <td>3.353400e+10</td>\n",
       "      <td>7.790500e+10</td>\n",
       "      <td>2.875500e+10</td>\n",
       "      <td>2.875500e+10</td>\n",
       "      <td>747000000.0</td>\n",
       "      <td>638000000.0</td>\n",
       "      <td>109000000.0</td>\n",
       "      <td>3.421700e+10</td>\n",
       "      <td>6.711100e+10</td>\n",
       "      <td>2.666000e+09</td>\n",
       "      <td>2.875500e+10</td>\n",
       "      <td>3.688300e+10</td>\n",
       "      <td>0.144</td>\n",
       "      <td>0.0</td>\n",
       "      <td>3.238880e+11</td>\n",
       "      <td>1.437130e+11</td>\n",
       "      <td>9.094300e+10</td>\n",
       "      <td>3.801600e+10</td>\n",
       "      <td>1.777300e+10</td>\n",
       "      <td>2.024300e+10</td>\n",
       "      <td>5.292700e+10</td>\n",
       "      <td>3.744500e+10</td>\n",
       "      <td>1.612000e+10</td>\n",
       "      <td>2.132500e+10</td>\n",
       "      <td>4.061000e+09</td>\n",
       "      <td>1.126400e+10</td>\n",
       "      <td>1.801750e+11</td>\n",
       "      <td>3.676600e+10</td>\n",
       "      <td>1.035260e+11</td>\n",
       "      <td>0.0</td>\n",
       "      <td>1.795200e+10</td>\n",
       "      <td>7.529100e+10</td>\n",
       "      <td>1.028300e+10</td>\n",
       "      <td>-6.676000e+10</td>\n",
       "      <td>1.008870e+11</td>\n",
       "      <td>1.008870e+11</td>\n",
       "      <td>1.008870e+11</td>\n",
       "      <td>4.252200e+10</td>\n",
       "      <td>2.585490e+11</td>\n",
       "      <td>1.053920e+11</td>\n",
       "      <td>4.229600e+10</td>\n",
       "      <td>4.229600e+10</td>\n",
       "      <td>4.229600e+10</td>\n",
       "      <td>1.376900e+10</td>\n",
       "      <td>1.376900e+10</td>\n",
       "      <td>4.996000e+09</td>\n",
       "      <td>8.773000e+09</td>\n",
       "      <td>6.643000e+09</td>\n",
       "      <td>6.643000e+09</td>\n",
       "      <td>4.268400e+10</td>\n",
       "      <td>1.531570e+11</td>\n",
       "      <td>9.866700e+10</td>\n",
       "      <td>9.866700e+10</td>\n",
       "      <td>2.817000e+10</td>\n",
       "      <td>2.632000e+10</td>\n",
       "      <td>6.533900e+10</td>\n",
       "      <td>6.533900e+10</td>\n",
       "      <td>5.077900e+10</td>\n",
       "      <td>5.077900e+10</td>\n",
       "      <td>1.496600e+10</td>\n",
       "      <td>-406000000.0</td>\n",
       "      <td>1.640060e+11</td>\n",
       "      <td>6.533900e+10</td>\n",
       "      <td>6.533900e+10</td>\n",
       "      <td>3.832100e+10</td>\n",
       "      <td>1.777750e+11</td>\n",
       "      <td>6.533900e+10</td>\n",
       "      <td>1.124360e+11</td>\n",
       "      <td>7.442000e+10</td>\n",
       "      <td>1.697676e+10</td>\n",
       "      <td>1.697676e+10</td>\n",
       "    </tr>\n",
       "    <tr>\n",
       "      <th>2021-02-15</th>\n",
       "      <td>1.114390e+11</td>\n",
       "      <td>1.114390e+11</td>\n",
       "      <td>6.711100e+10</td>\n",
       "      <td>4.432800e+10</td>\n",
       "      <td>1.079400e+10</td>\n",
       "      <td>5.631000e+09</td>\n",
       "      <td>5.163000e+09</td>\n",
       "      <td>3.353400e+10</td>\n",
       "      <td>109000000.0</td>\n",
       "      <td>747000000.0</td>\n",
       "      <td>638000000.0</td>\n",
       "      <td>-64000000.0</td>\n",
       "      <td>-64000000.0</td>\n",
       "      <td>3.357900e+10</td>\n",
       "      <td>4.824000e+09</td>\n",
       "      <td>2.875500e+10</td>\n",
       "      <td>2.875500e+10</td>\n",
       "      <td>2.875500e+10</td>\n",
       "      <td>2.875500e+10</td>\n",
       "      <td>2.875500e+10</td>\n",
       "      <td>1.7</td>\n",
       "      <td>1.68</td>\n",
       "      <td>1.693512e+10</td>\n",
       "      <td>1.711369e+10</td>\n",
       "      <td>3.353400e+10</td>\n",
       "      <td>7.790500e+10</td>\n",
       "      <td>2.875500e+10</td>\n",
       "      <td>2.875500e+10</td>\n",
       "      <td>747000000.0</td>\n",
       "      <td>638000000.0</td>\n",
       "      <td>109000000.0</td>\n",
       "      <td>3.421700e+10</td>\n",
       "      <td>6.711100e+10</td>\n",
       "      <td>2.666000e+09</td>\n",
       "      <td>2.875500e+10</td>\n",
       "      <td>3.688300e+10</td>\n",
       "      <td>0.144</td>\n",
       "      <td>0.0</td>\n",
       "      <td>3.238880e+11</td>\n",
       "      <td>1.437130e+11</td>\n",
       "      <td>9.094300e+10</td>\n",
       "      <td>3.801600e+10</td>\n",
       "      <td>1.777300e+10</td>\n",
       "      <td>2.024300e+10</td>\n",
       "      <td>5.292700e+10</td>\n",
       "      <td>3.744500e+10</td>\n",
       "      <td>1.612000e+10</td>\n",
       "      <td>2.132500e+10</td>\n",
       "      <td>4.061000e+09</td>\n",
       "      <td>1.126400e+10</td>\n",
       "      <td>1.801750e+11</td>\n",
       "      <td>3.676600e+10</td>\n",
       "      <td>1.035260e+11</td>\n",
       "      <td>0.0</td>\n",
       "      <td>1.795200e+10</td>\n",
       "      <td>7.529100e+10</td>\n",
       "      <td>1.028300e+10</td>\n",
       "      <td>-6.676000e+10</td>\n",
       "      <td>1.008870e+11</td>\n",
       "      <td>1.008870e+11</td>\n",
       "      <td>1.008870e+11</td>\n",
       "      <td>4.252200e+10</td>\n",
       "      <td>2.585490e+11</td>\n",
       "      <td>1.053920e+11</td>\n",
       "      <td>4.229600e+10</td>\n",
       "      <td>4.229600e+10</td>\n",
       "      <td>4.229600e+10</td>\n",
       "      <td>1.376900e+10</td>\n",
       "      <td>1.376900e+10</td>\n",
       "      <td>4.996000e+09</td>\n",
       "      <td>8.773000e+09</td>\n",
       "      <td>6.643000e+09</td>\n",
       "      <td>6.643000e+09</td>\n",
       "      <td>4.268400e+10</td>\n",
       "      <td>1.531570e+11</td>\n",
       "      <td>9.866700e+10</td>\n",
       "      <td>9.866700e+10</td>\n",
       "      <td>2.817000e+10</td>\n",
       "      <td>2.632000e+10</td>\n",
       "      <td>6.533900e+10</td>\n",
       "      <td>6.533900e+10</td>\n",
       "      <td>5.077900e+10</td>\n",
       "      <td>5.077900e+10</td>\n",
       "      <td>1.496600e+10</td>\n",
       "      <td>-406000000.0</td>\n",
       "      <td>1.640060e+11</td>\n",
       "      <td>6.533900e+10</td>\n",
       "      <td>6.533900e+10</td>\n",
       "      <td>3.832100e+10</td>\n",
       "      <td>1.777750e+11</td>\n",
       "      <td>6.533900e+10</td>\n",
       "      <td>1.124360e+11</td>\n",
       "      <td>7.442000e+10</td>\n",
       "      <td>1.697676e+10</td>\n",
       "      <td>1.697676e+10</td>\n",
       "    </tr>\n",
       "    <tr>\n",
       "      <th>2021-02-16</th>\n",
       "      <td>1.114390e+11</td>\n",
       "      <td>1.114390e+11</td>\n",
       "      <td>6.711100e+10</td>\n",
       "      <td>4.432800e+10</td>\n",
       "      <td>1.079400e+10</td>\n",
       "      <td>5.631000e+09</td>\n",
       "      <td>5.163000e+09</td>\n",
       "      <td>3.353400e+10</td>\n",
       "      <td>109000000.0</td>\n",
       "      <td>747000000.0</td>\n",
       "      <td>638000000.0</td>\n",
       "      <td>-64000000.0</td>\n",
       "      <td>-64000000.0</td>\n",
       "      <td>3.357900e+10</td>\n",
       "      <td>4.824000e+09</td>\n",
       "      <td>2.875500e+10</td>\n",
       "      <td>2.875500e+10</td>\n",
       "      <td>2.875500e+10</td>\n",
       "      <td>2.875500e+10</td>\n",
       "      <td>2.875500e+10</td>\n",
       "      <td>1.7</td>\n",
       "      <td>1.68</td>\n",
       "      <td>1.693512e+10</td>\n",
       "      <td>1.711369e+10</td>\n",
       "      <td>3.353400e+10</td>\n",
       "      <td>7.790500e+10</td>\n",
       "      <td>2.875500e+10</td>\n",
       "      <td>2.875500e+10</td>\n",
       "      <td>747000000.0</td>\n",
       "      <td>638000000.0</td>\n",
       "      <td>109000000.0</td>\n",
       "      <td>3.421700e+10</td>\n",
       "      <td>6.711100e+10</td>\n",
       "      <td>2.666000e+09</td>\n",
       "      <td>2.875500e+10</td>\n",
       "      <td>3.688300e+10</td>\n",
       "      <td>0.144</td>\n",
       "      <td>0.0</td>\n",
       "      <td>3.238880e+11</td>\n",
       "      <td>1.437130e+11</td>\n",
       "      <td>9.094300e+10</td>\n",
       "      <td>3.801600e+10</td>\n",
       "      <td>1.777300e+10</td>\n",
       "      <td>2.024300e+10</td>\n",
       "      <td>5.292700e+10</td>\n",
       "      <td>3.744500e+10</td>\n",
       "      <td>1.612000e+10</td>\n",
       "      <td>2.132500e+10</td>\n",
       "      <td>4.061000e+09</td>\n",
       "      <td>1.126400e+10</td>\n",
       "      <td>1.801750e+11</td>\n",
       "      <td>3.676600e+10</td>\n",
       "      <td>1.035260e+11</td>\n",
       "      <td>0.0</td>\n",
       "      <td>1.795200e+10</td>\n",
       "      <td>7.529100e+10</td>\n",
       "      <td>1.028300e+10</td>\n",
       "      <td>-6.676000e+10</td>\n",
       "      <td>1.008870e+11</td>\n",
       "      <td>1.008870e+11</td>\n",
       "      <td>1.008870e+11</td>\n",
       "      <td>4.252200e+10</td>\n",
       "      <td>2.585490e+11</td>\n",
       "      <td>1.053920e+11</td>\n",
       "      <td>4.229600e+10</td>\n",
       "      <td>4.229600e+10</td>\n",
       "      <td>4.229600e+10</td>\n",
       "      <td>1.376900e+10</td>\n",
       "      <td>1.376900e+10</td>\n",
       "      <td>4.996000e+09</td>\n",
       "      <td>8.773000e+09</td>\n",
       "      <td>6.643000e+09</td>\n",
       "      <td>6.643000e+09</td>\n",
       "      <td>4.268400e+10</td>\n",
       "      <td>1.531570e+11</td>\n",
       "      <td>9.866700e+10</td>\n",
       "      <td>9.866700e+10</td>\n",
       "      <td>2.817000e+10</td>\n",
       "      <td>2.632000e+10</td>\n",
       "      <td>6.533900e+10</td>\n",
       "      <td>6.533900e+10</td>\n",
       "      <td>5.077900e+10</td>\n",
       "      <td>5.077900e+10</td>\n",
       "      <td>1.496600e+10</td>\n",
       "      <td>-406000000.0</td>\n",
       "      <td>1.640060e+11</td>\n",
       "      <td>6.533900e+10</td>\n",
       "      <td>6.533900e+10</td>\n",
       "      <td>3.832100e+10</td>\n",
       "      <td>1.777750e+11</td>\n",
       "      <td>6.533900e+10</td>\n",
       "      <td>1.124360e+11</td>\n",
       "      <td>7.442000e+10</td>\n",
       "      <td>1.697676e+10</td>\n",
       "      <td>1.697676e+10</td>\n",
       "    </tr>\n",
       "    <tr>\n",
       "      <th>2021-02-17</th>\n",
       "      <td>1.114390e+11</td>\n",
       "      <td>1.114390e+11</td>\n",
       "      <td>6.711100e+10</td>\n",
       "      <td>4.432800e+10</td>\n",
       "      <td>1.079400e+10</td>\n",
       "      <td>5.631000e+09</td>\n",
       "      <td>5.163000e+09</td>\n",
       "      <td>3.353400e+10</td>\n",
       "      <td>109000000.0</td>\n",
       "      <td>747000000.0</td>\n",
       "      <td>638000000.0</td>\n",
       "      <td>-64000000.0</td>\n",
       "      <td>-64000000.0</td>\n",
       "      <td>3.357900e+10</td>\n",
       "      <td>4.824000e+09</td>\n",
       "      <td>2.875500e+10</td>\n",
       "      <td>2.875500e+10</td>\n",
       "      <td>2.875500e+10</td>\n",
       "      <td>2.875500e+10</td>\n",
       "      <td>2.875500e+10</td>\n",
       "      <td>1.7</td>\n",
       "      <td>1.68</td>\n",
       "      <td>1.693512e+10</td>\n",
       "      <td>1.711369e+10</td>\n",
       "      <td>3.353400e+10</td>\n",
       "      <td>7.790500e+10</td>\n",
       "      <td>2.875500e+10</td>\n",
       "      <td>2.875500e+10</td>\n",
       "      <td>747000000.0</td>\n",
       "      <td>638000000.0</td>\n",
       "      <td>109000000.0</td>\n",
       "      <td>3.421700e+10</td>\n",
       "      <td>6.711100e+10</td>\n",
       "      <td>2.666000e+09</td>\n",
       "      <td>2.875500e+10</td>\n",
       "      <td>3.688300e+10</td>\n",
       "      <td>0.144</td>\n",
       "      <td>0.0</td>\n",
       "      <td>3.238880e+11</td>\n",
       "      <td>1.437130e+11</td>\n",
       "      <td>9.094300e+10</td>\n",
       "      <td>3.801600e+10</td>\n",
       "      <td>1.777300e+10</td>\n",
       "      <td>2.024300e+10</td>\n",
       "      <td>5.292700e+10</td>\n",
       "      <td>3.744500e+10</td>\n",
       "      <td>1.612000e+10</td>\n",
       "      <td>2.132500e+10</td>\n",
       "      <td>4.061000e+09</td>\n",
       "      <td>1.126400e+10</td>\n",
       "      <td>1.801750e+11</td>\n",
       "      <td>3.676600e+10</td>\n",
       "      <td>1.035260e+11</td>\n",
       "      <td>0.0</td>\n",
       "      <td>1.795200e+10</td>\n",
       "      <td>7.529100e+10</td>\n",
       "      <td>1.028300e+10</td>\n",
       "      <td>-6.676000e+10</td>\n",
       "      <td>1.008870e+11</td>\n",
       "      <td>1.008870e+11</td>\n",
       "      <td>1.008870e+11</td>\n",
       "      <td>4.252200e+10</td>\n",
       "      <td>2.585490e+11</td>\n",
       "      <td>1.053920e+11</td>\n",
       "      <td>4.229600e+10</td>\n",
       "      <td>4.229600e+10</td>\n",
       "      <td>4.229600e+10</td>\n",
       "      <td>1.376900e+10</td>\n",
       "      <td>1.376900e+10</td>\n",
       "      <td>4.996000e+09</td>\n",
       "      <td>8.773000e+09</td>\n",
       "      <td>6.643000e+09</td>\n",
       "      <td>6.643000e+09</td>\n",
       "      <td>4.268400e+10</td>\n",
       "      <td>1.531570e+11</td>\n",
       "      <td>9.866700e+10</td>\n",
       "      <td>9.866700e+10</td>\n",
       "      <td>2.817000e+10</td>\n",
       "      <td>2.632000e+10</td>\n",
       "      <td>6.533900e+10</td>\n",
       "      <td>6.533900e+10</td>\n",
       "      <td>5.077900e+10</td>\n",
       "      <td>5.077900e+10</td>\n",
       "      <td>1.496600e+10</td>\n",
       "      <td>-406000000.0</td>\n",
       "      <td>1.640060e+11</td>\n",
       "      <td>6.533900e+10</td>\n",
       "      <td>6.533900e+10</td>\n",
       "      <td>3.832100e+10</td>\n",
       "      <td>1.777750e+11</td>\n",
       "      <td>6.533900e+10</td>\n",
       "      <td>1.124360e+11</td>\n",
       "      <td>7.442000e+10</td>\n",
       "      <td>1.697676e+10</td>\n",
       "      <td>1.697676e+10</td>\n",
       "    </tr>\n",
       "  </tbody>\n",
       "</table>\n",
       "</div>"
      ],
      "text/plain": [
       "            Total Revenue  Operating Revenue  Cost Of Revenue  Gross Profit  \\\n",
       "2021-02-13   1.114390e+11       1.114390e+11     6.711100e+10  4.432800e+10   \n",
       "2021-02-14   1.114390e+11       1.114390e+11     6.711100e+10  4.432800e+10   \n",
       "2021-02-15   1.114390e+11       1.114390e+11     6.711100e+10  4.432800e+10   \n",
       "2021-02-16   1.114390e+11       1.114390e+11     6.711100e+10  4.432800e+10   \n",
       "2021-02-17   1.114390e+11       1.114390e+11     6.711100e+10  4.432800e+10   \n",
       "\n",
       "            Operating Expense  Selling General And Administration  \\\n",
       "2021-02-13       1.079400e+10                        5.631000e+09   \n",
       "2021-02-14       1.079400e+10                        5.631000e+09   \n",
       "2021-02-15       1.079400e+10                        5.631000e+09   \n",
       "2021-02-16       1.079400e+10                        5.631000e+09   \n",
       "2021-02-17       1.079400e+10                        5.631000e+09   \n",
       "\n",
       "            Research And Development  Operating Income  \\\n",
       "2021-02-13              5.163000e+09      3.353400e+10   \n",
       "2021-02-14              5.163000e+09      3.353400e+10   \n",
       "2021-02-15              5.163000e+09      3.353400e+10   \n",
       "2021-02-16              5.163000e+09      3.353400e+10   \n",
       "2021-02-17              5.163000e+09      3.353400e+10   \n",
       "\n",
       "            Net Non Operating Interest Income Expense  \\\n",
       "2021-02-13                                109000000.0   \n",
       "2021-02-14                                109000000.0   \n",
       "2021-02-15                                109000000.0   \n",
       "2021-02-16                                109000000.0   \n",
       "2021-02-17                                109000000.0   \n",
       "\n",
       "            Interest Income Non Operating  Interest Expense Non Operating  \\\n",
       "2021-02-13                    747000000.0                     638000000.0   \n",
       "2021-02-14                    747000000.0                     638000000.0   \n",
       "2021-02-15                    747000000.0                     638000000.0   \n",
       "2021-02-16                    747000000.0                     638000000.0   \n",
       "2021-02-17                    747000000.0                     638000000.0   \n",
       "\n",
       "            Other Income Expense  Other Non Operating Income Expenses  \\\n",
       "2021-02-13           -64000000.0                          -64000000.0   \n",
       "2021-02-14           -64000000.0                          -64000000.0   \n",
       "2021-02-15           -64000000.0                          -64000000.0   \n",
       "2021-02-16           -64000000.0                          -64000000.0   \n",
       "2021-02-17           -64000000.0                          -64000000.0   \n",
       "\n",
       "            Pretax Income  Tax Provision  Net Income Common Stockholders  \\\n",
       "2021-02-13   3.357900e+10   4.824000e+09                    2.875500e+10   \n",
       "2021-02-14   3.357900e+10   4.824000e+09                    2.875500e+10   \n",
       "2021-02-15   3.357900e+10   4.824000e+09                    2.875500e+10   \n",
       "2021-02-16   3.357900e+10   4.824000e+09                    2.875500e+10   \n",
       "2021-02-17   3.357900e+10   4.824000e+09                    2.875500e+10   \n",
       "\n",
       "              Net Income  Net Income Including Noncontrolling Interests  \\\n",
       "2021-02-13  2.875500e+10                                   2.875500e+10   \n",
       "2021-02-14  2.875500e+10                                   2.875500e+10   \n",
       "2021-02-15  2.875500e+10                                   2.875500e+10   \n",
       "2021-02-16  2.875500e+10                                   2.875500e+10   \n",
       "2021-02-17  2.875500e+10                                   2.875500e+10   \n",
       "\n",
       "            Net Income Continuous Operations  \\\n",
       "2021-02-13                      2.875500e+10   \n",
       "2021-02-14                      2.875500e+10   \n",
       "2021-02-15                      2.875500e+10   \n",
       "2021-02-16                      2.875500e+10   \n",
       "2021-02-17                      2.875500e+10   \n",
       "\n",
       "            Diluted NI Availto Com Stockholders  Basic EPS  Diluted EPS  \\\n",
       "2021-02-13                         2.875500e+10        1.7         1.68   \n",
       "2021-02-14                         2.875500e+10        1.7         1.68   \n",
       "2021-02-15                         2.875500e+10        1.7         1.68   \n",
       "2021-02-16                         2.875500e+10        1.7         1.68   \n",
       "2021-02-17                         2.875500e+10        1.7         1.68   \n",
       "\n",
       "            Basic Average Shares  Diluted Average Shares  \\\n",
       "2021-02-13          1.693512e+10            1.711369e+10   \n",
       "2021-02-14          1.693512e+10            1.711369e+10   \n",
       "2021-02-15          1.693512e+10            1.711369e+10   \n",
       "2021-02-16          1.693512e+10            1.711369e+10   \n",
       "2021-02-17          1.693512e+10            1.711369e+10   \n",
       "\n",
       "            Total Operating Income As Reported  Total Expenses  \\\n",
       "2021-02-13                        3.353400e+10    7.790500e+10   \n",
       "2021-02-14                        3.353400e+10    7.790500e+10   \n",
       "2021-02-15                        3.353400e+10    7.790500e+10   \n",
       "2021-02-16                        3.353400e+10    7.790500e+10   \n",
       "2021-02-17                        3.353400e+10    7.790500e+10   \n",
       "\n",
       "            Net Income From Continuing And Discontinued Operation  \\\n",
       "2021-02-13                                       2.875500e+10       \n",
       "2021-02-14                                       2.875500e+10       \n",
       "2021-02-15                                       2.875500e+10       \n",
       "2021-02-16                                       2.875500e+10       \n",
       "2021-02-17                                       2.875500e+10       \n",
       "\n",
       "            Normalized Income  Interest Income  Interest Expense  \\\n",
       "2021-02-13       2.875500e+10      747000000.0       638000000.0   \n",
       "2021-02-14       2.875500e+10      747000000.0       638000000.0   \n",
       "2021-02-15       2.875500e+10      747000000.0       638000000.0   \n",
       "2021-02-16       2.875500e+10      747000000.0       638000000.0   \n",
       "2021-02-17       2.875500e+10      747000000.0       638000000.0   \n",
       "\n",
       "            Net Interest Income          EBIT  Reconciled Cost Of Revenue  \\\n",
       "2021-02-13          109000000.0  3.421700e+10                6.711100e+10   \n",
       "2021-02-14          109000000.0  3.421700e+10                6.711100e+10   \n",
       "2021-02-15          109000000.0  3.421700e+10                6.711100e+10   \n",
       "2021-02-16          109000000.0  3.421700e+10                6.711100e+10   \n",
       "2021-02-17          109000000.0  3.421700e+10                6.711100e+10   \n",
       "\n",
       "            Reconciled Depreciation  \\\n",
       "2021-02-13             2.666000e+09   \n",
       "2021-02-14             2.666000e+09   \n",
       "2021-02-15             2.666000e+09   \n",
       "2021-02-16             2.666000e+09   \n",
       "2021-02-17             2.666000e+09   \n",
       "\n",
       "            Net Income From Continuing Operation Net Minority Interest  \\\n",
       "2021-02-13                                       2.875500e+10            \n",
       "2021-02-14                                       2.875500e+10            \n",
       "2021-02-15                                       2.875500e+10            \n",
       "2021-02-16                                       2.875500e+10            \n",
       "2021-02-17                                       2.875500e+10            \n",
       "\n",
       "            Normalized EBITDA  Tax Rate For Calcs  \\\n",
       "2021-02-13       3.688300e+10               0.144   \n",
       "2021-02-14       3.688300e+10               0.144   \n",
       "2021-02-15       3.688300e+10               0.144   \n",
       "2021-02-16       3.688300e+10               0.144   \n",
       "2021-02-17       3.688300e+10               0.144   \n",
       "\n",
       "            Tax Effect Of Unusual Items  Total Assets  Current Assets  \\\n",
       "2021-02-13                          0.0  3.238880e+11    1.437130e+11   \n",
       "2021-02-14                          0.0  3.238880e+11    1.437130e+11   \n",
       "2021-02-15                          0.0  3.238880e+11    1.437130e+11   \n",
       "2021-02-16                          0.0  3.238880e+11    1.437130e+11   \n",
       "2021-02-17                          0.0  3.238880e+11    1.437130e+11   \n",
       "\n",
       "            Cash Cash Equivalents And Short Term Investments  \\\n",
       "2021-02-13                                      9.094300e+10   \n",
       "2021-02-14                                      9.094300e+10   \n",
       "2021-02-15                                      9.094300e+10   \n",
       "2021-02-16                                      9.094300e+10   \n",
       "2021-02-17                                      9.094300e+10   \n",
       "\n",
       "            Cash And Cash Equivalents  Cash Financial  Cash Equivalents  \\\n",
       "2021-02-13               3.801600e+10    1.777300e+10      2.024300e+10   \n",
       "2021-02-14               3.801600e+10    1.777300e+10      2.024300e+10   \n",
       "2021-02-15               3.801600e+10    1.777300e+10      2.024300e+10   \n",
       "2021-02-16               3.801600e+10    1.777300e+10      2.024300e+10   \n",
       "2021-02-17               3.801600e+10    1.777300e+10      2.024300e+10   \n",
       "\n",
       "            Other Short Term Investments   Receivables  Accounts Receivable  \\\n",
       "2021-02-13                  5.292700e+10  3.744500e+10         1.612000e+10   \n",
       "2021-02-14                  5.292700e+10  3.744500e+10         1.612000e+10   \n",
       "2021-02-15                  5.292700e+10  3.744500e+10         1.612000e+10   \n",
       "2021-02-16                  5.292700e+10  3.744500e+10         1.612000e+10   \n",
       "2021-02-17                  5.292700e+10  3.744500e+10         1.612000e+10   \n",
       "\n",
       "            Other Receivables     Inventory  Other Current Assets  \\\n",
       "2021-02-13       2.132500e+10  4.061000e+09          1.126400e+10   \n",
       "2021-02-14       2.132500e+10  4.061000e+09          1.126400e+10   \n",
       "2021-02-15       2.132500e+10  4.061000e+09          1.126400e+10   \n",
       "2021-02-16       2.132500e+10  4.061000e+09          1.126400e+10   \n",
       "2021-02-17       2.132500e+10  4.061000e+09          1.126400e+10   \n",
       "\n",
       "            Total Non Current Assets       Net PPE     Gross PPE  Properties  \\\n",
       "2021-02-13              1.801750e+11  3.676600e+10  1.035260e+11         0.0   \n",
       "2021-02-14              1.801750e+11  3.676600e+10  1.035260e+11         0.0   \n",
       "2021-02-15              1.801750e+11  3.676600e+10  1.035260e+11         0.0   \n",
       "2021-02-16              1.801750e+11  3.676600e+10  1.035260e+11         0.0   \n",
       "2021-02-17              1.801750e+11  3.676600e+10  1.035260e+11         0.0   \n",
       "\n",
       "            Land And Improvements  Machinery Furniture Equipment  \\\n",
       "2021-02-13           1.795200e+10                   7.529100e+10   \n",
       "2021-02-14           1.795200e+10                   7.529100e+10   \n",
       "2021-02-15           1.795200e+10                   7.529100e+10   \n",
       "2021-02-16           1.795200e+10                   7.529100e+10   \n",
       "2021-02-17           1.795200e+10                   7.529100e+10   \n",
       "\n",
       "                  Leases  Accumulated Depreciation  Investments And Advances  \\\n",
       "2021-02-13  1.028300e+10             -6.676000e+10              1.008870e+11   \n",
       "2021-02-14  1.028300e+10             -6.676000e+10              1.008870e+11   \n",
       "2021-02-15  1.028300e+10             -6.676000e+10              1.008870e+11   \n",
       "2021-02-16  1.028300e+10             -6.676000e+10              1.008870e+11   \n",
       "2021-02-17  1.028300e+10             -6.676000e+10              1.008870e+11   \n",
       "\n",
       "            Investmentin Financial Assets  Available For Sale Securities  \\\n",
       "2021-02-13                   1.008870e+11                   1.008870e+11   \n",
       "2021-02-14                   1.008870e+11                   1.008870e+11   \n",
       "2021-02-15                   1.008870e+11                   1.008870e+11   \n",
       "2021-02-16                   1.008870e+11                   1.008870e+11   \n",
       "2021-02-17                   1.008870e+11                   1.008870e+11   \n",
       "\n",
       "            Other Non Current Assets  Total Liabilities Net Minority Interest  \\\n",
       "2021-02-13              4.252200e+10                             2.585490e+11   \n",
       "2021-02-14              4.252200e+10                             2.585490e+11   \n",
       "2021-02-15              4.252200e+10                             2.585490e+11   \n",
       "2021-02-16              4.252200e+10                             2.585490e+11   \n",
       "2021-02-17              4.252200e+10                             2.585490e+11   \n",
       "\n",
       "            Current Liabilities  Payables And Accrued Expenses      Payables  \\\n",
       "2021-02-13         1.053920e+11                   4.229600e+10  4.229600e+10   \n",
       "2021-02-14         1.053920e+11                   4.229600e+10  4.229600e+10   \n",
       "2021-02-15         1.053920e+11                   4.229600e+10  4.229600e+10   \n",
       "2021-02-16         1.053920e+11                   4.229600e+10  4.229600e+10   \n",
       "2021-02-17         1.053920e+11                   4.229600e+10  4.229600e+10   \n",
       "\n",
       "            Accounts Payable  Current Debt And Capital Lease Obligation  \\\n",
       "2021-02-13      4.229600e+10                               1.376900e+10   \n",
       "2021-02-14      4.229600e+10                               1.376900e+10   \n",
       "2021-02-15      4.229600e+10                               1.376900e+10   \n",
       "2021-02-16      4.229600e+10                               1.376900e+10   \n",
       "2021-02-17      4.229600e+10                               1.376900e+10   \n",
       "\n",
       "            Current Debt  Commercial Paper  Other Current Borrowings  \\\n",
       "2021-02-13  1.376900e+10      4.996000e+09              8.773000e+09   \n",
       "2021-02-14  1.376900e+10      4.996000e+09              8.773000e+09   \n",
       "2021-02-15  1.376900e+10      4.996000e+09              8.773000e+09   \n",
       "2021-02-16  1.376900e+10      4.996000e+09              8.773000e+09   \n",
       "2021-02-17  1.376900e+10      4.996000e+09              8.773000e+09   \n",
       "\n",
       "            Current Deferred Liabilities  Current Deferred Revenue  \\\n",
       "2021-02-13                  6.643000e+09              6.643000e+09   \n",
       "2021-02-14                  6.643000e+09              6.643000e+09   \n",
       "2021-02-15                  6.643000e+09              6.643000e+09   \n",
       "2021-02-16                  6.643000e+09              6.643000e+09   \n",
       "2021-02-17                  6.643000e+09              6.643000e+09   \n",
       "\n",
       "            Other Current Liabilities  \\\n",
       "2021-02-13               4.268400e+10   \n",
       "2021-02-14               4.268400e+10   \n",
       "2021-02-15               4.268400e+10   \n",
       "2021-02-16               4.268400e+10   \n",
       "2021-02-17               4.268400e+10   \n",
       "\n",
       "            Total Non Current Liabilities Net Minority Interest  \\\n",
       "2021-02-13                                       1.531570e+11     \n",
       "2021-02-14                                       1.531570e+11     \n",
       "2021-02-15                                       1.531570e+11     \n",
       "2021-02-16                                       1.531570e+11     \n",
       "2021-02-17                                       1.531570e+11     \n",
       "\n",
       "            Long Term Debt And Capital Lease Obligation  Long Term Debt  \\\n",
       "2021-02-13                                 9.866700e+10    9.866700e+10   \n",
       "2021-02-14                                 9.866700e+10    9.866700e+10   \n",
       "2021-02-15                                 9.866700e+10    9.866700e+10   \n",
       "2021-02-16                                 9.866700e+10    9.866700e+10   \n",
       "2021-02-17                                 9.866700e+10    9.866700e+10   \n",
       "\n",
       "            Tradeand Other Payables Non Current  \\\n",
       "2021-02-13                         2.817000e+10   \n",
       "2021-02-14                         2.817000e+10   \n",
       "2021-02-15                         2.817000e+10   \n",
       "2021-02-16                         2.817000e+10   \n",
       "2021-02-17                         2.817000e+10   \n",
       "\n",
       "            Other Non Current Liabilities  \\\n",
       "2021-02-13                   2.632000e+10   \n",
       "2021-02-14                   2.632000e+10   \n",
       "2021-02-15                   2.632000e+10   \n",
       "2021-02-16                   2.632000e+10   \n",
       "2021-02-17                   2.632000e+10   \n",
       "\n",
       "            Total Equity Gross Minority Interest  Stockholders Equity  \\\n",
       "2021-02-13                          6.533900e+10         6.533900e+10   \n",
       "2021-02-14                          6.533900e+10         6.533900e+10   \n",
       "2021-02-15                          6.533900e+10         6.533900e+10   \n",
       "2021-02-16                          6.533900e+10         6.533900e+10   \n",
       "2021-02-17                          6.533900e+10         6.533900e+10   \n",
       "\n",
       "            Capital Stock  Common Stock  Retained Earnings  \\\n",
       "2021-02-13   5.077900e+10  5.077900e+10       1.496600e+10   \n",
       "2021-02-14   5.077900e+10  5.077900e+10       1.496600e+10   \n",
       "2021-02-15   5.077900e+10  5.077900e+10       1.496600e+10   \n",
       "2021-02-16   5.077900e+10  5.077900e+10       1.496600e+10   \n",
       "2021-02-17   5.077900e+10  5.077900e+10       1.496600e+10   \n",
       "\n",
       "            Gains Losses Not Affecting Retained Earnings  \\\n",
       "2021-02-13                                  -406000000.0   \n",
       "2021-02-14                                  -406000000.0   \n",
       "2021-02-15                                  -406000000.0   \n",
       "2021-02-16                                  -406000000.0   \n",
       "2021-02-17                                  -406000000.0   \n",
       "\n",
       "            Total Capitalization  Common Stock Equity  Net Tangible Assets  \\\n",
       "2021-02-13          1.640060e+11         6.533900e+10         6.533900e+10   \n",
       "2021-02-14          1.640060e+11         6.533900e+10         6.533900e+10   \n",
       "2021-02-15          1.640060e+11         6.533900e+10         6.533900e+10   \n",
       "2021-02-16          1.640060e+11         6.533900e+10         6.533900e+10   \n",
       "2021-02-17          1.640060e+11         6.533900e+10         6.533900e+10   \n",
       "\n",
       "            Working Capital  Invested Capital  Tangible Book Value  \\\n",
       "2021-02-13     3.832100e+10      1.777750e+11         6.533900e+10   \n",
       "2021-02-14     3.832100e+10      1.777750e+11         6.533900e+10   \n",
       "2021-02-15     3.832100e+10      1.777750e+11         6.533900e+10   \n",
       "2021-02-16     3.832100e+10      1.777750e+11         6.533900e+10   \n",
       "2021-02-17     3.832100e+10      1.777750e+11         6.533900e+10   \n",
       "\n",
       "              Total Debt      Net Debt  Share Issued  Ordinary Shares Number  \n",
       "2021-02-13  1.124360e+11  7.442000e+10  1.697676e+10            1.697676e+10  \n",
       "2021-02-14  1.124360e+11  7.442000e+10  1.697676e+10            1.697676e+10  \n",
       "2021-02-15  1.124360e+11  7.442000e+10  1.697676e+10            1.697676e+10  \n",
       "2021-02-16  1.124360e+11  7.442000e+10  1.697676e+10            1.697676e+10  \n",
       "2021-02-17  1.124360e+11  7.442000e+10  1.697676e+10            1.697676e+10  "
      ]
     },
     "execution_count": 34,
     "metadata": {},
     "output_type": "execute_result"
    }
   ],
   "source": [
    "df.tail()"
   ]
  },
  {
   "cell_type": "code",
   "execution_count": null,
   "metadata": {},
   "outputs": [],
   "source": []
  },
  {
   "cell_type": "markdown",
   "metadata": {},
   "source": [
    "### Trade Strategy\n",
    "local minimum to buy, local maximum to sell, other time to hold."
   ]
  },
  {
   "cell_type": "code",
   "execution_count": null,
   "metadata": {},
   "outputs": [],
   "source": [
    "# FFT\n",
    "# z = np.fft.fft(df.Close)\n",
    "# Z = np.fft.fftshift(z)\n",
    "# plt.plot(Z)\n",
    "# plt.show()\n",
    "# z = [0 if s>=-400 and s<=400 else s for s in z]\n",
    "# #z[40:1300]=0\n",
    "# l=np.fft.ifft(z)\n",
    "# plt.plot(np.real(l))"
   ]
  },
  {
   "cell_type": "code",
   "execution_count": 35,
   "metadata": {},
   "outputs": [],
   "source": [
    "data['decision'] = 'hold'"
   ]
  },
  {
   "cell_type": "code",
   "execution_count": 36,
   "metadata": {},
   "outputs": [],
   "source": [
    "for i in range(1, len(df)-1):\n",
    "    if data.Close[i-1] > data.Close[i] < data.Close[i+1]: data['decision'][i] = 'buy'\n",
    "    elif data.Close[i-1] < data.Close[i] > data.Close[i+1]: data['decision'][i] = 'sell'"
   ]
  },
  {
   "cell_type": "code",
   "execution_count": 37,
   "metadata": {},
   "outputs": [
    {
     "data": {
      "text/plain": [
       "Text(0, 0.5, 'Count')"
      ]
     },
     "execution_count": 37,
     "metadata": {},
     "output_type": "execute_result"
    },
    {
     "data": {
      "image/png": "[encoded data removed]",
      "text/plain": [
       "<Figure size 432x288 with 1 Axes>"
      ]
     },
     "metadata": {},
     "output_type": "display_data"
    }
   ],
   "source": [
    "sns.barplot(x=['buy','hold','sell'], y=data.groupby('decision').size())\n",
    "plt.xlabel('Trade Strategy')\n",
    "plt.ylabel('Count')\n",
    "#plt.savefig('images/trade.jpeg', format='jpeg')"
   ]
  },
  {
   "cell_type": "code",
   "execution_count": 383,
   "metadata": {},
   "outputs": [],
   "source": []
  },
  {
   "cell_type": "markdown",
   "metadata": {},
   "source": [
    "### PCA"
   ]
  },
  {
   "cell_type": "code",
   "execution_count": 38,
   "metadata": {},
   "outputs": [],
   "source": [
    "X = df\n",
    "y = data.decision\n",
    "\n",
    "X_train, X_test, y_train, y_test = train_test_split(X, y, test_size=0.2, random_state=34)"
   ]
  },
  {
   "cell_type": "code",
   "execution_count": 39,
   "metadata": {},
   "outputs": [],
   "source": [
    "pca = PCA(n_components=.95)\n",
    "X_train = pca.fit_transform(X_train)\n",
    "X_test = pca.transform(X_test)"
   ]
  },
  {
   "cell_type": "code",
   "execution_count": 42,
   "metadata": {},
   "outputs": [
    {
     "data": {
      "image/png": "[encoded data removed]",
      "text/plain": [
       "<Figure size 432x288 with 1 Axes>"
      ]
     },
     "metadata": {},
     "output_type": "display_data"
    }
   ],
   "source": [
    "index = np.arange(3)\n",
    "plt.bar(index, pca.explained_variance_ratio_)\n",
    "plt.title('Scree plot for PCA')\n",
    "plt.xlabel('Num of components')\n",
    "plt.ylabel('proportion of explained variance')\n",
    "#plt.savefig('images/pca.jpeg', format='jpeg')"
   ]
  },
  {
   "cell_type": "code",
   "execution_count": null,
   "metadata": {},
   "outputs": [],
   "source": []
  },
  {
   "cell_type": "markdown",
   "metadata": {},
   "source": [
    "### SMOTE and ADASYN\n",
    "imbalance data problem"
   ]
  },
  {
   "cell_type": "code",
   "execution_count": null,
   "metadata": {},
   "outputs": [],
   "source": [
    "from imblearn.over_sampling import SMOTE, ADASYN\n",
    "\n",
    "smote = SMOTE()\n",
    "X_train, y_train = smote.fit_sample(X_train, y_train)"
   ]
  },
  {
   "cell_type": "code",
   "execution_count": null,
   "metadata": {},
   "outputs": [],
   "source": [
    "# adasyn = ADASYN()\n",
    "# X_train, y_train = adasyn.fit_sample(X_train, y_train)"
   ]
  },
  {
   "cell_type": "code",
   "execution_count": null,
   "metadata": {},
   "outputs": [],
   "source": []
  },
  {
   "cell_type": "code",
   "execution_count": null,
   "metadata": {},
   "outputs": [],
   "source": []
  },
  {
   "cell_type": "markdown",
   "metadata": {},
   "source": [
    "### SVM"
   ]
  },
  {
   "cell_type": "code",
   "execution_count": 43,
   "metadata": {},
   "outputs": [],
   "source": [
    "pipe = Pipeline([('ss', StandardScaler()), ('svm', SVC())])\n",
    "                 \n",
    "param_grid = {'svm__kernel': ['linear', 'polynomial', 'rbf','sigmoid'],\n",
    "              'svm__C': [0.0001, 0.01, 0.1, 1]}\n",
    "\n",
    "grid_svm = GridSearchCV(estimator=pipe, param_grid=param_grid, n_jobs=-1)\n",
    "grid_svm.fit(X_train, y_train)\n",
    "\n",
    "train_pred_svm = grid_svm.predict(X_train)\n",
    "test_pred_svm = grid_svm.predict(X_test)"
   ]
  },
  {
   "cell_type": "code",
   "execution_count": 871,
   "metadata": {},
   "outputs": [
    {
     "name": "stdout",
     "output_type": "stream",
     "text": [
      "Training accuracy score: 0.6844660194174758\n",
      "Test accuracy score: 0.6740463215258855\n",
      "Training F1 score: 0.6844660194174758\n",
      "Test F1 score: 0.6740463215258855\n",
      "              precision    recall  f1-score   support\n",
      "\n",
      "         buy       0.00      0.00      0.00       462\n",
      "        hold       0.67      1.00      0.81      1979\n",
      "        sell       0.00      0.00      0.00       495\n",
      "\n",
      "    accuracy                           0.67      2936\n",
      "   macro avg       0.22      0.33      0.27      2936\n",
      "weighted avg       0.45      0.67      0.54      2936\n",
      "\n"
     ]
    }
   ],
   "source": [
    "# metric evaluation\n",
    "train_accu_svm = accuracy_score(y_train, train_pred_svm)\n",
    "test_accu_svm = accuracy_score(y_test, test_pred_svm)\n",
    "print('Training accuracy score: {}'.format(train_accu_svm))\n",
    "print('Test accuracy score: {}'.format(test_accu_svm))\n",
    "\n",
    "train_f1_svm = f1_score(y_train, train_pred_svm, average='micro')\n",
    "test_f1_svm = f1_score(y_test, test_pred_svm, average='micro')\n",
    "print('Training F1 score: {}'.format(train_f1_svm))\n",
    "print('Test F1 score: {}'.format(test_f1_svm))\n",
    "\n",
    "print(classification_report(y_test, test_pred_svm))"
   ]
  },
  {
   "cell_type": "code",
   "execution_count": 51,
   "metadata": {},
   "outputs": [],
   "source": [
    "from sklearn.metrics import plot_confusion_matrix"
   ]
  },
  {
   "cell_type": "code",
   "execution_count": 52,
   "metadata": {},
   "outputs": [
    {
     "data": {
      "text/plain": [
       "<sklearn.metrics._plot.confusion_matrix.ConfusionMatrixDisplay at 0x7f9db7f06fd0>"
      ]
     },
     "execution_count": 52,
     "metadata": {},
     "output_type": "execute_result"
    },
    {
     "data": {
      "image/png": "[encoded data removed]",
      "text/plain": [
       "<Figure size 432x288 with 2 Axes>"
      ]
     },
     "metadata": {},
     "output_type": "display_data"
    }
   ],
   "source": [
    "plot_confusion_matrix(grid_svm, X_train, y_train)"
   ]
  },
  {
   "cell_type": "code",
   "execution_count": null,
   "metadata": {},
   "outputs": [],
   "source": []
  },
  {
   "cell_type": "code",
   "execution_count": 44,
   "metadata": {},
   "outputs": [],
   "source": [
    "from sklearn.ensemble import RandomForestClassifier"
   ]
  },
  {
   "cell_type": "code",
   "execution_count": 45,
   "metadata": {},
   "outputs": [],
   "source": [
    "pipe = Pipeline([('ss', StandardScaler()), ('rf', RandomForestClassifier())])\n",
    "\n",
    "param_grid = {'rf__n_estimators': [20],\n",
    "              'rf__criterion': ['gini', \"entropy\"],    \n",
    "              'rf__max_depth': [4, 6, 8],\n",
    "              'rf__max_features': [3, 4, 7],\n",
    "              'rf__min_samples_split': [2, 5, 10],\n",
    "              'rf__min_samples_leaf': [1, 3, 6]}\n",
    "\n",
    "grid_rf = GridSearchCV(estimator=pipe, param_grid=param_grid, n_jobs=-1)\n",
    "grid_rf.fit(X_train, y_train)\n",
    "\n",
    "train_pred_rf = grid_rf.predict(X_train)\n",
    "test_pred_rf = grid_rf.predict(X_test)"
   ]
  },
  {
   "cell_type": "code",
   "execution_count": 46,
   "metadata": {},
   "outputs": [
    {
     "name": "stdout",
     "output_type": "stream",
     "text": [
      "Training accuracy score: 0.6844660194174758\n",
      "Test accuracy score: 0.6740463215258855\n",
      "Training F1 score: 0.6844660194174758\n",
      "Test F1 score: 0.6740463215258855\n",
      "              precision    recall  f1-score   support\n",
      "\n",
      "         buy       0.00      0.00      0.00       462\n",
      "        hold       0.67      1.00      0.81      1979\n",
      "        sell       0.00      0.00      0.00       495\n",
      "\n",
      "    accuracy                           0.67      2936\n",
      "   macro avg       0.22      0.33      0.27      2936\n",
      "weighted avg       0.45      0.67      0.54      2936\n",
      "\n"
     ]
    }
   ],
   "source": [
    "# metric evaluation\n",
    "train_accu_rf = accuracy_score(y_train, train_pred_rf)\n",
    "test_accu_rf = accuracy_score(y_test, test_pred_rf)\n",
    "print('Training accuracy score: {}'.format(train_accu_rf))\n",
    "print('Test accuracy score: {}'.format(test_accu_rf))\n",
    "\n",
    "train_f1_rf = f1_score(y_train, train_pred_rf, average='micro')\n",
    "test_f1_rf = f1_score(y_test, test_pred_rf, average='micro')\n",
    "print('Training F1 score: {}'.format(train_f1_rf))\n",
    "print('Test F1 score: {}'.format(test_f1_rf))\n",
    "\n",
    "print(classification_report(y_test, test_pred_rf))"
   ]
  },
  {
   "cell_type": "code",
   "execution_count": 864,
   "metadata": {},
   "outputs": [
    {
     "data": {
      "text/plain": [
       "<sklearn.metrics._plot.confusion_matrix.ConfusionMatrixDisplay at 0x7f7ffc02a160>"
      ]
     },
     "execution_count": 864,
     "metadata": {},
     "output_type": "execute_result"
    },
    {
     "data": {
      "image/png": "[encoded data removed]",
      "text/plain": [
       "<Figure size 432x288 with 2 Axes>"
      ]
     },
     "metadata": {},
     "output_type": "display_data"
    }
   ],
   "source": [
    "plot_confusion_matrix(grid_svm, X_test, y_test)"
   ]
  },
  {
   "cell_type": "code",
   "execution_count": null,
   "metadata": {},
   "outputs": [],
   "source": []
  },
  {
   "cell_type": "code",
   "execution_count": 47,
   "metadata": {},
   "outputs": [],
   "source": [
    "from xgboost import XGBClassifier"
   ]
  },
  {
   "cell_type": "code",
   "execution_count": 48,
   "metadata": {},
   "outputs": [
    {
     "name": "stdout",
     "output_type": "stream",
     "text": [
      "[09:25:01] WARNING: /Users/runner/miniforge3/conda-bld/xgboost_1598185652448/work/src/learner.cc:516: \n",
      "Parameters: { criterion, max_features, min_samples_leaf, min_samples_split } might not be used.\n",
      "\n",
      "  This may not be accurate due to some parameters are only used in language bindings but\n",
      "  passed down to XGBoost core.  Or some parameters are not used but slip through this\n",
      "  verification. Please open an issue if you find above cases.\n",
      "\n",
      "\n"
     ]
    }
   ],
   "source": [
    "pipe = Pipeline([('ss', StandardScaler()), ('xgb', XGBClassifier())])\n",
    "\n",
    "param_grid = {\n",
    "              'xgb__n_estimators': [10],\n",
    "              'xgb__criterion': ['gini', \"entropy\"],    \n",
    "              'xgb__max_depth': [4, 6, 8],\n",
    "              'xgb__max_features': [3, 4, 7],\n",
    "              'xgb__min_samples_split': [2, 5, 10],\n",
    "              'xgb__min_samples_leaf': [1, 3, 6],              \n",
    "#               'xgb__learning_rate': [0.2],\n",
    "#               'xgb__min_child_weight': [1, 2],\n",
    "#               'xgb__subsample': [0.5]\n",
    "             }\n",
    "\n",
    "grid_xgb = GridSearchCV(estimator=pipe, param_grid=param_grid, n_jobs=-1)\n",
    "grid_xgb.fit(X_train, y_train)\n",
    "\n",
    "train_pred_xgb = grid_xgb.predict(X_train)\n",
    "test_pred_xgb = grid_xgb.predict(X_test)"
   ]
  },
  {
   "cell_type": "code",
   "execution_count": 49,
   "metadata": {},
   "outputs": [
    {
     "name": "stdout",
     "output_type": "stream",
     "text": [
      "Training accuracy score: 0.6844660194174758\n",
      "Test accuracy score: 0.6740463215258855\n",
      "Training F1 score: 0.6844660194174758\n",
      "Test F1 score: 0.6740463215258855\n",
      "              precision    recall  f1-score   support\n",
      "\n",
      "         buy       0.00      0.00      0.00       462\n",
      "        hold       0.67      1.00      0.81      1979\n",
      "        sell       0.00      0.00      0.00       495\n",
      "\n",
      "    accuracy                           0.67      2936\n",
      "   macro avg       0.22      0.33      0.27      2936\n",
      "weighted avg       0.45      0.67      0.54      2936\n",
      "\n"
     ]
    }
   ],
   "source": [
    "# metric evaluation\n",
    "train_accu_xgb = accuracy_score(y_train, train_pred_xgb)\n",
    "test_accu_xgb = accuracy_score(y_test, test_pred_xgb)\n",
    "print('Training accuracy score: {}'.format(train_accu_xgb))\n",
    "print('Test accuracy score: {}'.format(test_accu_xgb))\n",
    "\n",
    "train_f1_xgb = f1_score(y_train, train_pred_xgb, average='micro')\n",
    "test_f1_xgb = f1_score(y_test, test_pred_xgb, average='micro')\n",
    "print('Training F1 score: {}'.format(train_f1_xgb))\n",
    "print('Test F1 score: {}'.format(test_f1_xgb))\n",
    "\n",
    "print(classification_report(y_test, test_pred_xgb))"
   ]
  },
  {
   "cell_type": "code",
   "execution_count": 53,
   "metadata": {},
   "outputs": [
    {
     "data": {
      "text/plain": [
       "<sklearn.metrics._plot.confusion_matrix.ConfusionMatrixDisplay at 0x7f9dd7b9dc40>"
      ]
     },
     "execution_count": 53,
     "metadata": {},
     "output_type": "execute_result"
    },
    {
     "data": {
      "image/png": "[encoded data removed]",
      "text/plain": [
       "<Figure size 432x288 with 2 Axes>"
      ]
     },
     "metadata": {},
     "output_type": "display_data"
    }
   ],
   "source": [
    "plot_confusion_matrix(grid_svm, X_test, y_test)"
   ]
  },
  {
   "cell_type": "code",
   "execution_count": null,
   "metadata": {},
   "outputs": [],
   "source": []
  },
  {
   "cell_type": "markdown",
   "metadata": {},
   "source": [
    "## Data Preparation"
   ]
  },
  {
   "cell_type": "markdown",
   "metadata": {},
   "source": [
    "### Exploratory Data Analysis"
   ]
  },
  {
   "cell_type": "code",
   "execution_count": 311,
   "metadata": {},
   "outputs": [
    {
     "data": {
      "image/png": "[encoded data removed]",
      "text/plain": [
       "<Figure size 1440x216 with 4 Axes>"
      ]
     },
     "metadata": {},
     "output_type": "display_data"
    }
   ],
   "source": [
    "# plot target variables\n",
    "fig, ax = plt.subplots(1, 4, figsize=(20,3))\n",
    "sns.lineplot(data=df.Open, ax=ax[0])\n",
    "ax[0].set_title('open')\n",
    "sns.lineplot(data=df.High, ax=ax[1])\n",
    "ax[1].set_title('high')\n",
    "sns.lineplot(data=df.Low, ax=ax[2])\n",
    "ax[2].set_title('low')\n",
    "sns.lineplot(data=df.Close, ax=ax[3])\n",
    "ax[3].set_title('close')\n",
    "# plt.subplots_adjust(hspace = 0.5)\n",
    "#plt.savefig('images/ohlc.jpeg', format='jpeg')"
   ]
  },
  {
   "cell_type": "code",
   "execution_count": null,
   "metadata": {},
   "outputs": [],
   "source": []
  },
  {
   "cell_type": "markdown",
   "metadata": {},
   "source": [
    "### Dickey-Fuller Test"
   ]
  },
  {
   "cell_type": "code",
   "execution_count": 183,
   "metadata": {},
   "outputs": [],
   "source": [
    "def stationarity_check(TS):       \n",
    "    # Perform the Dickey Fuller test\n",
    "    dftest = adfuller(TS)     \n",
    "    # Calculate rolling statistics\n",
    "    roll_mean = TS.rolling(window=7, center=False).mean()\n",
    "    roll_std = TS.rolling(window=7, center=False).std()    \n",
    "    # Plot rolling statistics:\n",
    "    #fig = plt.figure(figsize=(12,6))\n",
    "    orig = sns.lineplot(data=TS, palette=['blue'],label='Original')\n",
    "    mean = sns.lineplot(data=roll_mean, palette=['red'], label='Rolling Mean')\n",
    "    std = sns.lineplot(data=roll_std, palette=['black'], label='Rolling Std')\n",
    "    plt.legend(loc='best')\n",
    "    plt.title('Rolling Mean & Standard Deviation')\n",
    "    plt.show(block=False)    \n",
    "    # Print Dickey-Fuller test results\n",
    "    print('Results of Dickey-Fuller Test: \\n')\n",
    "    dfoutput = pd.Series(dftest[0:4], index=['Test Statistic', 'p-value', '#Lags Used', 'Number of Observations Used'])                   \n",
    "    for key, value in dftest[4].items():\n",
    "        dfoutput['Critical Value (%s)'%key] = value\n",
    "    print(dfoutput)"
   ]
  },
  {
   "cell_type": "code",
   "execution_count": 208,
   "metadata": {},
   "outputs": [],
   "source": [
    "# Apply seasonal_decompose()\n",
    "decomposition = seasonal_decompose(df.Close)\n",
    "# Gather the trend, seasonality, and residuals \n",
    "trend = decomposition.trend\n",
    "seasonal = decomposition.seasonal\n",
    "residual = decomposition.resid"
   ]
  },
  {
   "cell_type": "code",
   "execution_count": 209,
   "metadata": {},
   "outputs": [
    {
     "data": {
      "image/png": "[encoded data removed]",
      "text/plain": [
       "<Figure size 1152x288 with 4 Axes>"
      ]
     },
     "metadata": {},
     "output_type": "display_data"
    }
   ],
   "source": [
    "# Plot gathered statistics\n",
    "fig, ax = plt.subplots(2, 2, figsize=(16,4))\n",
    "sns.lineplot(data=df.Close, label='Original', ax=ax[0][0])\n",
    "sns.lineplot(data=trend, label='Trend', ax=ax[0][1])\n",
    "sns.lineplot(data=seasonal,label='Seasonality', ax=ax[1][0])\n",
    "sns.lineplot(data=residual, label='Residuals', ax=ax[1][1])\n",
    "plt.tight_layout()"
   ]
  },
  {
   "cell_type": "code",
   "execution_count": 210,
   "metadata": {},
   "outputs": [
    {
     "data": {
      "image/png": "[encoded data removed]",
      "text/plain": [
       "<Figure size 432x288 with 1 Axes>"
      ]
     },
     "metadata": {},
     "output_type": "display_data"
    },
    {
     "name": "stdout",
     "output_type": "stream",
     "text": [
      "Results of Dickey-Fuller Test: \n",
      "\n",
      "Test Statistic                    3.035861\n",
      "p-value                           1.000000\n",
      "#Lags Used                       13.000000\n",
      "Number of Observations Used    3679.000000\n",
      "Critical Value (1%)              -3.432129\n",
      "Critical Value (5%)              -2.862326\n",
      "Critical Value (10%)             -2.567188\n",
      "dtype: float64\n"
     ]
    }
   ],
   "source": [
    "stationarity_check(df.Close)"
   ]
  },
  {
   "cell_type": "code",
   "execution_count": 211,
   "metadata": {},
   "outputs": [
    {
     "data": {
      "image/png": "[encoded data removed]",
      "text/plain": [
       "<Figure size 864x288 with 2 Axes>"
      ]
     },
     "metadata": {},
     "output_type": "display_data"
    }
   ],
   "source": [
    "# Plot deaths ACF & PACF\n",
    "fig, ax = plt.subplots(1, 2, figsize=(12,4))\n",
    "plot_acf(df['Close'], title='Close Price Autocorrelation', ax=ax[0]);\n",
    "plot_pacf(df['Close'], title='Close Price Partial Autocorrelation', ax=ax[1]);\n",
    "#plt.savefig('images/acf.jpeg', format='jpeg')"
   ]
  },
  {
   "cell_type": "markdown",
   "metadata": {},
   "source": [
    "## Modeling"
   ]
  },
  {
   "cell_type": "markdown",
   "metadata": {},
   "source": [
    "### SARIMAX"
   ]
  },
  {
   "cell_type": "code",
   "execution_count": 6,
   "metadata": {},
   "outputs": [],
   "source": [
    "import statsmodels.api as sm"
   ]
  },
  {
   "cell_type": "code",
   "execution_count": 212,
   "metadata": {},
   "outputs": [],
   "source": [
    "# Define the p, d and q parameters to take any value between 0 and 2\n",
    "p = d = q = range(0, 2)\n",
    "\n",
    "# Generate all different combinations of p, q and q triplets\n",
    "pdq = list(itertools.product(p, d, q))\n",
    "\n",
    "# Generate all different combinations of seasonal p, q and q triplets\n",
    "pdqs = [(x[0], x[1], x[2], 12) for x in pdq]"
   ]
  },
  {
   "cell_type": "code",
   "execution_count": 213,
   "metadata": {
    "scrolled": true
   },
   "outputs": [],
   "source": [
    "# Run a grid with pdq and seasonal pdq parameters calculated above and get the best AIC value\n",
    "ans = []\n",
    "for comb in pdq:\n",
    "    for combs in pdqs:\n",
    "        try:\n",
    "            mod = sm.tsa.statespace.SARIMAX(df.Close,\n",
    "                                            order=comb,\n",
    "                                            seasonal_order=combs,\n",
    "                                            enforce_stationarity=False,\n",
    "                                            enforce_invertibility=False)\n",
    "\n",
    "            output = mod.fit()\n",
    "            ans.append([comb, combs, output.aic])\n",
    "        except:\n",
    "            continue"
   ]
  },
  {
   "cell_type": "code",
   "execution_count": 214,
   "metadata": {},
   "outputs": [
    {
     "data": {
      "text/plain": [
       "pdq         (1, 0, 1)\n",
       "pdqs    (0, 0, 1, 12)\n",
       "aic           8893.67\n",
       "Name: 41, dtype: object"
      ]
     },
     "execution_count": 214,
     "metadata": {},
     "output_type": "execute_result"
    }
   ],
   "source": [
    "# Find the parameters with minimal AIC value\n",
    "ans_df = pd.DataFrame(ans, columns=['pdq', 'pdqs', 'aic'])\n",
    "ans_df.loc[ans_df['aic'].idxmin()]"
   ]
  },
  {
   "cell_type": "code",
   "execution_count": 237,
   "metadata": {},
   "outputs": [
    {
     "data": {
      "text/html": [
       "<table class=\"simpletable\">\n",
       "<tr>\n",
       "        <td></td>          <th>coef</th>     <th>std err</th>      <th>z</th>      <th>P>|z|</th>  <th>[0.025</th>    <th>0.975]</th>  \n",
       "</tr>\n",
       "<tr>\n",
       "  <th>Open</th>         <td>   -0.4526</td> <td> 5.71e-05</td> <td>-7932.083</td> <td> 0.000</td> <td>   -0.453</td> <td>   -0.453</td>\n",
       "</tr>\n",
       "<tr>\n",
       "  <th>High</th>         <td>    0.7541</td> <td>  4.8e-05</td> <td> 1.57e+04</td> <td> 0.000</td> <td>    0.754</td> <td>    0.754</td>\n",
       "</tr>\n",
       "<tr>\n",
       "  <th>Low</th>          <td>    0.6987</td> <td> 6.12e-05</td> <td> 1.14e+04</td> <td> 0.000</td> <td>    0.699</td> <td>    0.699</td>\n",
       "</tr>\n",
       "<tr>\n",
       "  <th>Volume</th>       <td>-1.526e-11</td> <td> 4.91e-11</td> <td>   -0.311</td> <td> 0.756</td> <td>-1.12e-10</td> <td>  8.1e-11</td>\n",
       "</tr>\n",
       "<tr>\n",
       "  <th>Dividends</th>    <td>    0.6799</td> <td> 4.54e-08</td> <td>  1.5e+07</td> <td> 0.000</td> <td>    0.680</td> <td>    0.680</td>\n",
       "</tr>\n",
       "<tr>\n",
       "  <th>Stock Splits</th> <td>    0.0176</td> <td> 2.74e-07</td> <td> 6.43e+04</td> <td> 0.000</td> <td>    0.018</td> <td>    0.018</td>\n",
       "</tr>\n",
       "<tr>\n",
       "  <th>ar.L1</th>        <td>    0.3411</td> <td> 5.78e-05</td> <td> 5902.848</td> <td> 0.000</td> <td>    0.341</td> <td>    0.341</td>\n",
       "</tr>\n",
       "<tr>\n",
       "  <th>ma.L1</th>        <td>   -0.0880</td> <td> 6.52e-05</td> <td>-1349.148</td> <td> 0.000</td> <td>   -0.088</td> <td>   -0.088</td>\n",
       "</tr>\n",
       "<tr>\n",
       "  <th>ma.S.L12</th>     <td>   -0.0345</td> <td> 9.62e-06</td> <td>-3589.317</td> <td> 0.000</td> <td>   -0.035</td> <td>   -0.034</td>\n",
       "</tr>\n",
       "<tr>\n",
       "  <th>sigma2</th>       <td>    0.1311</td> <td>    0.001</td> <td>  206.830</td> <td> 0.000</td> <td>    0.130</td> <td>    0.132</td>\n",
       "</tr>\n",
       "</table>"
      ],
      "text/plain": [
       "<class 'statsmodels.iolib.table.SimpleTable'>"
      ]
     },
     "execution_count": 237,
     "metadata": {},
     "output_type": "execute_result"
    }
   ],
   "source": [
    "# Plug the optimal parameter values into a new SARIMAX model\n",
    "ARIMA_MODEL = sm.tsa.statespace.SARIMAX(df.Close,\n",
    "                                        exog=df.drop('Close', axis=1),\n",
    "                                        order=(1, 0, 1), \n",
    "                                        seasonal_order=(0, 0, 1, 12), \n",
    "                                        enforce_stationarity=False, \n",
    "                                        enforce_invertibility=False)\n",
    "\n",
    "# Fit the model and print results\n",
    "output = ARIMA_MODEL.fit()\n",
    "\n",
    "output.summary().tables[1]"
   ]
  },
  {
   "cell_type": "code",
   "execution_count": 238,
   "metadata": {},
   "outputs": [
    {
     "data": {
      "image/png": "[encoded data removed]",
      "text/plain": [
       "<Figure size 432x288 with 4 Axes>"
      ]
     },
     "metadata": {},
     "output_type": "display_data"
    }
   ],
   "source": [
    "# Call plot_diagnostics() on the results calculated above \n",
    "output.plot_diagnostics()\n",
    "plt.show()"
   ]
  },
  {
   "cell_type": "code",
   "execution_count": 287,
   "metadata": {},
   "outputs": [],
   "source": [
    "# Get predictions for training set and calculate confidence intervals\n",
    "pred = output.get_prediction(start=df.index[-180], dynamic=False)\n",
    "pred_conf = pred.conf_int()"
   ]
  },
  {
   "cell_type": "code",
   "execution_count": 301,
   "metadata": {},
   "outputs": [
    {
     "data": {
      "image/png": "[encoded data removed]",
      "text/plain": [
       "<Figure size 432x288 with 1 Axes>"
      ]
     },
     "metadata": {},
     "output_type": "display_data"
    }
   ],
   "source": [
    "# Plot real vs predicted values along with confidence interval\n",
    "# Plot observed values\n",
    "ax = df.Close['2011':].plot(label='observed')\n",
    "\n",
    "# Plot predicted values\n",
    "pred.predicted_mean.plot(ax=ax, label='One-step ahead Forecast', alpha=0.9)\n",
    "\n",
    "# Plot the range for confidence intervals\n",
    "ax.fill_between(pred_conf.index,\n",
    "                pred_conf.iloc[:, 0],\n",
    "                pred_conf.iloc[:, 1], color='g', alpha=0.5)\n",
    "\n",
    "# Set axes labels\n",
    "ax.set_xlabel('Date')\n",
    "ax.set_ylabel('Close Price')\n",
    "plt.legend()\n",
    "#plt.savefig('images/SARIMAX.jpeg', format='jpeg')"
   ]
  },
  {
   "cell_type": "code",
   "execution_count": 291,
   "metadata": {},
   "outputs": [
    {
     "name": "stdout",
     "output_type": "stream",
     "text": [
      "The RMSE of our forecasts is 1.15\n"
     ]
    }
   ],
   "source": [
    "# Get the real and predicted values\n",
    "close_forecasted = pred.predicted_mean\n",
    "close_truth = df.Close[-180:]\n",
    "\n",
    "# Compute the mean square error\n",
    "mse = ((close_forecasted - close_truth) ** 2).mean()\n",
    "print('The RMSE of our forecasts is {}'.format(round(mse**.5, 2)))"
   ]
  },
  {
   "cell_type": "code",
   "execution_count": 292,
   "metadata": {},
   "outputs": [
    {
     "name": "stdout",
     "output_type": "stream",
     "text": [
      "The RMSE of our forecasts is 1.15\n",
      "The MAE of our forecasts is 0.82\n"
     ]
    }
   ],
   "source": [
    "# calculate root mean squared error\n",
    "sarimax_rmse = mean_squared_error(close_truth, close_forecasted, squared=False)\n",
    "# calculate mean absolute error\n",
    "sarimax_mae = mean_absolute_error(close_truth, close_forecasted)\n",
    "\n",
    "print('The RMSE of our forecasts is {}'.format(round(sarimax_rmse, 2)))\n",
    "print('The MAE of our forecasts is {}'.format(round(sarimax_mae, 2)))"
   ]
  },
  {
   "cell_type": "code",
   "execution_count": 296,
   "metadata": {},
   "outputs": [],
   "source": [
    "# Get forecast 100 steps ahead in future\n",
    "prediction = output.get_forecast(steps=180, exog=df.drop('Close', axis=1)[-180:])\n",
    "\n",
    "# Get confidence intervals of forecasts\n",
    "pred_conf = prediction.conf_int()"
   ]
  },
  {
   "cell_type": "code",
   "execution_count": 298,
   "metadata": {},
   "outputs": [
    {
     "data": {
      "text/plain": [
       "<matplotlib.legend.Legend at 0x7f7fdb74f070>"
      ]
     },
     "execution_count": 298,
     "metadata": {},
     "output_type": "execute_result"
    },
    {
     "data": {
      "image/png": "[encoded data removed]",
      "text/plain": [
       "<Figure size 432x288 with 1 Axes>"
      ]
     },
     "metadata": {},
     "output_type": "display_data"
    }
   ],
   "source": [
    "ax = df.Close.plot(label='observed')\n",
    "prediction.predicted_mean.plot(ax=ax, label='Forecast')\n",
    "ax.fill_between(pred_conf.index,\n",
    "                pred_conf.iloc[:, 0],\n",
    "                pred_conf.iloc[:, 1], color='k', alpha=0.25)\n",
    "ax.set_xlabel('Date')\n",
    "ax.set_ylabel('close')\n",
    "\n",
    "plt.legend()"
   ]
  },
  {
   "cell_type": "code",
   "execution_count": null,
   "metadata": {},
   "outputs": [],
   "source": []
  },
  {
   "cell_type": "code",
   "execution_count": 109,
   "metadata": {},
   "outputs": [],
   "source": [
    "import time\n",
    "from itertools  import product\n",
    "import numpy as np\n",
    "import pandas as pd\n",
    "from joblib import Parallel,delayed\n",
    "import warnings\n",
    "warnings.filterwarnings('ignore')\n",
    "from warnings import catch_warnings,filterwarnings\n",
    "from statsmodels.tsa.statespace.sarimax import SARIMAX"
   ]
  },
  {
   "cell_type": "code",
   "execution_count": 110,
   "metadata": {},
   "outputs": [],
   "source": [
    "def model_forecast(history,config):\n",
    "    order, sorder, trend = config\n",
    "    model = SARIMAX(history, order=order, seasonal_order=sorder,trend=trend,enforce_stationarity=False, enforce_invertibility=False)\n",
    "    model_fit = model.fit(disp=False)\n",
    "    yhat = model_fit.predict(len(history), len(history))\n",
    "    return yhat[0]"
   ]
  },
  {
   "cell_type": "code",
   "execution_count": 111,
   "metadata": {},
   "outputs": [],
   "source": [
    "def mape(y_true, y_pred):\n",
    "    y_true, y_pred = np.array(y_true), np.array(y_pred)\n",
    "    return np.mean(np.abs((y_true - y_pred) / y_true)) * 100    \n",
    "\n",
    "\n",
    "def train_test_split(data, n_test):\n",
    "    return data[:-n_test], data[-n_test:]"
   ]
  },
  {
   "cell_type": "code",
   "execution_count": 112,
   "metadata": {},
   "outputs": [],
   "source": [
    "def forward_valid(data, n_test, cfg):\n",
    "    predictions = list()\n",
    "    train, test = train_test_split(data, n_test)\n",
    "    history = [x for x in train]\n",
    "    for i in range(len(test)):\n",
    "        yhat = model_forecast(history, cfg)\n",
    "        predictions.append(yhat)\n",
    "        history.append(test[i])\n",
    "    error = mape(test, predictions)\n",
    "    return error"
   ]
  },
  {
   "cell_type": "code",
   "execution_count": 113,
   "metadata": {},
   "outputs": [],
   "source": [
    "def score_model(data,n_test,cfg,debug=False):\n",
    "    result = None\n",
    "    key = str(cfg)\n",
    "    if debug:\n",
    "        result = forward_valid(data, n_test, cfg)\n",
    "    else:\n",
    "        try:\n",
    "            with catch_warnings():\n",
    "                filterwarnings(\"ignore\")\n",
    "                result = forward_valid(data, n_test, cfg)\n",
    "        except:\n",
    "            error = None\n",
    "            \n",
    "    return (key, result)"
   ]
  },
  {
   "cell_type": "code",
   "execution_count": 114,
   "metadata": {},
   "outputs": [],
   "source": [
    "def grid_search(data, cfg_list, n_test, parallel=True):\n",
    "    scores = None\n",
    "    if parallel:\n",
    "        executor = Parallel(n_jobs=-1, backend='multiprocessing')\n",
    "        tasks = (delayed(score_model)(data, n_test, cfg) for cfg in cfg_list)\n",
    "        scores = executor(tasks)\n",
    "        \n",
    "    else:\n",
    "        scores = [score_model(data, n_test, cfg) for cfg in cfg_list]\n",
    "    scores = [r for r in scores if r[1] != None]\n",
    "    scores.sort(key=lambda x: x[1])\n",
    "    return scores\n",
    "\n",
    "\n",
    "def sarima_configs(seasonal=[0]):   \n",
    "    p = d = q = [0,1,2]\n",
    "    pdq = list(product(p, d, q))\n",
    "    s = 0\n",
    "    seasonal_pdq = [(x[0], x[1], x[2], s) for x in list(product(p, d, q))]\n",
    "    t=['n','c','t','ct']\n",
    "    return list(product(pdq,seasonal_pdq,t))"
   ]
  },
  {
   "cell_type": "code",
   "execution_count": 115,
   "metadata": {},
   "outputs": [],
   "source": [
    "def train_model(sale_df):\n",
    "    \n",
    "    n_test = 3\n",
    "    p_b,d_b,q_b=[],[],[]\n",
    "    P_b,D_b,Q_b=[],[],[]\n",
    "    m_b,t_b=[],[]\n",
    "    model_id,error=[],[]\n",
    "    for i in sale_df['store_code'].unique():\n",
    "        data=sale_df[sale_df['store_code']==i]['y']\n",
    "        data=[i for i in data]\n",
    "        cfg_list = sarima_configs()\n",
    "        scores = grid_search(data,cfg_list,n_test,parallel=True)\n",
    "        p_b.append(int(scores[0][0][2]))\n",
    "        d_b.append(int(scores[0][0][5]))\n",
    "        q_b.append(int(scores[0][0][8]))\n",
    "        P_b.append(int(scores[0][0][13]))\n",
    "        D_b.append(int(scores[0][0][16]))\n",
    "        Q_b.append(int(scores[0][0][19]))\n",
    "        m_b.append(int(scores[0][0][22]))\n",
    "        t_b.append(str(scores[0][0][27]))\n",
    "        model_id.append(i)\n",
    "        error.append(scores[1][-1])\n",
    "        params_df=pd.DataFrame({'store_code': model_id, 'map': error,'p':p_b,'d':d_b,'q':q_b,'P':P_b,'D':D_b,'Q':Q_b,'m':m_b,'t':t_b})\n",
    "    return params_df"
   ]
  },
  {
   "cell_type": "code",
   "execution_count": 116,
   "metadata": {},
   "outputs": [],
   "source": [
    "def one_step_forecast(data,order,seasonal_order,t,h_fore):\n",
    "    predictions=list()\n",
    "    data=[i for i in data]\n",
    "    for i in range(h_fore):\n",
    "        model = SARIMAX(data, order=order, seasonal_order=seasonal_order,trend=t,enforce_stationarity=False, enforce_invertibility=False)\n",
    "        model_fit = model.fit(disp=False)\n",
    "        yhat = model_fit.predict(len(data), len(data))\n",
    "        data.append(yhat[0])\n",
    "        predictions.append(yhat[0])\n",
    "    return predictions\n",
    "\n",
    "\n",
    "def forecast_model(sale_df,params_df):\n",
    "    h_fore=4\n",
    "    fore_list=[]\n",
    "    model_id=[]\n",
    "    for i in sale_df['store_code'].unique():\n",
    "        #params_list=params_df[params_df['store_code']==i]\n",
    "        data=sale_df[sale_df['store_code']==i]['y']\n",
    "        p=params_df[params_df['store_code']==i].iloc[:,2].values[0]\n",
    "        d=params_df[params_df['store_code']==i].iloc[:,3].values[0]\n",
    "        q=params_df[params_df['store_code']==i].iloc[:,4].values[0]\n",
    "        P=params_df[params_df['store_code']==i].iloc[:,5].values[0]\n",
    "        D=params_df[params_df['store_code']==i].iloc[:,6].values[0]\n",
    "        Q=params_df[params_df['store_code']==i].iloc[:,7].values[0]\n",
    "        m=params_df[params_df['store_code']==i].iloc[:,8].values[0]\n",
    "        t=params_df[params_df['store_code']==i].iloc[:,9].values[0]\n",
    "        order=(p, d, q)\n",
    "        seasonal_order=(P,D,Q,m)\n",
    "        all_fore=one_step_forecast(data,order,seasonal_order,t,h_fore)\n",
    "        fore_list.append(all_fore)\n",
    "        \n",
    "        \n",
    "        #model=SARIMAX(data, order=order,seasonal_order=seasonal_order,trend=t,enforce_stationarity=False,\n",
    "        #                                                enforce_invertibility=False)\n",
    "        #forecast_=model.fit(disp=-1).forecast(steps=h_fore)\n",
    "        #fore_list_flatten = [x for x in forecast_]\n",
    "        #fore_list.append(fore_list_flatten)\n",
    "        model_id.append(i)\n",
    "    df_forecast = pd.DataFrame({'store_code': model_id, 'fore': fore_list})\n",
    "    return df_forecast"
   ]
  },
  {
   "cell_type": "code",
   "execution_count": 120,
   "metadata": {},
   "outputs": [
    {
     "ename": "KeyError",
     "evalue": "'store_code'",
     "output_type": "error",
     "traceback": [
      "\u001b[0;31m---------------------------------------------------------------------------\u001b[0m",
      "\u001b[0;31mKeyError\u001b[0m                                  Traceback (most recent call last)",
      "\u001b[0;32m~/opt/anaconda3/envs/learn-env/lib/python3.8/site-packages/pandas/core/indexes/base.py\u001b[0m in \u001b[0;36mget_loc\u001b[0;34m(self, key, method, tolerance)\u001b[0m\n\u001b[1;32m   2894\u001b[0m             \u001b[0;32mtry\u001b[0m\u001b[0;34m:\u001b[0m\u001b[0;34m\u001b[0m\u001b[0;34m\u001b[0m\u001b[0m\n\u001b[0;32m-> 2895\u001b[0;31m                 \u001b[0;32mreturn\u001b[0m \u001b[0mself\u001b[0m\u001b[0;34m.\u001b[0m\u001b[0m_engine\u001b[0m\u001b[0;34m.\u001b[0m\u001b[0mget_loc\u001b[0m\u001b[0;34m(\u001b[0m\u001b[0mcasted_key\u001b[0m\u001b[0;34m)\u001b[0m\u001b[0;34m\u001b[0m\u001b[0;34m\u001b[0m\u001b[0m\n\u001b[0m\u001b[1;32m   2896\u001b[0m             \u001b[0;32mexcept\u001b[0m \u001b[0mKeyError\u001b[0m \u001b[0;32mas\u001b[0m \u001b[0merr\u001b[0m\u001b[0;34m:\u001b[0m\u001b[0;34m\u001b[0m\u001b[0;34m\u001b[0m\u001b[0m\n",
      "\u001b[0;32mpandas/_libs/index.pyx\u001b[0m in \u001b[0;36mpandas._libs.index.IndexEngine.get_loc\u001b[0;34m()\u001b[0m\n",
      "\u001b[0;32mpandas/_libs/index.pyx\u001b[0m in \u001b[0;36mpandas._libs.index.IndexEngine.get_loc\u001b[0;34m()\u001b[0m\n",
      "\u001b[0;32mpandas/_libs/hashtable_class_helper.pxi\u001b[0m in \u001b[0;36mpandas._libs.hashtable.PyObjectHashTable.get_item\u001b[0;34m()\u001b[0m\n",
      "\u001b[0;32mpandas/_libs/hashtable_class_helper.pxi\u001b[0m in \u001b[0;36mpandas._libs.hashtable.PyObjectHashTable.get_item\u001b[0;34m()\u001b[0m\n",
      "\u001b[0;31mKeyError\u001b[0m: 'store_code'",
      "\nThe above exception was the direct cause of the following exception:\n",
      "\u001b[0;31mKeyError\u001b[0m                                  Traceback (most recent call last)",
      "\u001b[0;32m<ipython-input-120-ce402cf684b1>\u001b[0m in \u001b[0;36m<module>\u001b[0;34m\u001b[0m\n\u001b[1;32m      2\u001b[0m     \u001b[0mstart_time\u001b[0m\u001b[0;34m=\u001b[0m\u001b[0mtime\u001b[0m\u001b[0;34m.\u001b[0m\u001b[0mtime\u001b[0m\u001b[0;34m(\u001b[0m\u001b[0;34m)\u001b[0m\u001b[0;34m\u001b[0m\u001b[0;34m\u001b[0m\u001b[0m\n\u001b[1;32m      3\u001b[0m     \u001b[0msale_df\u001b[0m\u001b[0;34m=\u001b[0m\u001b[0mdata\u001b[0m\u001b[0;34m\u001b[0m\u001b[0;34m\u001b[0m\u001b[0m\n\u001b[0;32m----> 4\u001b[0;31m     \u001b[0mparams_df\u001b[0m\u001b[0;34m=\u001b[0m\u001b[0mtrain_model\u001b[0m\u001b[0;34m(\u001b[0m\u001b[0msale_df\u001b[0m\u001b[0;34m)\u001b[0m\u001b[0;34m\u001b[0m\u001b[0;34m\u001b[0m\u001b[0m\n\u001b[0m\u001b[1;32m      5\u001b[0m     \u001b[0mforecast_out\u001b[0m\u001b[0;34m=\u001b[0m\u001b[0mforecast_model\u001b[0m\u001b[0;34m(\u001b[0m\u001b[0msale_df\u001b[0m\u001b[0;34m,\u001b[0m\u001b[0mparams_df\u001b[0m\u001b[0;34m)\u001b[0m\u001b[0;34m\u001b[0m\u001b[0;34m\u001b[0m\u001b[0m\n\u001b[1;32m      6\u001b[0m     \u001b[0mend_time\u001b[0m\u001b[0;34m=\u001b[0m\u001b[0mtime\u001b[0m\u001b[0;34m.\u001b[0m\u001b[0mtime\u001b[0m\u001b[0;34m(\u001b[0m\u001b[0;34m)\u001b[0m\u001b[0;34m\u001b[0m\u001b[0;34m\u001b[0m\u001b[0m\n",
      "\u001b[0;32m<ipython-input-115-1f74647a22c3>\u001b[0m in \u001b[0;36mtrain_model\u001b[0;34m(sale_df)\u001b[0m\n\u001b[1;32m      6\u001b[0m     \u001b[0mm_b\u001b[0m\u001b[0;34m,\u001b[0m\u001b[0mt_b\u001b[0m\u001b[0;34m=\u001b[0m\u001b[0;34m[\u001b[0m\u001b[0;34m]\u001b[0m\u001b[0;34m,\u001b[0m\u001b[0;34m[\u001b[0m\u001b[0;34m]\u001b[0m\u001b[0;34m\u001b[0m\u001b[0;34m\u001b[0m\u001b[0m\n\u001b[1;32m      7\u001b[0m     \u001b[0mmodel_id\u001b[0m\u001b[0;34m,\u001b[0m\u001b[0merror\u001b[0m\u001b[0;34m=\u001b[0m\u001b[0;34m[\u001b[0m\u001b[0;34m]\u001b[0m\u001b[0;34m,\u001b[0m\u001b[0;34m[\u001b[0m\u001b[0;34m]\u001b[0m\u001b[0;34m\u001b[0m\u001b[0;34m\u001b[0m\u001b[0m\n\u001b[0;32m----> 8\u001b[0;31m     \u001b[0;32mfor\u001b[0m \u001b[0mi\u001b[0m \u001b[0;32min\u001b[0m \u001b[0msale_df\u001b[0m\u001b[0;34m[\u001b[0m\u001b[0;34m'store_code'\u001b[0m\u001b[0;34m]\u001b[0m\u001b[0;34m.\u001b[0m\u001b[0munique\u001b[0m\u001b[0;34m(\u001b[0m\u001b[0;34m)\u001b[0m\u001b[0;34m:\u001b[0m\u001b[0;34m\u001b[0m\u001b[0;34m\u001b[0m\u001b[0m\n\u001b[0m\u001b[1;32m      9\u001b[0m         \u001b[0mdata\u001b[0m\u001b[0;34m=\u001b[0m\u001b[0msale_df\u001b[0m\u001b[0;34m[\u001b[0m\u001b[0msale_df\u001b[0m\u001b[0;34m[\u001b[0m\u001b[0;34m'store_code'\u001b[0m\u001b[0;34m]\u001b[0m\u001b[0;34m==\u001b[0m\u001b[0mi\u001b[0m\u001b[0;34m]\u001b[0m\u001b[0;34m[\u001b[0m\u001b[0;34m'y'\u001b[0m\u001b[0;34m]\u001b[0m\u001b[0;34m\u001b[0m\u001b[0;34m\u001b[0m\u001b[0m\n\u001b[1;32m     10\u001b[0m         \u001b[0mdata\u001b[0m\u001b[0;34m=\u001b[0m\u001b[0;34m[\u001b[0m\u001b[0mi\u001b[0m \u001b[0;32mfor\u001b[0m \u001b[0mi\u001b[0m \u001b[0;32min\u001b[0m \u001b[0mdata\u001b[0m\u001b[0;34m]\u001b[0m\u001b[0;34m\u001b[0m\u001b[0;34m\u001b[0m\u001b[0m\n",
      "\u001b[0;32m~/opt/anaconda3/envs/learn-env/lib/python3.8/site-packages/pandas/core/frame.py\u001b[0m in \u001b[0;36m__getitem__\u001b[0;34m(self, key)\u001b[0m\n\u001b[1;32m   2900\u001b[0m             \u001b[0;32mif\u001b[0m \u001b[0mself\u001b[0m\u001b[0;34m.\u001b[0m\u001b[0mcolumns\u001b[0m\u001b[0;34m.\u001b[0m\u001b[0mnlevels\u001b[0m \u001b[0;34m>\u001b[0m \u001b[0;36m1\u001b[0m\u001b[0;34m:\u001b[0m\u001b[0;34m\u001b[0m\u001b[0;34m\u001b[0m\u001b[0m\n\u001b[1;32m   2901\u001b[0m                 \u001b[0;32mreturn\u001b[0m \u001b[0mself\u001b[0m\u001b[0;34m.\u001b[0m\u001b[0m_getitem_multilevel\u001b[0m\u001b[0;34m(\u001b[0m\u001b[0mkey\u001b[0m\u001b[0;34m)\u001b[0m\u001b[0;34m\u001b[0m\u001b[0;34m\u001b[0m\u001b[0m\n\u001b[0;32m-> 2902\u001b[0;31m             \u001b[0mindexer\u001b[0m \u001b[0;34m=\u001b[0m \u001b[0mself\u001b[0m\u001b[0;34m.\u001b[0m\u001b[0mcolumns\u001b[0m\u001b[0;34m.\u001b[0m\u001b[0mget_loc\u001b[0m\u001b[0;34m(\u001b[0m\u001b[0mkey\u001b[0m\u001b[0;34m)\u001b[0m\u001b[0;34m\u001b[0m\u001b[0;34m\u001b[0m\u001b[0m\n\u001b[0m\u001b[1;32m   2903\u001b[0m             \u001b[0;32mif\u001b[0m \u001b[0mis_integer\u001b[0m\u001b[0;34m(\u001b[0m\u001b[0mindexer\u001b[0m\u001b[0;34m)\u001b[0m\u001b[0;34m:\u001b[0m\u001b[0;34m\u001b[0m\u001b[0;34m\u001b[0m\u001b[0m\n\u001b[1;32m   2904\u001b[0m                 \u001b[0mindexer\u001b[0m \u001b[0;34m=\u001b[0m \u001b[0;34m[\u001b[0m\u001b[0mindexer\u001b[0m\u001b[0;34m]\u001b[0m\u001b[0;34m\u001b[0m\u001b[0;34m\u001b[0m\u001b[0m\n",
      "\u001b[0;32m~/opt/anaconda3/envs/learn-env/lib/python3.8/site-packages/pandas/core/indexes/base.py\u001b[0m in \u001b[0;36mget_loc\u001b[0;34m(self, key, method, tolerance)\u001b[0m\n\u001b[1;32m   2895\u001b[0m                 \u001b[0;32mreturn\u001b[0m \u001b[0mself\u001b[0m\u001b[0;34m.\u001b[0m\u001b[0m_engine\u001b[0m\u001b[0;34m.\u001b[0m\u001b[0mget_loc\u001b[0m\u001b[0;34m(\u001b[0m\u001b[0mcasted_key\u001b[0m\u001b[0;34m)\u001b[0m\u001b[0;34m\u001b[0m\u001b[0;34m\u001b[0m\u001b[0m\n\u001b[1;32m   2896\u001b[0m             \u001b[0;32mexcept\u001b[0m \u001b[0mKeyError\u001b[0m \u001b[0;32mas\u001b[0m \u001b[0merr\u001b[0m\u001b[0;34m:\u001b[0m\u001b[0;34m\u001b[0m\u001b[0;34m\u001b[0m\u001b[0m\n\u001b[0;32m-> 2897\u001b[0;31m                 \u001b[0;32mraise\u001b[0m \u001b[0mKeyError\u001b[0m\u001b[0;34m(\u001b[0m\u001b[0mkey\u001b[0m\u001b[0;34m)\u001b[0m \u001b[0;32mfrom\u001b[0m \u001b[0merr\u001b[0m\u001b[0;34m\u001b[0m\u001b[0;34m\u001b[0m\u001b[0m\n\u001b[0m\u001b[1;32m   2898\u001b[0m \u001b[0;34m\u001b[0m\u001b[0m\n\u001b[1;32m   2899\u001b[0m         \u001b[0;32mif\u001b[0m \u001b[0mtolerance\u001b[0m \u001b[0;32mis\u001b[0m \u001b[0;32mnot\u001b[0m \u001b[0;32mNone\u001b[0m\u001b[0;34m:\u001b[0m\u001b[0;34m\u001b[0m\u001b[0;34m\u001b[0m\u001b[0m\n",
      "\u001b[0;31mKeyError\u001b[0m: 'store_code'"
     ]
    }
   ],
   "source": [
    "if __name__ == '__main__':\n",
    "    start_time=time.time()\n",
    "    sale_df=data\n",
    "    params_df=train_model(sale_df)\n",
    "    forecast_out=forecast_model(sale_df,params_df)\n",
    "    end_time=time.time()\n",
    "    use_time=(end_time-start_time)//60\n",
    "    print('finish the process use',use_time,'mins')"
   ]
  },
  {
   "cell_type": "code",
   "execution_count": null,
   "metadata": {},
   "outputs": [],
   "source": []
  },
  {
   "cell_type": "code",
   "execution_count": null,
   "metadata": {},
   "outputs": [],
   "source": []
  },
  {
   "cell_type": "code",
   "execution_count": null,
   "metadata": {},
   "outputs": [],
   "source": []
  },
  {
   "cell_type": "code",
   "execution_count": null,
   "metadata": {},
   "outputs": [],
   "source": []
  },
  {
   "cell_type": "markdown",
   "metadata": {},
   "source": [
    "## Facebook Prophet"
   ]
  },
  {
   "cell_type": "code",
   "execution_count": 240,
   "metadata": {},
   "outputs": [],
   "source": [
    "# ts.index.name = 'ds'\n",
    "# ts = ts.reset_index()\n",
    "# ts = ts.rename(columns={'timeline': 'y'})"
   ]
  },
  {
   "cell_type": "code",
   "execution_count": 250,
   "metadata": {},
   "outputs": [],
   "source": [
    "fb_close = pd.DataFrame()\n",
    "fb_close['y'] = df.Close\n",
    "fb_close.reset_index(inplace=True)\n",
    "fb_close.rename(columns={'index': 'ds'}, inplace=True)"
   ]
  },
  {
   "cell_type": "code",
   "execution_count": 270,
   "metadata": {},
   "outputs": [],
   "source": [
    "close_train_fb, close_test_fb = fb_close[:-180], fb_close[-180:]"
   ]
  },
  {
   "cell_type": "code",
   "execution_count": 271,
   "metadata": {},
   "outputs": [
    {
     "name": "stderr",
     "output_type": "stream",
     "text": [
      "INFO:fbprophet:Disabling daily seasonality. Run prophet with daily_seasonality=True to override this.\n"
     ]
    },
    {
     "data": {
      "text/plain": [
       "<fbprophet.forecaster.Prophet at 0x7f7fd283c3a0>"
      ]
     },
     "execution_count": 271,
     "metadata": {},
     "output_type": "execute_result"
    }
   ],
   "source": [
    "model_close = Prophet(interval_width=0.95)\n",
    "model_close.fit(close_train_fb)"
   ]
  },
  {
   "cell_type": "code",
   "execution_count": 272,
   "metadata": {},
   "outputs": [
    {
     "data": {
      "text/html": [
       "<div>\n",
       "<style scoped>\n",
       "    .dataframe tbody tr th:only-of-type {\n",
       "        vertical-align: middle;\n",
       "    }\n",
       "\n",
       "    .dataframe tbody tr th {\n",
       "        vertical-align: top;\n",
       "    }\n",
       "\n",
       "    .dataframe thead th {\n",
       "        text-align: right;\n",
       "    }\n",
       "</style>\n",
       "<table border=\"1\" class=\"dataframe\">\n",
       "  <thead>\n",
       "    <tr style=\"text-align: right;\">\n",
       "      <th></th>\n",
       "      <th>ds</th>\n",
       "      <th>trend</th>\n",
       "      <th>yhat_lower</th>\n",
       "      <th>yhat_upper</th>\n",
       "      <th>trend_lower</th>\n",
       "      <th>trend_upper</th>\n",
       "      <th>additive_terms</th>\n",
       "      <th>additive_terms_lower</th>\n",
       "      <th>additive_terms_upper</th>\n",
       "      <th>weekly</th>\n",
       "      <th>weekly_lower</th>\n",
       "      <th>weekly_upper</th>\n",
       "      <th>yearly</th>\n",
       "      <th>yearly_lower</th>\n",
       "      <th>yearly_upper</th>\n",
       "      <th>multiplicative_terms</th>\n",
       "      <th>multiplicative_terms_lower</th>\n",
       "      <th>multiplicative_terms_upper</th>\n",
       "      <th>yhat</th>\n",
       "    </tr>\n",
       "  </thead>\n",
       "  <tbody>\n",
       "    <tr>\n",
       "      <th>0</th>\n",
       "      <td>2011-01-03</td>\n",
       "      <td>11.240032</td>\n",
       "      <td>1.292636</td>\n",
       "      <td>18.568725</td>\n",
       "      <td>11.240032</td>\n",
       "      <td>11.240032</td>\n",
       "      <td>-0.991257</td>\n",
       "      <td>-0.991257</td>\n",
       "      <td>-0.991257</td>\n",
       "      <td>-0.054262</td>\n",
       "      <td>-0.054262</td>\n",
       "      <td>-0.054262</td>\n",
       "      <td>-0.936995</td>\n",
       "      <td>-0.936995</td>\n",
       "      <td>-0.936995</td>\n",
       "      <td>0.0</td>\n",
       "      <td>0.0</td>\n",
       "      <td>0.0</td>\n",
       "      <td>10.248775</td>\n",
       "    </tr>\n",
       "    <tr>\n",
       "      <th>1</th>\n",
       "      <td>2011-01-04</td>\n",
       "      <td>11.238245</td>\n",
       "      <td>2.206118</td>\n",
       "      <td>18.661356</td>\n",
       "      <td>11.238245</td>\n",
       "      <td>11.238245</td>\n",
       "      <td>-0.938575</td>\n",
       "      <td>-0.938575</td>\n",
       "      <td>-0.938575</td>\n",
       "      <td>-0.016484</td>\n",
       "      <td>-0.016484</td>\n",
       "      <td>-0.016484</td>\n",
       "      <td>-0.922090</td>\n",
       "      <td>-0.922090</td>\n",
       "      <td>-0.922090</td>\n",
       "      <td>0.0</td>\n",
       "      <td>0.0</td>\n",
       "      <td>0.0</td>\n",
       "      <td>10.299671</td>\n",
       "    </tr>\n",
       "    <tr>\n",
       "      <th>2</th>\n",
       "      <td>2011-01-05</td>\n",
       "      <td>11.236459</td>\n",
       "      <td>2.228562</td>\n",
       "      <td>18.303994</td>\n",
       "      <td>11.236459</td>\n",
       "      <td>11.236459</td>\n",
       "      <td>-0.854724</td>\n",
       "      <td>-0.854724</td>\n",
       "      <td>-0.854724</td>\n",
       "      <td>0.054375</td>\n",
       "      <td>0.054375</td>\n",
       "      <td>0.054375</td>\n",
       "      <td>-0.909098</td>\n",
       "      <td>-0.909098</td>\n",
       "      <td>-0.909098</td>\n",
       "      <td>0.0</td>\n",
       "      <td>0.0</td>\n",
       "      <td>0.0</td>\n",
       "      <td>10.381735</td>\n",
       "    </tr>\n",
       "    <tr>\n",
       "      <th>3</th>\n",
       "      <td>2011-01-06</td>\n",
       "      <td>11.234672</td>\n",
       "      <td>1.844222</td>\n",
       "      <td>18.470948</td>\n",
       "      <td>11.234672</td>\n",
       "      <td>11.234672</td>\n",
       "      <td>-0.884062</td>\n",
       "      <td>-0.884062</td>\n",
       "      <td>-0.884062</td>\n",
       "      <td>0.014632</td>\n",
       "      <td>0.014632</td>\n",
       "      <td>0.014632</td>\n",
       "      <td>-0.898694</td>\n",
       "      <td>-0.898694</td>\n",
       "      <td>-0.898694</td>\n",
       "      <td>0.0</td>\n",
       "      <td>0.0</td>\n",
       "      <td>0.0</td>\n",
       "      <td>10.350610</td>\n",
       "    </tr>\n",
       "    <tr>\n",
       "      <th>4</th>\n",
       "      <td>2011-01-07</td>\n",
       "      <td>11.232885</td>\n",
       "      <td>1.583612</td>\n",
       "      <td>18.040972</td>\n",
       "      <td>11.232885</td>\n",
       "      <td>11.232885</td>\n",
       "      <td>-0.902896</td>\n",
       "      <td>-0.902896</td>\n",
       "      <td>-0.902896</td>\n",
       "      <td>-0.011444</td>\n",
       "      <td>-0.011444</td>\n",
       "      <td>-0.011444</td>\n",
       "      <td>-0.891451</td>\n",
       "      <td>-0.891451</td>\n",
       "      <td>-0.891451</td>\n",
       "      <td>0.0</td>\n",
       "      <td>0.0</td>\n",
       "      <td>0.0</td>\n",
       "      <td>10.329990</td>\n",
       "    </tr>\n",
       "  </tbody>\n",
       "</table>\n",
       "</div>"
      ],
      "text/plain": [
       "          ds      trend  yhat_lower  yhat_upper  trend_lower  trend_upper  \\\n",
       "0 2011-01-03  11.240032    1.292636   18.568725    11.240032    11.240032   \n",
       "1 2011-01-04  11.238245    2.206118   18.661356    11.238245    11.238245   \n",
       "2 2011-01-05  11.236459    2.228562   18.303994    11.236459    11.236459   \n",
       "3 2011-01-06  11.234672    1.844222   18.470948    11.234672    11.234672   \n",
       "4 2011-01-07  11.232885    1.583612   18.040972    11.232885    11.232885   \n",
       "\n",
       "   additive_terms  additive_terms_lower  additive_terms_upper    weekly  \\\n",
       "0       -0.991257             -0.991257             -0.991257 -0.054262   \n",
       "1       -0.938575             -0.938575             -0.938575 -0.016484   \n",
       "2       -0.854724             -0.854724             -0.854724  0.054375   \n",
       "3       -0.884062             -0.884062             -0.884062  0.014632   \n",
       "4       -0.902896             -0.902896             -0.902896 -0.011444   \n",
       "\n",
       "   weekly_lower  weekly_upper    yearly  yearly_lower  yearly_upper  \\\n",
       "0     -0.054262     -0.054262 -0.936995     -0.936995     -0.936995   \n",
       "1     -0.016484     -0.016484 -0.922090     -0.922090     -0.922090   \n",
       "2      0.054375      0.054375 -0.909098     -0.909098     -0.909098   \n",
       "3      0.014632      0.014632 -0.898694     -0.898694     -0.898694   \n",
       "4     -0.011444     -0.011444 -0.891451     -0.891451     -0.891451   \n",
       "\n",
       "   multiplicative_terms  multiplicative_terms_lower  \\\n",
       "0                   0.0                         0.0   \n",
       "1                   0.0                         0.0   \n",
       "2                   0.0                         0.0   \n",
       "3                   0.0                         0.0   \n",
       "4                   0.0                         0.0   \n",
       "\n",
       "   multiplicative_terms_upper       yhat  \n",
       "0                         0.0  10.248775  \n",
       "1                         0.0  10.299671  \n",
       "2                         0.0  10.381735  \n",
       "3                         0.0  10.350610  \n",
       "4                         0.0  10.329990  "
      ]
     },
     "execution_count": 272,
     "metadata": {},
     "output_type": "execute_result"
    }
   ],
   "source": [
    "future_dates = model_close.make_future_dataframe(periods=180, freq='D')\n",
    "forecast_close = model_close.predict(future_dates)\n",
    "forecast_close.head()"
   ]
  },
  {
   "cell_type": "code",
   "execution_count": 286,
   "metadata": {},
   "outputs": [
    {
     "data": {
      "image/png": "[encoded data removed]",
      "text/plain": [
       "<Figure size 720x432 with 1 Axes>"
      ]
     },
     "metadata": {},
     "output_type": "display_data"
    }
   ],
   "source": [
    "model_close.plot(forecast_close, uncertainty=True);\n",
    "#plt.savefig('images/fbprophet.jpeg', format='jpeg')"
   ]
  },
  {
   "cell_type": "code",
   "execution_count": 274,
   "metadata": {},
   "outputs": [
    {
     "data": {
      "image/png": "[encoded data removed]",
      "text/plain": [
       "<Figure size 648x648 with 3 Axes>"
      ]
     },
     "metadata": {},
     "output_type": "display_data"
    }
   ],
   "source": [
    "model_close.plot_components(forecast_close);"
   ]
  },
  {
   "cell_type": "code",
   "execution_count": null,
   "metadata": {},
   "outputs": [],
   "source": []
  },
  {
   "cell_type": "markdown",
   "metadata": {},
   "source": [
    "## LSTM (long short-term memory) Networks"
   ]
  },
  {
   "cell_type": "code",
   "execution_count": 54,
   "metadata": {},
   "outputs": [],
   "source": [
    "from keras.models import Sequential\n",
    "from keras.layers import Dense\n",
    "from keras.layers import LSTM\n",
    "from sklearn.preprocessing import MinMaxScaler"
   ]
  },
  {
   "cell_type": "code",
   "execution_count": 55,
   "metadata": {},
   "outputs": [],
   "source": [
    "def create_dataset(dataset, look_back=1):\n",
    "    dataX, dataY = [], []\n",
    "    for i in range(len(dataset)-look_back-1):\n",
    "        a = dataset[i:(i+look_back), 0]\n",
    "        dataX.append(a)\n",
    "        dataY.append(dataset[i + look_back, 0])\n",
    "    return np.array(dataX), np.array(dataY)"
   ]
  },
  {
   "cell_type": "code",
   "execution_count": 56,
   "metadata": {},
   "outputs": [],
   "source": [
    "df_lstm = pd.DataFrame()\n",
    "df_lstm['close'] = data.Close"
   ]
  },
  {
   "cell_type": "code",
   "execution_count": 104,
   "metadata": {},
   "outputs": [],
   "source": [
    "scaler = MinMaxScaler(feature_range=(0, 1))\n",
    "dataset = scaler.fit_transform(df_lstm)"
   ]
  },
  {
   "cell_type": "code",
   "execution_count": 105,
   "metadata": {},
   "outputs": [],
   "source": [
    "train, test = dataset[:-time], dataset[-time:]\n",
    "look_back = 1\n",
    "trainX, trainY = create_dataset(train, look_back)\n",
    "testX, testY = create_dataset(test, look_back)"
   ]
  },
  {
   "cell_type": "code",
   "execution_count": 57,
   "metadata": {},
   "outputs": [],
   "source": [
    "scaler = MinMaxScaler(feature_range=(0, 1))\n",
    "dataset = scaler.fit_transform(df_lstm)"
   ]
  },
  {
   "cell_type": "code",
   "execution_count": 58,
   "metadata": {},
   "outputs": [],
   "source": [
    "train, test = dataset[:-180], dataset[-180:]"
   ]
  },
  {
   "cell_type": "code",
   "execution_count": 59,
   "metadata": {},
   "outputs": [],
   "source": [
    "look_back = 1\n",
    "trainX, trainY = create_dataset(train, look_back)\n",
    "testX, testY = create_dataset(test, look_back)"
   ]
  },
  {
   "cell_type": "code",
   "execution_count": 60,
   "metadata": {},
   "outputs": [],
   "source": [
    "trainX = np.reshape(trainX, (trainX.shape[0], 1, trainX.shape[1]))\n",
    "testX = np.reshape(testX, (testX.shape[0], 1, testX.shape[1]))"
   ]
  },
  {
   "cell_type": "code",
   "execution_count": 61,
   "metadata": {},
   "outputs": [
    {
     "data": {
      "text/plain": [
       "<tensorflow.python.keras.callbacks.History at 0x7f9dbf0faa00>"
      ]
     },
     "execution_count": 61,
     "metadata": {},
     "output_type": "execute_result"
    }
   ],
   "source": [
    "model = Sequential()\n",
    "model.add(LSTM(4, input_shape=(1, look_back)))\n",
    "model.add(Dense(1))\n",
    "model.compile(loss='mean_squared_error', optimizer='adam')\n",
    "model.fit(trainX, trainY, epochs=100, batch_size=1, verbose=0)"
   ]
  },
  {
   "cell_type": "code",
   "execution_count": 62,
   "metadata": {},
   "outputs": [],
   "source": [
    "trainPredict = model.predict(trainX)\n",
    "testPredict = model.predict(testX)\n",
    "\n",
    "trainPredict = scaler.inverse_transform(trainPredict)\n",
    "trainY = scaler.inverse_transform([trainY])\n",
    "testPredict = scaler.inverse_transform(testPredict)\n",
    "testY = scaler.inverse_transform([testY])"
   ]
  },
  {
   "cell_type": "code",
   "execution_count": 75,
   "metadata": {},
   "outputs": [
    {
     "data": {
      "text/plain": [
       "<matplotlib.legend.Legend at 0x7f9db7cb8730>"
      ]
     },
     "execution_count": 75,
     "metadata": {},
     "output_type": "execute_result"
    },
    {
     "data": {
      "image/png": "[encoded data removed]",
      "text/plain": [
       "<Figure size 432x288 with 1 Axes>"
      ]
     },
     "metadata": {},
     "output_type": "display_data"
    }
   ],
   "source": [
    "trainPredictPlot = np.empty_like(dataset)\n",
    "trainPredictPlot[:, :] = np.nan\n",
    "trainPredictPlot[look_back:len(trainPredict)+look_back, :] = trainPredict\n",
    "# shift test predictions for plotting\n",
    "testPredictPlot = np.empty_like(dataset)\n",
    "testPredictPlot[:, :] = np.nan\n",
    "testPredictPlot[len(trainPredict)+(look_back*2)+1:len(dataset)-1, :] = testPredict\n",
    "# plot baseline and predictions\n",
    "fig, ax = plt.subplots()\n",
    "ax.plot(df_lstm.index, scaler.inverse_transform(dataset), label='original')\n",
    "ax.plot(df_lstm.index, trainPredictPlot,label='trian prediction')\n",
    "ax.plot(df_lstm.index, testPredictPlot,label='test prediction')\n",
    "ax.set_xlabel('Date')\n",
    "ax.set_ylabel('Close Price')\n",
    "ax.legend()\n",
    "#plt.savefig('images/lstm.jpeg', format='jpeg')"
   ]
  },
  {
   "cell_type": "code",
   "execution_count": 86,
   "metadata": {},
   "outputs": [],
   "source": []
  },
  {
   "cell_type": "code",
   "execution_count": 87,
   "metadata": {},
   "outputs": [],
   "source": []
  },
  {
   "cell_type": "code",
   "execution_count": 89,
   "metadata": {},
   "outputs": [],
   "source": []
  },
  {
   "cell_type": "code",
   "execution_count": 93,
   "metadata": {},
   "outputs": [],
   "source": []
  },
  {
   "cell_type": "code",
   "execution_count": 94,
   "metadata": {},
   "outputs": [
    {
     "data": {
      "text/html": [
       "<div>\n",
       "<style scoped>\n",
       "    .dataframe tbody tr th:only-of-type {\n",
       "        vertical-align: middle;\n",
       "    }\n",
       "\n",
       "    .dataframe tbody tr th {\n",
       "        vertical-align: top;\n",
       "    }\n",
       "\n",
       "    .dataframe thead th {\n",
       "        text-align: right;\n",
       "    }\n",
       "</style>\n",
       "<table border=\"1\" class=\"dataframe\">\n",
       "  <thead>\n",
       "    <tr style=\"text-align: right;\">\n",
       "      <th></th>\n",
       "      <th>price</th>\n",
       "    </tr>\n",
       "    <tr>\n",
       "      <th>Date</th>\n",
       "      <th></th>\n",
       "    </tr>\n",
       "  </thead>\n",
       "  <tbody>\n",
       "    <tr>\n",
       "      <th>2021-01-19</th>\n",
       "      <td>122.323753</td>\n",
       "    </tr>\n",
       "    <tr>\n",
       "      <th>2021-01-20</th>\n",
       "      <td>122.466179</td>\n",
       "    </tr>\n",
       "    <tr>\n",
       "      <th>2021-01-21</th>\n",
       "      <td>125.903503</td>\n",
       "    </tr>\n",
       "    <tr>\n",
       "      <th>2021-01-22</th>\n",
       "      <td>129.792068</td>\n",
       "    </tr>\n",
       "    <tr>\n",
       "      <th>2021-01-23</th>\n",
       "      <td>131.533859</td>\n",
       "    </tr>\n",
       "    <tr>\n",
       "      <th>2021-01-24</th>\n",
       "      <td>132.542450</td>\n",
       "    </tr>\n",
       "    <tr>\n",
       "      <th>2021-01-25</th>\n",
       "      <td>133.545563</td>\n",
       "    </tr>\n",
       "    <tr>\n",
       "      <th>2021-01-26</th>\n",
       "      <td>134.543182</td>\n",
       "    </tr>\n",
       "    <tr>\n",
       "      <th>2021-01-27</th>\n",
       "      <td>134.729156</td>\n",
       "    </tr>\n",
       "    <tr>\n",
       "      <th>2021-01-28</th>\n",
       "      <td>133.875244</td>\n",
       "    </tr>\n",
       "    <tr>\n",
       "      <th>2021-01-29</th>\n",
       "      <td>129.966980</td>\n",
       "    </tr>\n",
       "    <tr>\n",
       "      <th>2021-01-30</th>\n",
       "      <td>125.846687</td>\n",
       "    </tr>\n",
       "    <tr>\n",
       "      <th>2021-01-31</th>\n",
       "      <td>126.435646</td>\n",
       "    </tr>\n",
       "    <tr>\n",
       "      <th>2021-02-01</th>\n",
       "      <td>127.022858</td>\n",
       "    </tr>\n",
       "    <tr>\n",
       "      <th>2021-02-02</th>\n",
       "      <td>127.608299</td>\n",
       "    </tr>\n",
       "    <tr>\n",
       "      <th>2021-02-03</th>\n",
       "      <td>128.290894</td>\n",
       "    </tr>\n",
       "    <tr>\n",
       "      <th>2021-02-04</th>\n",
       "      <td>127.447350</td>\n",
       "    </tr>\n",
       "    <tr>\n",
       "      <th>2021-02-05</th>\n",
       "      <td>130.205215</td>\n",
       "    </tr>\n",
       "    <tr>\n",
       "      <th>2021-02-06</th>\n",
       "      <td>129.867111</td>\n",
       "    </tr>\n",
       "    <tr>\n",
       "      <th>2021-02-07</th>\n",
       "      <td>129.906952</td>\n",
       "    </tr>\n",
       "    <tr>\n",
       "      <th>2021-02-08</th>\n",
       "      <td>129.946716</td>\n",
       "    </tr>\n",
       "    <tr>\n",
       "      <th>2021-02-09</th>\n",
       "      <td>129.986526</td>\n",
       "    </tr>\n",
       "    <tr>\n",
       "      <th>2021-02-10</th>\n",
       "      <td>129.268982</td>\n",
       "    </tr>\n",
       "    <tr>\n",
       "      <th>2021-02-11</th>\n",
       "      <td>128.773117</td>\n",
       "    </tr>\n",
       "    <tr>\n",
       "      <th>2021-02-12</th>\n",
       "      <td>128.564789</td>\n",
       "    </tr>\n",
       "    <tr>\n",
       "      <th>2021-02-13</th>\n",
       "      <td>128.757111</td>\n",
       "    </tr>\n",
       "    <tr>\n",
       "      <th>2021-02-14</th>\n",
       "      <td>128.320129</td>\n",
       "    </tr>\n",
       "    <tr>\n",
       "      <th>2021-02-15</th>\n",
       "      <td>127.882156</td>\n",
       "    </tr>\n",
       "    <tr>\n",
       "      <th>2021-02-16</th>\n",
       "      <td>127.443199</td>\n",
       "    </tr>\n",
       "  </tbody>\n",
       "</table>\n",
       "</div>"
      ],
      "text/plain": [
       "                 price\n",
       "Date                  \n",
       "2021-01-19  122.323753\n",
       "2021-01-20  122.466179\n",
       "2021-01-21  125.903503\n",
       "2021-01-22  129.792068\n",
       "2021-01-23  131.533859\n",
       "2021-01-24  132.542450\n",
       "2021-01-25  133.545563\n",
       "2021-01-26  134.543182\n",
       "2021-01-27  134.729156\n",
       "2021-01-28  133.875244\n",
       "2021-01-29  129.966980\n",
       "2021-01-30  125.846687\n",
       "2021-01-31  126.435646\n",
       "2021-02-01  127.022858\n",
       "2021-02-02  127.608299\n",
       "2021-02-03  128.290894\n",
       "2021-02-04  127.447350\n",
       "2021-02-05  130.205215\n",
       "2021-02-06  129.867111\n",
       "2021-02-07  129.906952\n",
       "2021-02-08  129.946716\n",
       "2021-02-09  129.986526\n",
       "2021-02-10  129.268982\n",
       "2021-02-11  128.773117\n",
       "2021-02-12  128.564789\n",
       "2021-02-13  128.757111\n",
       "2021-02-14  128.320129\n",
       "2021-02-15  127.882156\n",
       "2021-02-16  127.443199"
      ]
     },
     "execution_count": 94,
     "metadata": {},
     "output_type": "execute_result"
    }
   ],
   "source": [
    "lstm"
   ]
  },
  {
   "cell_type": "code",
   "execution_count": null,
   "metadata": {},
   "outputs": [],
   "source": []
  },
  {
   "cell_type": "markdown",
   "metadata": {},
   "source": [
    "## Evaluation"
   ]
  },
  {
   "cell_type": "code",
   "execution_count": null,
   "metadata": {},
   "outputs": [],
   "source": []
  },
  {
   "cell_type": "markdown",
   "metadata": {},
   "source": [
    "### metrics in SARIMAX"
   ]
  },
  {
   "cell_type": "code",
   "execution_count": 313,
   "metadata": {},
   "outputs": [
    {
     "name": "stdout",
     "output_type": "stream",
     "text": [
      "SARIMAX RMSE of close price: 1.15\n",
      "SARIMAX MAE of close price: 0.82\n"
     ]
    }
   ],
   "source": [
    "print('SARIMAX RMSE of close price: {}'.format(round(sarimax_rmse, 2)))\n",
    "print('SARIMAX MAE of close price: {}'.format(round(sarimax_mae, 2)))"
   ]
  },
  {
   "cell_type": "code",
   "execution_count": null,
   "metadata": {},
   "outputs": [],
   "source": []
  },
  {
   "cell_type": "markdown",
   "metadata": {},
   "source": [
    "### metrics in Facebook Prophet"
   ]
  },
  {
   "cell_type": "code",
   "execution_count": 283,
   "metadata": {},
   "outputs": [
    {
     "name": "stdout",
     "output_type": "stream",
     "text": [
      "Facebook Prophet close price train RMSE: 4.34\n",
      "Facebook Prophet close price test RMSE: 33.89\n",
      "Facebook Prophet close price train MAE: 2.59\n",
      "Facebook Prophet close price test MAE: 33.05\n"
     ]
    }
   ],
   "source": [
    "# calculate root mean squared error\n",
    "train_rmse_close_fb = mean_squared_error(close_train_fb['y'], forecast_close['yhat'][:-180], squared=False)\n",
    "test_rmse_close_fb = mean_squared_error(close_test_fb['y'], forecast_close['yhat'][-180:], squared=False)\n",
    "print('Facebook Prophet close price train RMSE: {:.2f}'.format(train_rmse_close_fb))\n",
    "print('Facebook Prophet close price test RMSE: {:.2f}'.format(test_rmse_close_fb))\n",
    "# calculate mean absolute error\n",
    "train_mae_close_fb = mean_absolute_error(close_train_fb['y'], forecast_close['yhat'][:-180])\n",
    "test_mae_close_fb = mean_absolute_error(close_test_fb['y'], forecast_close['yhat'][-180:])\n",
    "print('Facebook Prophet close price train MAE: {:.2f}'.format(train_mae_close_fb))\n",
    "print('Facebook Prophet close price test MAE: {:.2f}'.format(test_mae_close_fb))"
   ]
  },
  {
   "cell_type": "markdown",
   "metadata": {},
   "source": [
    "### metrics in LSTM Networks"
   ]
  },
  {
   "cell_type": "code",
   "execution_count": 312,
   "metadata": {},
   "outputs": [
    {
     "name": "stdout",
     "output_type": "stream",
     "text": [
      "LSTM Networks close price train RMSE: 0.70\n",
      "LSTM Networks close price test RMSE: 3.28\n",
      "LSTM Networks close price train MAE: 0.37\n",
      "LSTM Networks close price test MAE: 2.61\n"
     ]
    }
   ],
   "source": [
    "# calculate root mean squared error\n",
    "trainScore = mean_squared_error(trainY[0], trainPredict[:,0], squared=False)\n",
    "testScore = mean_squared_error(testY[0], testPredict[:,0], squared=False)\n",
    "print('LSTM Networks close price train RMSE: {:.2f}'.format(trainScore))\n",
    "print('LSTM Networks close price test RMSE: {:.2f}'.format(testScore))\n",
    "# calculate mean absolute error\n",
    "trainScore_mae = mean_absolute_error(trainY[0], trainPredict[:,0])\n",
    "testScore_mae = mean_absolute_error(testY[0], testPredict[:,0])\n",
    "print('LSTM Networks close price train MAE: {:.2f}'.format(trainScore_mae))\n",
    "print('LSTM Networks close price test MAE: {:.2f}'.format(testScore_mae))"
   ]
  },
  {
   "cell_type": "markdown",
   "metadata": {},
   "source": [
    "## Conclusion"
   ]
  },
  {
   "cell_type": "code",
   "execution_count": null,
   "metadata": {},
   "outputs": [],
   "source": []
  }
 ],
 "metadata": {
  "kernelspec": {
   "display_name": "learn-env",
   "language": "python",
   "name": "learn-env"
  },
  "language_info": {
   "codemirror_mode": {
    "name": "ipython",
    "version": 3
   },
   "file_extension": ".py",
   "mimetype": "text/x-python",
   "name": "python",
   "nbconvert_exporter": "python",
   "pygments_lexer": "ipython3",
   "version": "3.8.5"
  },
  "toc": {
   "base_numbering": 1,
   "nav_menu": {},
   "number_sections": true,
   "sideBar": true,
   "skip_h1_title": false,
   "title_cell": "Table of Contents",
   "title_sidebar": "Contents",
   "toc_cell": false,
   "toc_position": {
    "height": "calc(100% - 180px)",
    "left": "10px",
    "top": "150px",
    "width": "236.797px"
   },
   "toc_section_display": true,
   "toc_window_display": true
  },
  "varInspector": {
   "cols": {
    "lenName": 16,
    "lenType": 16,
    "lenVar": 40
   },
   "kernels_config": {
    "python": {
     "delete_cmd_postfix": "",
     "delete_cmd_prefix": "del ",
     "library": "var_list.py",
     "varRefreshCmd": "print(var_dic_list())"
    },
    "r": {
     "delete_cmd_postfix": ") ",
     "delete_cmd_prefix": "rm(",
     "library": "var_list.r",
     "varRefreshCmd": "cat(var_dic_list()) "
    }
   },
   "types_to_exclude": [
    "module",
    "function",
    "builtin_function_or_method",
    "instance",
    "_Feature"
   ],
   "window_display": false
  }
 },
 "nbformat": 4,
 "nbformat_minor": 4
}
