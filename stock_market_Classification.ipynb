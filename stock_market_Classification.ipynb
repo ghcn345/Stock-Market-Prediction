{
 "cells": [
  {
   "cell_type": "markdown",
   "metadata": {},
   "source": [
    "# Stock Market Prediction"
   ]
  },
  {
   "cell_type": "markdown",
   "metadata": {},
   "source": [
    "## Overview"
   ]
  },
  {
   "cell_type": "markdown",
   "metadata": {},
   "source": [
    "Accurate prediction of stock market asset is a significant and challenging task due to complicated nature of the financial stock markets. Considering the increasing availability and affordability of powerful computational engines, deep learning methods of prediction have proved its efficiency in finance."
   ]
  },
  {
   "cell_type": "markdown",
   "metadata": {},
   "source": [
    "## Business Understanding"
   ]
  },
  {
   "cell_type": "markdown",
   "metadata": {},
   "source": [
    "A time series regression model using NN or other advanced techniques is built to predict the stock market. Stock market prediction aims to determine the future movement of the stock value of a financial exchange. This project is helpful for Stock investors and investment banks to have a better understanding in developing economical Strategy and in making financial decisions."
   ]
  },
  {
   "cell_type": "markdown",
   "metadata": {},
   "source": [
    "## Data Understanding\n",
    "\n",
    "Data Collection by API"
   ]
  },
  {
   "cell_type": "markdown",
   "metadata": {},
   "source": [
    "### Import Packages"
   ]
  },
  {
   "cell_type": "code",
   "execution_count": 1,
   "metadata": {
    "ExecuteTime": {
     "end_time": "2020-11-09T16:42:16.477059Z",
     "start_time": "2020-11-09T16:42:16.465937Z"
    }
   },
   "outputs": [],
   "source": [
    "import numpy as np\n",
    "import pandas as pd\n",
    "import seaborn as sns\n",
    "import requests\n",
    "import json\n",
    "import time\n",
    "import itertools\n",
    "import re\n",
    "import pickle\n",
    "import datetime\n",
    "from bs4 import BeautifulSoup\n",
    "import matplotlib.pyplot as plt\n",
    "%matplotlib inline\n",
    "\n",
    "# import statsmodels\n",
    "from statsmodels.tsa.arima_model import ARIMA\n",
    "from statsmodels.tsa.stattools import adfuller\n",
    "from statsmodels.tsa.statespace.sarimax import SARIMAX\n",
    "from statsmodels.tsa.seasonal import seasonal_decompose\n",
    "from statsmodels.graphics.tsaplots import plot_acf, plot_pacf\n",
    "\n",
    "\n",
    "from sklearn.model_selection import train_test_split\n",
    "from sklearn.decomposition import PCA\n",
    "from sklearn.metrics import mean_squared_error, mean_absolute_percentage_error\n",
    "from sklearn.preprocessing import StandardScaler\n",
    "from sklearn.pipeline import Pipeline\n",
    "from sklearn.model_selection import GridSearchCV\n",
    "from sklearn.metrics import accuracy_score, f1_score, classification_report, auc, roc_curve\n",
    "from sklearn.svm import SVC\n",
    "\n",
    "from fbprophet import Prophet\n",
    "\n",
    "import yfinance as yf\n",
    "\n",
    "pd.options.display.max_columns = 200\n",
    "sns.set_style('darkgrid')\n",
    "#import geopandas as gpd\n",
    "\n",
    "import warnings\n",
    "warnings.filterwarnings('ignore')"
   ]
  },
  {
   "cell_type": "markdown",
   "metadata": {},
   "source": [
    "### Yahoo Finance"
   ]
  },
  {
   "cell_type": "code",
   "execution_count": 11,
   "metadata": {},
   "outputs": [],
   "source": [
    "tick = yf.Ticker(\"aapl\")\n",
    "\n",
    "# get stock info\n",
    "#msft.info\n",
    "\n",
    "# get historical market data\n",
    "data = tick.history(period=\"max\")"
   ]
  },
  {
   "cell_type": "code",
   "execution_count": 12,
   "metadata": {},
   "outputs": [],
   "source": [
    "#df = df.reindex(pd.date_range(df.index[0], df.index[-1], freq='D')).fillna(method='bfill')\n",
    "data = data.reindex(pd.date_range(data.index[0], data.index[-1], freq='D')).interpolate()"
   ]
  },
  {
   "cell_type": "code",
   "execution_count": 13,
   "metadata": {},
   "outputs": [
    {
     "data": {
      "text/html": [
       "<div>\n",
       "<style scoped>\n",
       "    .dataframe tbody tr th:only-of-type {\n",
       "        vertical-align: middle;\n",
       "    }\n",
       "\n",
       "    .dataframe tbody tr th {\n",
       "        vertical-align: top;\n",
       "    }\n",
       "\n",
       "    .dataframe thead th {\n",
       "        text-align: right;\n",
       "    }\n",
       "</style>\n",
       "<table border=\"1\" class=\"dataframe\">\n",
       "  <thead>\n",
       "    <tr style=\"text-align: right;\">\n",
       "      <th></th>\n",
       "      <th>Open</th>\n",
       "      <th>High</th>\n",
       "      <th>Low</th>\n",
       "      <th>Close</th>\n",
       "      <th>Volume</th>\n",
       "      <th>Dividends</th>\n",
       "      <th>Stock Splits</th>\n",
       "    </tr>\n",
       "  </thead>\n",
       "  <tbody>\n",
       "    <tr>\n",
       "      <th>1980-12-12</th>\n",
       "      <td>0.100922</td>\n",
       "      <td>0.101361</td>\n",
       "      <td>0.100922</td>\n",
       "      <td>0.100922</td>\n",
       "      <td>4.690336e+08</td>\n",
       "      <td>0.0</td>\n",
       "      <td>0.0</td>\n",
       "    </tr>\n",
       "    <tr>\n",
       "      <th>1980-12-13</th>\n",
       "      <td>0.099313</td>\n",
       "      <td>0.099606</td>\n",
       "      <td>0.099167</td>\n",
       "      <td>0.099167</td>\n",
       "      <td>3.713173e+08</td>\n",
       "      <td>0.0</td>\n",
       "      <td>0.0</td>\n",
       "    </tr>\n",
       "    <tr>\n",
       "      <th>1980-12-14</th>\n",
       "      <td>0.097704</td>\n",
       "      <td>0.097851</td>\n",
       "      <td>0.097412</td>\n",
       "      <td>0.097412</td>\n",
       "      <td>2.736011e+08</td>\n",
       "      <td>0.0</td>\n",
       "      <td>0.0</td>\n",
       "    </tr>\n",
       "    <tr>\n",
       "      <th>1980-12-15</th>\n",
       "      <td>0.096096</td>\n",
       "      <td>0.096096</td>\n",
       "      <td>0.095657</td>\n",
       "      <td>0.095657</td>\n",
       "      <td>1.758848e+08</td>\n",
       "      <td>0.0</td>\n",
       "      <td>0.0</td>\n",
       "    </tr>\n",
       "    <tr>\n",
       "      <th>1980-12-16</th>\n",
       "      <td>0.089075</td>\n",
       "      <td>0.089075</td>\n",
       "      <td>0.088636</td>\n",
       "      <td>0.088636</td>\n",
       "      <td>1.057280e+08</td>\n",
       "      <td>0.0</td>\n",
       "      <td>0.0</td>\n",
       "    </tr>\n",
       "  </tbody>\n",
       "</table>\n",
       "</div>"
      ],
      "text/plain": [
       "                Open      High       Low     Close        Volume  Dividends  \\\n",
       "1980-12-12  0.100922  0.101361  0.100922  0.100922  4.690336e+08        0.0   \n",
       "1980-12-13  0.099313  0.099606  0.099167  0.099167  3.713173e+08        0.0   \n",
       "1980-12-14  0.097704  0.097851  0.097412  0.097412  2.736011e+08        0.0   \n",
       "1980-12-15  0.096096  0.096096  0.095657  0.095657  1.758848e+08        0.0   \n",
       "1980-12-16  0.089075  0.089075  0.088636  0.088636  1.057280e+08        0.0   \n",
       "\n",
       "            Stock Splits  \n",
       "1980-12-12           0.0  \n",
       "1980-12-13           0.0  \n",
       "1980-12-14           0.0  \n",
       "1980-12-15           0.0  \n",
       "1980-12-16           0.0  "
      ]
     },
     "execution_count": 13,
     "metadata": {},
     "output_type": "execute_result"
    }
   ],
   "source": [
    "data.head()"
   ]
  },
  {
   "cell_type": "code",
   "execution_count": null,
   "metadata": {},
   "outputs": [],
   "source": []
  },
  {
   "cell_type": "markdown",
   "metadata": {},
   "source": [
    "### Web Scrapping"
   ]
  },
  {
   "cell_type": "markdown",
   "metadata": {},
   "source": [
    "#### Web Scrapping by BeautifulSoup"
   ]
  },
  {
   "cell_type": "code",
   "execution_count": 8,
   "metadata": {},
   "outputs": [],
   "source": [
    "# stock symbol\n",
    "stock = 'AAPL'\n",
    "# URL link \n",
    "url_is = 'https://finance.yahoo.com/quote/'+stock+'/financials?p='+stock\n",
    "url_bs = 'https://finance.yahoo.com/quote/'+stock+'/balance-sheet?p='+stock\n",
    "url_cf = 'https://finance.yahoo.com/quote/'+stock+'/cash-flow?p='+stock"
   ]
  },
  {
   "cell_type": "code",
   "execution_count": 9,
   "metadata": {},
   "outputs": [],
   "source": [
    "page_is = requests.get(url_is)\n",
    "#soup_is = BeautifulSoup(page_is.content, 'lxml')\n",
    "soup_is = BeautifulSoup(page_is.content, 'html.parser')"
   ]
  },
  {
   "cell_type": "code",
   "execution_count": 11,
   "metadata": {},
   "outputs": [],
   "source": [
    "features = soup_is.find_all('div', class_='D(tbr)')"
   ]
  },
  {
   "cell_type": "code",
   "execution_count": 12,
   "metadata": {},
   "outputs": [],
   "source": [
    "headers = []\n",
    "temp_list = []\n",
    "label_list = []\n",
    "final = []\n",
    "index = 0\n",
    "#create headers\n",
    "for item in features[0].find_all('div', class_='D(ib)'):\n",
    "    headers.append(item.text)\n",
    "#statement contents\n",
    "while index <= len(features)-1:\n",
    "    #filter for each line of the statement\n",
    "    temp = features[index].find_all('div', class_='D(tbc)')\n",
    "    for line in temp:\n",
    "        #each item adding to a temporary list\n",
    "        temp_list.append(line.text)\n",
    "    #temp_list added to final list\n",
    "    final.append(temp_list)\n",
    "    #clear temp_list\n",
    "    temp_list = []\n",
    "    index+=1\n",
    "df = pd.DataFrame(final[1:])\n",
    "df.columns = headers"
   ]
  },
  {
   "cell_type": "code",
   "execution_count": 13,
   "metadata": {},
   "outputs": [],
   "source": [
    "#function to make all values numerical\n",
    "def convert_to_numeric(column):\n",
    "    first_col = [i.replace(',','') for i in column]\n",
    "    second_col = [i.replace('-','') for i in first_col]\n",
    "    final_col = pd.to_numeric(second_col)\n",
    "    \n",
    "    return final_col"
   ]
  },
  {
   "cell_type": "code",
   "execution_count": 14,
   "metadata": {},
   "outputs": [],
   "source": [
    "for column in headers[1:]:    \n",
    "    df[column] = convert_to_numeric(df[column])\n",
    "    \n",
    "final_df = df.fillna('-')"
   ]
  },
  {
   "cell_type": "code",
   "execution_count": 15,
   "metadata": {},
   "outputs": [
    {
     "data": {
      "text/html": [
       "<div>\n",
       "<style scoped>\n",
       "    .dataframe tbody tr th:only-of-type {\n",
       "        vertical-align: middle;\n",
       "    }\n",
       "\n",
       "    .dataframe tbody tr th {\n",
       "        vertical-align: top;\n",
       "    }\n",
       "\n",
       "    .dataframe thead th {\n",
       "        text-align: right;\n",
       "    }\n",
       "</style>\n",
       "<table border=\"1\" class=\"dataframe\">\n",
       "  <thead>\n",
       "    <tr style=\"text-align: right;\">\n",
       "      <th></th>\n",
       "      <th>Breakdown</th>\n",
       "      <th>ttm</th>\n",
       "      <th>9/30/2020</th>\n",
       "      <th>9/30/2019</th>\n",
       "      <th>9/30/2018</th>\n",
       "      <th>9/30/2017</th>\n",
       "    </tr>\n",
       "  </thead>\n",
       "  <tbody>\n",
       "    <tr>\n",
       "      <th>0</th>\n",
       "      <td>Total Revenue</td>\n",
       "      <td>2.73857e+08</td>\n",
       "      <td>2.74515e+08</td>\n",
       "      <td>2.60174e+08</td>\n",
       "      <td>2.65595e+08</td>\n",
       "      <td>2.29234e+08</td>\n",
       "    </tr>\n",
       "    <tr>\n",
       "      <th>1</th>\n",
       "      <td>Cost of Revenue</td>\n",
       "      <td>1.69277e+08</td>\n",
       "      <td>1.69559e+08</td>\n",
       "      <td>1.61782e+08</td>\n",
       "      <td>1.63756e+08</td>\n",
       "      <td>1.41048e+08</td>\n",
       "    </tr>\n",
       "    <tr>\n",
       "      <th>2</th>\n",
       "      <td>Gross Profit</td>\n",
       "      <td>1.0458e+08</td>\n",
       "      <td>1.04956e+08</td>\n",
       "      <td>9.8392e+07</td>\n",
       "      <td>1.01839e+08</td>\n",
       "      <td>8.8186e+07</td>\n",
       "    </tr>\n",
       "    <tr>\n",
       "      <th>3</th>\n",
       "      <td>Operating Expense</td>\n",
       "      <td>3.7442e+07</td>\n",
       "      <td>3.8668e+07</td>\n",
       "      <td>3.4462e+07</td>\n",
       "      <td>3.0941e+07</td>\n",
       "      <td>2.6842e+07</td>\n",
       "    </tr>\n",
       "    <tr>\n",
       "      <th>4</th>\n",
       "      <td>Operating Income</td>\n",
       "      <td>6.7138e+07</td>\n",
       "      <td>6.6288e+07</td>\n",
       "      <td>6.393e+07</td>\n",
       "      <td>7.0898e+07</td>\n",
       "      <td>6.1344e+07</td>\n",
       "    </tr>\n",
       "  </tbody>\n",
       "</table>\n",
       "</div>"
      ],
      "text/plain": [
       "           Breakdown          ttm    9/30/2020    9/30/2019    9/30/2018  \\\n",
       "0      Total Revenue  2.73857e+08  2.74515e+08  2.60174e+08  2.65595e+08   \n",
       "1    Cost of Revenue  1.69277e+08  1.69559e+08  1.61782e+08  1.63756e+08   \n",
       "2       Gross Profit   1.0458e+08  1.04956e+08   9.8392e+07  1.01839e+08   \n",
       "3  Operating Expense   3.7442e+07   3.8668e+07   3.4462e+07   3.0941e+07   \n",
       "4   Operating Income   6.7138e+07   6.6288e+07    6.393e+07   7.0898e+07   \n",
       "\n",
       "     9/30/2017  \n",
       "0  2.29234e+08  \n",
       "1  1.41048e+08  \n",
       "2   8.8186e+07  \n",
       "3   2.6842e+07  \n",
       "4   6.1344e+07  "
      ]
     },
     "execution_count": 15,
     "metadata": {},
     "output_type": "execute_result"
    }
   ],
   "source": [
    "final_df.head()"
   ]
  },
  {
   "cell_type": "markdown",
   "metadata": {},
   "source": [
    "#### Web Scrapping from JSON File"
   ]
  },
  {
   "cell_type": "code",
   "execution_count": 17,
   "metadata": {},
   "outputs": [
    {
     "data": {
      "text/plain": [
       "dict_keys(['financialsTemplate', 'cashflowStatementHistory', 'balanceSheetHistoryQuarterly', 'earnings', 'price', 'incomeStatementHistoryQuarterly', 'incomeStatementHistory', 'balanceSheetHistory', 'cashflowStatementHistoryQuarterly', 'quoteType', 'summaryDetail', 'symbol', 'pageViews'])"
      ]
     },
     "execution_count": 17,
     "metadata": {},
     "output_type": "execute_result"
    }
   ],
   "source": [
    "pattern  = re.compile(r'\\s--\\sData\\s--\\s')\n",
    "scrpt_data = soup_is.find('script', text=pattern).contents[0]\n",
    "start = scrpt_data.find('context')-2\n",
    "json_data = json.loads(scrpt_data[start:-12])\n",
    "json_data['context']['dispatcher']['stores']['QuoteSummaryStore'].keys()"
   ]
  },
  {
   "cell_type": "code",
   "execution_count": 18,
   "metadata": {},
   "outputs": [],
   "source": [
    "quarterly_is = json_data['context']['dispatcher']['stores']['QuoteSummaryStore']['incomeStatementHistoryQuarterly']['incomeStatementHistory']"
   ]
  },
  {
   "cell_type": "code",
   "execution_count": 19,
   "metadata": {},
   "outputs": [
    {
     "data": {
      "text/html": [
       "<div>\n",
       "<style scoped>\n",
       "    .dataframe tbody tr th:only-of-type {\n",
       "        vertical-align: middle;\n",
       "    }\n",
       "\n",
       "    .dataframe tbody tr th {\n",
       "        vertical-align: top;\n",
       "    }\n",
       "\n",
       "    .dataframe thead th {\n",
       "        text-align: right;\n",
       "    }\n",
       "</style>\n",
       "<table border=\"1\" class=\"dataframe\">\n",
       "  <thead>\n",
       "    <tr style=\"text-align: right;\">\n",
       "      <th></th>\n",
       "      <th>0</th>\n",
       "      <th>1</th>\n",
       "      <th>2</th>\n",
       "      <th>3</th>\n",
       "    </tr>\n",
       "  </thead>\n",
       "  <tbody>\n",
       "    <tr>\n",
       "      <th>maxAge</th>\n",
       "      <td>1</td>\n",
       "      <td>1</td>\n",
       "      <td>1</td>\n",
       "      <td>1</td>\n",
       "    </tr>\n",
       "    <tr>\n",
       "      <th>researchDevelopment.raw</th>\n",
       "      <td>5163000000</td>\n",
       "      <td>4978000000</td>\n",
       "      <td>4758000000</td>\n",
       "      <td>4565000000</td>\n",
       "    </tr>\n",
       "    <tr>\n",
       "      <th>researchDevelopment.fmt</th>\n",
       "      <td>5.16B</td>\n",
       "      <td>4.98B</td>\n",
       "      <td>4.76B</td>\n",
       "      <td>4.57B</td>\n",
       "    </tr>\n",
       "    <tr>\n",
       "      <th>researchDevelopment.longFmt</th>\n",
       "      <td>5,163,000,000</td>\n",
       "      <td>4,978,000,000</td>\n",
       "      <td>4,758,000,000</td>\n",
       "      <td>4,565,000,000</td>\n",
       "    </tr>\n",
       "    <tr>\n",
       "      <th>incomeBeforeTax.raw</th>\n",
       "      <td>33579000000</td>\n",
       "      <td>14901000000</td>\n",
       "      <td>13137000000</td>\n",
       "      <td>13135000000</td>\n",
       "    </tr>\n",
       "  </tbody>\n",
       "</table>\n",
       "</div>"
      ],
      "text/plain": [
       "                                         0              1              2  \\\n",
       "maxAge                                   1              1              1   \n",
       "researchDevelopment.raw         5163000000     4978000000     4758000000   \n",
       "researchDevelopment.fmt              5.16B          4.98B          4.76B   \n",
       "researchDevelopment.longFmt  5,163,000,000  4,978,000,000  4,758,000,000   \n",
       "incomeBeforeTax.raw            33579000000    14901000000    13137000000   \n",
       "\n",
       "                                         3  \n",
       "maxAge                                   1  \n",
       "researchDevelopment.raw         4565000000  \n",
       "researchDevelopment.fmt              4.57B  \n",
       "researchDevelopment.longFmt  4,565,000,000  \n",
       "incomeBeforeTax.raw            13135000000  "
      ]
     },
     "execution_count": 19,
     "metadata": {},
     "output_type": "execute_result"
    }
   ],
   "source": [
    "pd.json_normalize(quarterly_is).T.head()"
   ]
  },
  {
   "cell_type": "code",
   "execution_count": 23,
   "metadata": {},
   "outputs": [],
   "source": [
    "def _json(report):\n",
    "    res = []\n",
    "    for d in report:\n",
    "        s = {}\n",
    "        for k, v in d.items():\n",
    "            try:\n",
    "                s[k] = v['raw']\n",
    "            except TypeError:\n",
    "                continue\n",
    "            except KeyError:\n",
    "                continue\n",
    "        res.append(s)\n",
    "    return res"
   ]
  },
  {
   "cell_type": "code",
   "execution_count": 24,
   "metadata": {},
   "outputs": [
    {
     "data": {
      "text/html": [
       "<div>\n",
       "<style scoped>\n",
       "    .dataframe tbody tr th:only-of-type {\n",
       "        vertical-align: middle;\n",
       "    }\n",
       "\n",
       "    .dataframe tbody tr th {\n",
       "        vertical-align: top;\n",
       "    }\n",
       "\n",
       "    .dataframe thead th {\n",
       "        text-align: right;\n",
       "    }\n",
       "</style>\n",
       "<table border=\"1\" class=\"dataframe\">\n",
       "  <thead>\n",
       "    <tr style=\"text-align: right;\">\n",
       "      <th></th>\n",
       "      <th>0</th>\n",
       "      <th>1</th>\n",
       "      <th>2</th>\n",
       "      <th>3</th>\n",
       "    </tr>\n",
       "  </thead>\n",
       "  <tbody>\n",
       "    <tr>\n",
       "      <th>totalLiab</th>\n",
       "      <td>258549000000</td>\n",
       "      <td>248028000000</td>\n",
       "      <td>258578000000</td>\n",
       "      <td>241272000000</td>\n",
       "    </tr>\n",
       "    <tr>\n",
       "      <th>totalStockholderEquity</th>\n",
       "      <td>65339000000</td>\n",
       "      <td>90488000000</td>\n",
       "      <td>107147000000</td>\n",
       "      <td>134047000000</td>\n",
       "    </tr>\n",
       "    <tr>\n",
       "      <th>otherCurrentLiab</th>\n",
       "      <td>47867000000</td>\n",
       "      <td>43242000000</td>\n",
       "      <td>39293000000</td>\n",
       "      <td>38099000000</td>\n",
       "    </tr>\n",
       "    <tr>\n",
       "      <th>totalAssets</th>\n",
       "      <td>323888000000</td>\n",
       "      <td>338516000000</td>\n",
       "      <td>365725000000</td>\n",
       "      <td>375319000000</td>\n",
       "    </tr>\n",
       "    <tr>\n",
       "      <th>endDate</th>\n",
       "      <td>1601078400</td>\n",
       "      <td>1569628800</td>\n",
       "      <td>1538179200</td>\n",
       "      <td>1506729600</td>\n",
       "    </tr>\n",
       "  </tbody>\n",
       "</table>\n",
       "</div>"
      ],
      "text/plain": [
       "                                   0             1             2             3\n",
       "totalLiab               258549000000  248028000000  258578000000  241272000000\n",
       "totalStockholderEquity   65339000000   90488000000  107147000000  134047000000\n",
       "otherCurrentLiab         47867000000   43242000000   39293000000   38099000000\n",
       "totalAssets             323888000000  338516000000  365725000000  375319000000\n",
       "endDate                   1601078400    1569628800    1538179200    1506729600"
      ]
     },
     "execution_count": 24,
     "metadata": {},
     "output_type": "execute_result"
    }
   ],
   "source": [
    "pd.DataFrame(_json(_is)).T.head()"
   ]
  },
  {
   "cell_type": "code",
   "execution_count": null,
   "metadata": {},
   "outputs": [],
   "source": []
  },
  {
   "cell_type": "code",
   "execution_count": 74,
   "metadata": {},
   "outputs": [],
   "source": [
    "df_f = pd.read_csv('data/AAPL_quarterly_financials.csv', index_col=0, header=None).T\n",
    "df_bs = pd.read_csv('data/AAPL_quarterly_balance-sheet.csv', index_col=0, header=None).T\n",
    "df_cf = pd.read_csv('data/AAPL_quarterly_financials.csv', index_col=0, header=None).T"
   ]
  },
  {
   "cell_type": "code",
   "execution_count": 75,
   "metadata": {},
   "outputs": [],
   "source": [
    "df = pd.concat([df_f, df_bs, df_cf], axis=1)"
   ]
  },
  {
   "cell_type": "code",
   "execution_count": 76,
   "metadata": {},
   "outputs": [],
   "source": [
    "#df.drop_duplicates(inplace=True)\n",
    "#df.drop(columns='ttm', inplace=True)\n",
    "#df = df.dropna(subset=['12/31/2020'])\n",
    "\n",
    "df = df.loc[:, ~df.columns.duplicated()]\n",
    "df.drop(1, inplace=True)\n",
    "df.dropna(subset=[2], axis=1, inplace=True)"
   ]
  },
  {
   "cell_type": "code",
   "execution_count": 77,
   "metadata": {},
   "outputs": [],
   "source": [
    "df.columns = [re.sub(r'((?<=[^\\W[A-Z])[A-Z]|(?<=\\S)[A-Z](?=[a-z]))', r' \\1', col.strip()) for col in df.columns]"
   ]
  },
  {
   "cell_type": "code",
   "execution_count": 78,
   "metadata": {},
   "outputs": [],
   "source": [
    "df['name'] = pd.to_datetime(df['name'])\n",
    "df.set_index('name', inplace=True)"
   ]
  },
  {
   "cell_type": "code",
   "execution_count": 79,
   "metadata": {},
   "outputs": [],
   "source": [
    "for col in df.columns:\n",
    "    df[col] = df[col].str.replace(',', '').astype(float)\n",
    "    df[col].fillna(df[col].mean(), inplace=True)"
   ]
  },
  {
   "cell_type": "code",
   "execution_count": 80,
   "metadata": {},
   "outputs": [],
   "source": [
    "df = df[::-1]"
   ]
  },
  {
   "cell_type": "code",
   "execution_count": 9,
   "metadata": {},
   "outputs": [
    {
     "data": {
      "text/plain": [
       "<AxesSubplot:>"
      ]
     },
     "execution_count": 9,
     "metadata": {},
     "output_type": "execute_result"
    },
    {
     "data": {
      "image/png": "[encoded data removed]",
      "text/plain": [
       "<Figure size 432x432 with 2 Axes>"
      ]
     },
     "metadata": {},
     "output_type": "display_data"
    }
   ],
   "source": [
    "sns.set(style=\"white\")\n",
    "\n",
    "corr = df.corr()\n",
    "mask = np.zeros_like(corr, dtype=np.bool)\n",
    "mask[np.triu_indices_from(mask)] = True\n",
    "\n",
    "fig, ax = plt.subplots(figsize=(6, 6))\n",
    "cmap = sns.diverging_palette(220, 10, as_cmap=True)\n",
    "sns.heatmap(corr, mask=mask, cmap=cmap, vmax=1, center=0, square=True, linewidths=.5, cbar_kws={\"shrink\": .5})\n",
    "#plt.savefig('images/heatmap.jpeg', format='jpeg')"
   ]
  },
  {
   "cell_type": "code",
   "execution_count": 97,
   "metadata": {},
   "outputs": [],
   "source": [
    "dfn = df.reindex(pd.date_range(data.index[0], data.index[-1], freq='D'))\n",
    "dfn.fillna(method='bfill', inplace=True)\n",
    "dfn.fillna(method='ffill', inplace=True)"
   ]
  },
  {
   "cell_type": "code",
   "execution_count": null,
   "metadata": {},
   "outputs": [],
   "source": []
  },
  {
   "cell_type": "markdown",
   "metadata": {},
   "source": [
    "### Trade Strategy\n",
    "local minimum to buy, local maximum to sell, other time to hold."
   ]
  },
  {
   "cell_type": "code",
   "execution_count": null,
   "metadata": {},
   "outputs": [],
   "source": [
    "# FFT\n",
    "# z = np.fft.fft(df.Close)\n",
    "# Z = np.fft.fftshift(z)\n",
    "# plt.plot(Z)\n",
    "# plt.show()\n",
    "# z = [0 if s>=-400 and s<=400 else s for s in z]\n",
    "# #z[40:1300]=0\n",
    "# l=np.fft.ifft(z)\n",
    "# plt.plot(np.real(l))"
   ]
  },
  {
   "cell_type": "code",
   "execution_count": 55,
   "metadata": {},
   "outputs": [],
   "source": [
    "data['decision'] = 'hold'"
   ]
  },
  {
   "cell_type": "code",
   "execution_count": 56,
   "metadata": {},
   "outputs": [],
   "source": [
    "for i in range(1, len(data)-1):\n",
    "    if data.Close[i-1] > data.Close[i] < data.Close[i+1]: data['decision'][i] = 'buy'\n",
    "    elif data.Close[i-1] < data.Close[i] > data.Close[i+1]: data['decision'][i] = 'sell'"
   ]
  },
  {
   "cell_type": "code",
   "execution_count": 18,
   "metadata": {},
   "outputs": [
    {
     "data": {
      "text/plain": [
       "Text(0, 0.5, 'Count')"
      ]
     },
     "execution_count": 18,
     "metadata": {},
     "output_type": "execute_result"
    },
    {
     "data": {
      "image/png": "[encoded data removed]",
      "text/plain": [
       "<Figure size 432x288 with 1 Axes>"
      ]
     },
     "metadata": {},
     "output_type": "display_data"
    }
   ],
   "source": [
    "sns.barplot(x=['buy','hold','sell'], y=data.groupby('decision').size())\n",
    "plt.xlabel('Trade Strategy')\n",
    "plt.ylabel('Count')\n",
    "#plt.savefig('images/trade.jpeg', format='jpeg')"
   ]
  },
  {
   "cell_type": "code",
   "execution_count": null,
   "metadata": {},
   "outputs": [],
   "source": []
  },
  {
   "cell_type": "markdown",
   "metadata": {},
   "source": [
    "### SMOTE and ADASYN\n",
    "imbalance data problem"
   ]
  },
  {
   "cell_type": "code",
   "execution_count": 114,
   "metadata": {},
   "outputs": [],
   "source": [
    "# X = df[:]\n",
    "# y = data.loc[df.index].decision\n",
    "\n",
    "X = dfn[:]\n",
    "y = data.decision\n",
    "\n",
    "X_train, X_test, y_train, y_test = train_test_split(X, y, test_size=0.2, random_state=34)"
   ]
  },
  {
   "cell_type": "code",
   "execution_count": 115,
   "metadata": {},
   "outputs": [],
   "source": [
    "from imblearn.over_sampling import SMOTE, ADASYN\n",
    "\n",
    "smote = SMOTE()\n",
    "X_train, y_train = smote.fit_sample(X_train, y_train)"
   ]
  },
  {
   "cell_type": "code",
   "execution_count": null,
   "metadata": {},
   "outputs": [],
   "source": [
    "# adasyn = ADASYN()\n",
    "# X_train, y_train = adasyn.fit_sample(X_train, y_train)"
   ]
  },
  {
   "cell_type": "code",
   "execution_count": null,
   "metadata": {},
   "outputs": [],
   "source": []
  },
  {
   "cell_type": "markdown",
   "metadata": {},
   "source": [
    "### PCA"
   ]
  },
  {
   "cell_type": "code",
   "execution_count": 116,
   "metadata": {},
   "outputs": [],
   "source": [
    "pca = PCA(n_components=.95)\n",
    "X_train = pca.fit_transform(X_train)\n",
    "X_test = pca.transform(X_test)"
   ]
  },
  {
   "cell_type": "code",
   "execution_count": 117,
   "metadata": {},
   "outputs": [
    {
     "data": {
      "text/plain": [
       "Text(0, 0.5, 'proportion of explained variance')"
      ]
     },
     "execution_count": 117,
     "metadata": {},
     "output_type": "execute_result"
    },
    {
     "data": {
      "image/png": "[encoded data removed]",
      "text/plain": [
       "<Figure size 432x288 with 1 Axes>"
      ]
     },
     "metadata": {},
     "output_type": "display_data"
    }
   ],
   "source": [
    "index = np.arange(3)\n",
    "plt.bar(index, pca.explained_variance_ratio_)\n",
    "plt.title('Scree plot for PCA')\n",
    "plt.xlabel('Num of components')\n",
    "plt.ylabel('proportion of explained variance')\n",
    "#plt.savefig('images/pca.jpeg', format='jpeg')"
   ]
  },
  {
   "cell_type": "code",
   "execution_count": null,
   "metadata": {},
   "outputs": [],
   "source": []
  },
  {
   "cell_type": "code",
   "execution_count": null,
   "metadata": {},
   "outputs": [],
   "source": []
  },
  {
   "cell_type": "markdown",
   "metadata": {},
   "source": [
    "### SVM"
   ]
  },
  {
   "cell_type": "code",
   "execution_count": 33,
   "metadata": {},
   "outputs": [],
   "source": [
    "from sklearn.metrics import plot_confusion_matrix"
   ]
  },
  {
   "cell_type": "code",
   "execution_count": 118,
   "metadata": {},
   "outputs": [],
   "source": [
    "pipe = Pipeline([('ss', StandardScaler()), ('svm', SVC())])\n",
    "                 \n",
    "param_grid = {'svm__kernel': ['linear', 'polynomial', 'rbf','sigmoid'],\n",
    "              'svm__C': [0.0001, 0.01, 0.1, 1]}\n",
    "\n",
    "grid_svm = GridSearchCV(estimator=pipe, param_grid=param_grid, n_jobs=-1)\n",
    "grid_svm.fit(X_train, y_train)\n",
    "\n",
    "train_pred_svm = grid_svm.predict(X_train)\n",
    "test_pred_svm = grid_svm.predict(X_test)"
   ]
  },
  {
   "cell_type": "code",
   "execution_count": 119,
   "metadata": {},
   "outputs": [
    {
     "name": "stdout",
     "output_type": "stream",
     "text": [
      "Training accuracy score: 0.3646825887885163\n",
      "Test accuracy score: 0.45759837177747625\n",
      "Training F1 score: 0.3646825887885163\n",
      "Test F1 score: 0.45759837177747625\n",
      "              precision    recall  f1-score   support\n",
      "\n",
      "         buy       0.17      0.24      0.20       488\n",
      "        hold       0.70      0.57      0.63      1971\n",
      "        sell       0.18      0.24      0.20       489\n",
      "\n",
      "    accuracy                           0.46      2948\n",
      "   macro avg       0.35      0.35      0.34      2948\n",
      "weighted avg       0.52      0.46      0.48      2948\n",
      "\n"
     ]
    }
   ],
   "source": [
    "# metric evaluation\n",
    "train_accu_svm = accuracy_score(y_train, train_pred_svm)\n",
    "test_accu_svm = accuracy_score(y_test, test_pred_svm)\n",
    "print('Training accuracy score: {}'.format(train_accu_svm))\n",
    "print('Test accuracy score: {}'.format(test_accu_svm))\n",
    "\n",
    "train_f1_svm = f1_score(y_train, train_pred_svm, average='micro')\n",
    "test_f1_svm = f1_score(y_test, test_pred_svm, average='micro')\n",
    "print('Training F1 score: {}'.format(train_f1_svm))\n",
    "print('Test F1 score: {}'.format(test_f1_svm))\n",
    "\n",
    "print(classification_report(y_test, test_pred_svm))"
   ]
  },
  {
   "cell_type": "code",
   "execution_count": 120,
   "metadata": {},
   "outputs": [
    {
     "data": {
      "text/plain": [
       "<sklearn.metrics._plot.confusion_matrix.ConfusionMatrixDisplay at 0x7fb1cddec430>"
      ]
     },
     "execution_count": 120,
     "metadata": {},
     "output_type": "execute_result"
    },
    {
     "data": {
      "image/png": "[encoded data removed]",
      "text/plain": [
       "<Figure size 432x288 with 2 Axes>"
      ]
     },
     "metadata": {},
     "output_type": "display_data"
    }
   ],
   "source": [
    "plot_confusion_matrix(grid_svm, X_train, y_train)"
   ]
  },
  {
   "cell_type": "code",
   "execution_count": null,
   "metadata": {},
   "outputs": [],
   "source": []
  },
  {
   "cell_type": "markdown",
   "metadata": {},
   "source": [
    "### RandomForest"
   ]
  },
  {
   "cell_type": "code",
   "execution_count": 122,
   "metadata": {},
   "outputs": [],
   "source": [
    "from sklearn.ensemble import RandomForestClassifier"
   ]
  },
  {
   "cell_type": "code",
   "execution_count": 123,
   "metadata": {},
   "outputs": [],
   "source": [
    "pipe = Pipeline([('ss', StandardScaler()), ('rf', RandomForestClassifier())])\n",
    "\n",
    "param_grid = {'rf__n_estimators': [20],\n",
    "              'rf__criterion': ['gini', \"entropy\"],    \n",
    "              'rf__max_depth': [4, 6, 8],\n",
    "              'rf__max_features': [3, 4, 7],\n",
    "              'rf__min_samples_split': [2, 5, 10],\n",
    "              'rf__min_samples_leaf': [1, 3, 6]}\n",
    "\n",
    "grid_rf = GridSearchCV(estimator=pipe, param_grid=param_grid, n_jobs=-1)\n",
    "grid_rf.fit(X_train, y_train)\n",
    "\n",
    "train_pred_rf = grid_rf.predict(X_train)\n",
    "test_pred_rf = grid_rf.predict(X_test)"
   ]
  },
  {
   "cell_type": "code",
   "execution_count": 124,
   "metadata": {},
   "outputs": [
    {
     "name": "stdout",
     "output_type": "stream",
     "text": [
      "Training accuracy score: 0.39112321082374296\n",
      "Test accuracy score: 0.3619402985074627\n",
      "Training F1 score: 0.39112321082374296\n",
      "Test F1 score: 0.3619402985074627\n",
      "              precision    recall  f1-score   support\n",
      "\n",
      "         buy       0.15      0.26      0.19       488\n",
      "        hold       0.68      0.41      0.52      1971\n",
      "        sell       0.14      0.25      0.18       489\n",
      "\n",
      "    accuracy                           0.36      2948\n",
      "   macro avg       0.32      0.31      0.29      2948\n",
      "weighted avg       0.51      0.36      0.41      2948\n",
      "\n"
     ]
    }
   ],
   "source": [
    "# metric evaluation\n",
    "train_accu_rf = accuracy_score(y_train, train_pred_rf)\n",
    "test_accu_rf = accuracy_score(y_test, test_pred_rf)\n",
    "print('Training accuracy score: {}'.format(train_accu_rf))\n",
    "print('Test accuracy score: {}'.format(test_accu_rf))\n",
    "\n",
    "train_f1_rf = f1_score(y_train, train_pred_rf, average='micro')\n",
    "test_f1_rf = f1_score(y_test, test_pred_rf, average='micro')\n",
    "print('Training F1 score: {}'.format(train_f1_rf))\n",
    "print('Test F1 score: {}'.format(test_f1_rf))\n",
    "\n",
    "print(classification_report(y_test, test_pred_rf))"
   ]
  },
  {
   "cell_type": "code",
   "execution_count": 130,
   "metadata": {},
   "outputs": [
    {
     "data": {
      "text/plain": [
       "<sklearn.metrics._plot.confusion_matrix.ConfusionMatrixDisplay at 0x7fb1ce6239d0>"
      ]
     },
     "execution_count": 130,
     "metadata": {},
     "output_type": "execute_result"
    },
    {
     "data": {
      "image/png": "[encoded data removed]",
      "text/plain": [
       "<Figure size 432x288 with 2 Axes>"
      ]
     },
     "metadata": {},
     "output_type": "display_data"
    }
   ],
   "source": [
    "plot_confusion_matrix(grid_rf, X_train, y_train)"
   ]
  },
  {
   "cell_type": "code",
   "execution_count": null,
   "metadata": {},
   "outputs": [],
   "source": []
  },
  {
   "cell_type": "markdown",
   "metadata": {},
   "source": [
    "### XGBoost"
   ]
  },
  {
   "cell_type": "code",
   "execution_count": 126,
   "metadata": {},
   "outputs": [],
   "source": [
    "from xgboost import XGBClassifier"
   ]
  },
  {
   "cell_type": "code",
   "execution_count": 127,
   "metadata": {},
   "outputs": [
    {
     "name": "stdout",
     "output_type": "stream",
     "text": [
      "[19:50:50] WARNING: /Users/runner/miniforge3/conda-bld/xgboost_1598185652448/work/src/learner.cc:516: \n",
      "Parameters: { criterion, max_features, min_samples_leaf, min_samples_split } might not be used.\n",
      "\n",
      "  This may not be accurate due to some parameters are only used in language bindings but\n",
      "  passed down to XGBoost core.  Or some parameters are not used but slip through this\n",
      "  verification. Please open an issue if you find above cases.\n",
      "\n",
      "\n"
     ]
    }
   ],
   "source": [
    "pipe = Pipeline([('ss', StandardScaler()), ('xgb', XGBClassifier())])\n",
    "\n",
    "param_grid = {\n",
    "              'xgb__n_estimators': [10],\n",
    "              'xgb__criterion': ['gini', \"entropy\"],    \n",
    "              'xgb__max_depth': [4, 6, 8],\n",
    "              'xgb__max_features': [3, 4, 7],\n",
    "              'xgb__min_samples_split': [2, 5, 10],\n",
    "              'xgb__min_samples_leaf': [1, 3, 6],              \n",
    "#               'xgb__learning_rate': [0.2],\n",
    "#               'xgb__min_child_weight': [1, 2],\n",
    "#               'xgb__subsample': [0.5]\n",
    "             }\n",
    "\n",
    "grid_xgb = GridSearchCV(estimator=pipe, param_grid=param_grid, n_jobs=-1)\n",
    "grid_xgb.fit(X_train, y_train)\n",
    "\n",
    "train_pred_xgb = grid_xgb.predict(X_train)\n",
    "test_pred_xgb = grid_xgb.predict(X_test)"
   ]
  },
  {
   "cell_type": "code",
   "execution_count": 128,
   "metadata": {},
   "outputs": [
    {
     "name": "stdout",
     "output_type": "stream",
     "text": [
      "Training accuracy score: 0.39487687167429775\n",
      "Test accuracy score: 0.3483717774762551\n",
      "Training F1 score: 0.39487687167429775\n",
      "Test F1 score: 0.3483717774762551\n",
      "              precision    recall  f1-score   support\n",
      "\n",
      "         buy       0.14      0.24      0.17       488\n",
      "        hold       0.68      0.40      0.50      1971\n",
      "        sell       0.14      0.26      0.18       489\n",
      "\n",
      "    accuracy                           0.35      2948\n",
      "   macro avg       0.32      0.30      0.28      2948\n",
      "weighted avg       0.50      0.35      0.39      2948\n",
      "\n"
     ]
    }
   ],
   "source": [
    "# metric evaluation\n",
    "train_accu_xgb = accuracy_score(y_train, train_pred_xgb)\n",
    "test_accu_xgb = accuracy_score(y_test, test_pred_xgb)\n",
    "print('Training accuracy score: {}'.format(train_accu_xgb))\n",
    "print('Test accuracy score: {}'.format(test_accu_xgb))\n",
    "\n",
    "train_f1_xgb = f1_score(y_train, train_pred_xgb, average='micro')\n",
    "test_f1_xgb = f1_score(y_test, test_pred_xgb, average='micro')\n",
    "print('Training F1 score: {}'.format(train_f1_xgb))\n",
    "print('Test F1 score: {}'.format(test_f1_xgb))\n",
    "\n",
    "print(classification_report(y_test, test_pred_xgb))"
   ]
  },
  {
   "cell_type": "code",
   "execution_count": 132,
   "metadata": {},
   "outputs": [
    {
     "data": {
      "image/png": "[encoded data removed]",
      "text/plain": [
       "<Figure size 432x288 with 2 Axes>"
      ]
     },
     "metadata": {},
     "output_type": "display_data"
    }
   ],
   "source": [
    "plot_confusion_matrix(grid_xgb, X_train, y_train)\n",
    "#plt.savefig('images/xgb.jpeg', format='jpeg')"
   ]
  },
  {
   "cell_type": "code",
   "execution_count": null,
   "metadata": {},
   "outputs": [],
   "source": []
  }
 ],
 "metadata": {
  "kernelspec": {
   "display_name": "learn-env",
   "language": "python",
   "name": "learn-env"
  },
  "language_info": {
   "codemirror_mode": {
    "name": "ipython",
    "version": 3
   },
   "file_extension": ".py",
   "mimetype": "text/x-python",
   "name": "python",
   "nbconvert_exporter": "python",
   "pygments_lexer": "ipython3",
   "version": "3.8.5"
  },
  "toc": {
   "base_numbering": 1,
   "nav_menu": {},
   "number_sections": true,
   "sideBar": true,
   "skip_h1_title": false,
   "title_cell": "Table of Contents",
   "title_sidebar": "Contents",
   "toc_cell": false,
   "toc_position": {
    "height": "calc(100% - 180px)",
    "left": "10px",
    "top": "150px",
    "width": "236.797px"
   },
   "toc_section_display": true,
   "toc_window_display": true
  },
  "varInspector": {
   "cols": {
    "lenName": 16,
    "lenType": 16,
    "lenVar": 40
   },
   "kernels_config": {
    "python": {
     "delete_cmd_postfix": "",
     "delete_cmd_prefix": "del ",
     "library": "var_list.py",
     "varRefreshCmd": "print(var_dic_list())"
    },
    "r": {
     "delete_cmd_postfix": ") ",
     "delete_cmd_prefix": "rm(",
     "library": "var_list.r",
     "varRefreshCmd": "cat(var_dic_list()) "
    }
   },
   "types_to_exclude": [
    "module",
    "function",
    "builtin_function_or_method",
    "instance",
    "_Feature"
   ],
   "window_display": false
  }
 },
 "nbformat": 4,
 "nbformat_minor": 4
}
