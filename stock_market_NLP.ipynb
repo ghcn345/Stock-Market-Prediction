{
 "cells": [
  {
   "cell_type": "markdown",
   "metadata": {},
   "source": [
    "## Overview"
   ]
  },
  {
   "cell_type": "markdown",
   "metadata": {},
   "source": [
    "Accurate prediction of stock market asset is a significant and challenging task due to complicated nature of the financial stock markets. Considering the increasing availability and affordability of powerful computational engines, deep learning methods of prediction have proved its efficiency in finance."
   ]
  },
  {
   "cell_type": "markdown",
   "metadata": {},
   "source": [
    "## Business Understanding"
   ]
  },
  {
   "cell_type": "markdown",
   "metadata": {},
   "source": [
    "A time series regression model using NN or other advanced techniques is built to predict the stock market. Stock market prediction aims to determine the future movement of the stock value of a financial exchange. This project is helpful for Stock investors and investment banks to have a better understanding in developing economical Strategy and in making financial decisions."
   ]
  },
  {
   "cell_type": "markdown",
   "metadata": {},
   "source": [
    "### Import Packages"
   ]
  },
  {
   "cell_type": "code",
   "execution_count": 1,
   "metadata": {},
   "outputs": [
    {
     "name": "stderr",
     "output_type": "stream",
     "text": [
      "[nltk_data] Downloading package vader_lexicon to\n",
      "[nltk_data]     /Users/mbcn345/nltk_data...\n",
      "[nltk_data]   Package vader_lexicon is already up-to-date!\n"
     ]
    },
    {
     "data": {
      "text/plain": [
       "True"
      ]
     },
     "execution_count": 1,
     "metadata": {},
     "output_type": "execute_result"
    }
   ],
   "source": [
    "import twint\n",
    "\n",
    "import nest_asyncio\n",
    "nest_asyncio.apply()\n",
    "\n",
    "import pandas as pd\n",
    "# pd.set_option('display.max_rows', 500)\n",
    "# pd.set_option('display.max_columns', 500)\n",
    "# pd.set_option('display.width', 1000)\n",
    "import numpy as np\n",
    "import matplotlib.pyplot as plt\n",
    "from nltk.sentiment.vader import SentimentIntensityAnalyzer\n",
    "import nltk\n",
    "nltk.download('vader_lexicon')"
   ]
  },
  {
   "cell_type": "markdown",
   "metadata": {},
   "source": [
    "## Twint"
   ]
  },
  {
   "cell_type": "code",
   "execution_count": 2,
   "metadata": {},
   "outputs": [],
   "source": [
    "%%capture\n",
    "# Configuring Twint to search for the subject in the first specified city\n",
    "c = twint.Config()\n",
    "\n",
    "# The amount of tweets to return sorted by most recent\n",
    "c.Limit = 200\n",
    "\n",
    "# Input parameters\n",
    "c.Search = \"$AAPL\"\n",
    "\n",
    "# Removing retweets\n",
    "c.Filter_retweets = True\n",
    "\n",
    "# No pictures or video\n",
    "c.Media = False\n",
    "\n",
    "# English only\n",
    "c.Lang ='en'\n",
    "\n",
    "# Excluding tweets with links\n",
    "c.Links ='exclude'\n",
    "\n",
    "# Making the results pandas friendly\n",
    "c.Pandas = True\n",
    "\n",
    "twint.run.Search(c)\n",
    "\n",
    "# Assigning the DF\n",
    "df = twint.storage.panda.Tweets_df"
   ]
  },
  {
   "cell_type": "code",
   "execution_count": 4,
   "metadata": {},
   "outputs": [
    {
     "data": {
      "text/html": [
       "<div>\n",
       "<style scoped>\n",
       "    .dataframe tbody tr th:only-of-type {\n",
       "        vertical-align: middle;\n",
       "    }\n",
       "\n",
       "    .dataframe tbody tr th {\n",
       "        vertical-align: top;\n",
       "    }\n",
       "\n",
       "    .dataframe thead th {\n",
       "        text-align: right;\n",
       "    }\n",
       "</style>\n",
       "<table border=\"1\" class=\"dataframe\">\n",
       "  <thead>\n",
       "    <tr style=\"text-align: right;\">\n",
       "      <th></th>\n",
       "      <th>id</th>\n",
       "      <th>conversation_id</th>\n",
       "      <th>created_at</th>\n",
       "      <th>date</th>\n",
       "      <th>timezone</th>\n",
       "      <th>place</th>\n",
       "      <th>tweet</th>\n",
       "      <th>language</th>\n",
       "      <th>hashtags</th>\n",
       "      <th>cashtags</th>\n",
       "      <th>...</th>\n",
       "      <th>geo</th>\n",
       "      <th>source</th>\n",
       "      <th>user_rt_id</th>\n",
       "      <th>user_rt</th>\n",
       "      <th>retweet_id</th>\n",
       "      <th>reply_to</th>\n",
       "      <th>retweet_date</th>\n",
       "      <th>translate</th>\n",
       "      <th>trans_src</th>\n",
       "      <th>trans_dest</th>\n",
       "    </tr>\n",
       "  </thead>\n",
       "  <tbody>\n",
       "    <tr>\n",
       "      <th>0</th>\n",
       "      <td>1402537700075393026</td>\n",
       "      <td>1402537700075393026</td>\n",
       "      <td>1.623226e+12</td>\n",
       "      <td>2021-06-09 04:07:00</td>\n",
       "      <td>-0400</td>\n",
       "      <td></td>\n",
       "      <td>Best stocks to get at 4AM!  $CLOV $NEXT $GME $...</td>\n",
       "      <td>en</td>\n",
       "      <td>[]</td>\n",
       "      <td>[clov, next, gme, amc, f, wish, itub, wkhs, aapl]</td>\n",
       "      <td>...</td>\n",
       "      <td></td>\n",
       "      <td></td>\n",
       "      <td></td>\n",
       "      <td></td>\n",
       "      <td></td>\n",
       "      <td>[]</td>\n",
       "      <td></td>\n",
       "      <td></td>\n",
       "      <td></td>\n",
       "      <td></td>\n",
       "    </tr>\n",
       "    <tr>\n",
       "      <th>1</th>\n",
       "      <td>1402535947393134593</td>\n",
       "      <td>1402535947393134593</td>\n",
       "      <td>1.623226e+12</td>\n",
       "      <td>2021-06-09 04:00:02</td>\n",
       "      <td>-0400</td>\n",
       "      <td></td>\n",
       "      <td>Best stocks to get at 4AM!  $CLOV $NEXT $GME $...</td>\n",
       "      <td>en</td>\n",
       "      <td>[]</td>\n",
       "      <td>[clov, next, gme, amc, f, wish, itub, wkhs, aapl]</td>\n",
       "      <td>...</td>\n",
       "      <td></td>\n",
       "      <td></td>\n",
       "      <td></td>\n",
       "      <td></td>\n",
       "      <td></td>\n",
       "      <td>[]</td>\n",
       "      <td></td>\n",
       "      <td></td>\n",
       "      <td></td>\n",
       "      <td></td>\n",
       "    </tr>\n",
       "    <tr>\n",
       "      <th>2</th>\n",
       "      <td>1402520392066011137</td>\n",
       "      <td>1402158634361049089</td>\n",
       "      <td>1.623222e+12</td>\n",
       "      <td>2021-06-09 02:58:13</td>\n",
       "      <td>-0400</td>\n",
       "      <td></td>\n",
       "      <td>@sterlingredpill @kweiner01 For my part I'd ju...</td>\n",
       "      <td>en</td>\n",
       "      <td>[]</td>\n",
       "      <td>[aapl]</td>\n",
       "      <td>...</td>\n",
       "      <td></td>\n",
       "      <td></td>\n",
       "      <td></td>\n",
       "      <td></td>\n",
       "      <td></td>\n",
       "      <td>[{'screen_name': 'sterlingredpill', 'name': 'S...</td>\n",
       "      <td></td>\n",
       "      <td></td>\n",
       "      <td></td>\n",
       "      <td></td>\n",
       "    </tr>\n",
       "    <tr>\n",
       "      <th>3</th>\n",
       "      <td>1402516204938485764</td>\n",
       "      <td>1402516204938485764</td>\n",
       "      <td>1.623221e+12</td>\n",
       "      <td>2021-06-09 02:41:35</td>\n",
       "      <td>-0400</td>\n",
       "      <td></td>\n",
       "      <td>Moved 30% off the $CLOV money into $AAPL. Leav...</td>\n",
       "      <td>en</td>\n",
       "      <td>[]</td>\n",
       "      <td>[clov, aapl]</td>\n",
       "      <td>...</td>\n",
       "      <td></td>\n",
       "      <td></td>\n",
       "      <td></td>\n",
       "      <td></td>\n",
       "      <td></td>\n",
       "      <td>[]</td>\n",
       "      <td></td>\n",
       "      <td></td>\n",
       "      <td></td>\n",
       "      <td></td>\n",
       "    </tr>\n",
       "    <tr>\n",
       "      <th>4</th>\n",
       "      <td>1402512030758748163</td>\n",
       "      <td>1402512030758748163</td>\n",
       "      <td>1.623220e+12</td>\n",
       "      <td>2021-06-09 02:25:00</td>\n",
       "      <td>-0400</td>\n",
       "      <td></td>\n",
       "      <td>Best stocks to get at 4AM!  $CLOV $NEXT $GME $...</td>\n",
       "      <td>en</td>\n",
       "      <td>[]</td>\n",
       "      <td>[clov, next, gme, amc, f, wish, itub, wkhs, aapl]</td>\n",
       "      <td>...</td>\n",
       "      <td></td>\n",
       "      <td></td>\n",
       "      <td></td>\n",
       "      <td></td>\n",
       "      <td></td>\n",
       "      <td>[]</td>\n",
       "      <td></td>\n",
       "      <td></td>\n",
       "      <td></td>\n",
       "      <td></td>\n",
       "    </tr>\n",
       "  </tbody>\n",
       "</table>\n",
       "<p>5 rows × 38 columns</p>\n",
       "</div>"
      ],
      "text/plain": [
       "                    id      conversation_id    created_at  \\\n",
       "0  1402537700075393026  1402537700075393026  1.623226e+12   \n",
       "1  1402535947393134593  1402535947393134593  1.623226e+12   \n",
       "2  1402520392066011137  1402158634361049089  1.623222e+12   \n",
       "3  1402516204938485764  1402516204938485764  1.623221e+12   \n",
       "4  1402512030758748163  1402512030758748163  1.623220e+12   \n",
       "\n",
       "                  date timezone place  \\\n",
       "0  2021-06-09 04:07:00    -0400         \n",
       "1  2021-06-09 04:00:02    -0400         \n",
       "2  2021-06-09 02:58:13    -0400         \n",
       "3  2021-06-09 02:41:35    -0400         \n",
       "4  2021-06-09 02:25:00    -0400         \n",
       "\n",
       "                                               tweet language hashtags  \\\n",
       "0  Best stocks to get at 4AM!  $CLOV $NEXT $GME $...       en       []   \n",
       "1  Best stocks to get at 4AM!  $CLOV $NEXT $GME $...       en       []   \n",
       "2  @sterlingredpill @kweiner01 For my part I'd ju...       en       []   \n",
       "3  Moved 30% off the $CLOV money into $AAPL. Leav...       en       []   \n",
       "4  Best stocks to get at 4AM!  $CLOV $NEXT $GME $...       en       []   \n",
       "\n",
       "                                            cashtags  ...  geo source  \\\n",
       "0  [clov, next, gme, amc, f, wish, itub, wkhs, aapl]  ...               \n",
       "1  [clov, next, gme, amc, f, wish, itub, wkhs, aapl]  ...               \n",
       "2                                             [aapl]  ...               \n",
       "3                                       [clov, aapl]  ...               \n",
       "4  [clov, next, gme, amc, f, wish, itub, wkhs, aapl]  ...               \n",
       "\n",
       "  user_rt_id user_rt  retweet_id  \\\n",
       "0                                  \n",
       "1                                  \n",
       "2                                  \n",
       "3                                  \n",
       "4                                  \n",
       "\n",
       "                                            reply_to retweet_date translate  \\\n",
       "0                                                 []                          \n",
       "1                                                 []                          \n",
       "2  [{'screen_name': 'sterlingredpill', 'name': 'S...                          \n",
       "3                                                 []                          \n",
       "4                                                 []                          \n",
       "\n",
       "  trans_src  trans_dest  \n",
       "0                        \n",
       "1                        \n",
       "2                        \n",
       "3                        \n",
       "4                        \n",
       "\n",
       "[5 rows x 38 columns]"
      ]
     },
     "execution_count": 4,
     "metadata": {},
     "output_type": "execute_result"
    }
   ],
   "source": [
    "df.head()"
   ]
  },
  {
   "cell_type": "code",
   "execution_count": 7,
   "metadata": {},
   "outputs": [],
   "source": [
    "def sentiment_class(score):\n",
    "    \"\"\"\n",
    "    Labels each tweet based on its sentiment score\n",
    "    \"\"\"\n",
    "    if score > 0: score = \"Positive\"\n",
    "    elif score < 0: score ='Negative'\n",
    "    else: score = 'Neutral'\n",
    "        \n",
    "    return score"
   ]
  },
  {
   "cell_type": "code",
   "execution_count": 8,
   "metadata": {},
   "outputs": [],
   "source": [
    "# Instantiating the sentiment analyzer\n",
    "sid = SentimentIntensityAnalyzer()\n",
    "\n",
    "# Grabbing the sentiment scores and assigning them to a new column\n",
    "df['sentiment'] = [sid.polarity_scores(df.tweet.iloc[i])['compound'] for i in range(len(df))]\n",
    "\n",
    "# Labeling the tweets in a new column\n",
    "df['feel'] = df.sentiment.apply(sentiment_class)"
   ]
  },
  {
   "cell_type": "code",
   "execution_count": 10,
   "metadata": {},
   "outputs": [
    {
     "name": "stdout",
     "output_type": "stream",
     "text": [
      "Positive    100\n",
      "Neutral      76\n",
      "Negative     24\n",
      "Name: feel, dtype: int64\n"
     ]
    },
    {
     "data": {
      "image/png": "[encoded data removed]",
      "text/plain": [
       "<Figure size 432x288 with 1 Axes>"
      ]
     },
     "metadata": {},
     "output_type": "display_data"
    }
   ],
   "source": [
    "print(df.feel.value_counts())\n",
    "\n",
    "plt.style.use('fivethirtyeight')\n",
    "plt.rcParams['font.size'] = 30\n",
    "fig, ax = plt.subplots()\n",
    "\n",
    "ax.pie(list(df.feel.value_counts()), \n",
    "       labels=df.feel.value_counts().index, \n",
    "       autopct='%1.1f%%',\n",
    "       wedgeprops = { 'linewidth': 7, 'edgecolor': 'whitesmoke' })\n",
    "\n",
    "circle = plt.Circle((0,0), 0.3, color='whitesmoke')\n",
    "fig = plt.gcf()\n",
    "fig.gca().add_artist(circle)\n",
    "\n",
    "ax.set_title(f\"Count of Tweets for \\n{'AAPL'}\")\n",
    "ax.axis('equal')\n",
    "#plt.savefig('images/count.jpeg', format='jpeg')"
   ]
  },
  {
   "cell_type": "code",
   "execution_count": 11,
   "metadata": {},
   "outputs": [
    {
     "data": {
      "image/png": "[encoded data removed]",
      "text/plain": [
       "<Figure size 432x288 with 1 Axes>"
      ]
     },
     "metadata": {},
     "output_type": "display_data"
    }
   ],
   "source": [
    "plt.style.use('fivethirtyeight')\n",
    "\n",
    "fig, ax = plt.subplots()\n",
    "\n",
    "# Plotting the sentiment scores\n",
    "ax.hist(df['sentiment'], bins=5)\n",
    "\n",
    "plt.title(f\"Sentiment for {'AAPL'}\")\n",
    "ax.set_xticks([-1,0,1])\n",
    "ax.set_xticklabels(['negative', 'neutral', 'positive'])\n",
    "plt.xlabel(\"Sentiment\")\n",
    "plt.ylabel(\"# of Tweets\")\n",
    "#plt.savefig('images/sentiment.jpeg', format='jpeg')"
   ]
  },
  {
   "cell_type": "code",
   "execution_count": null,
   "metadata": {},
   "outputs": [],
   "source": []
  },
  {
   "cell_type": "markdown",
   "metadata": {},
   "source": [
    "### Analyze sentiment of tweets"
   ]
  },
  {
   "cell_type": "code",
   "execution_count": 14,
   "metadata": {},
   "outputs": [],
   "source": [
    "from textblob import TextBlob\n",
    "from IPython.display import Markdown, display"
   ]
  },
  {
   "cell_type": "code",
   "execution_count": 15,
   "metadata": {},
   "outputs": [],
   "source": [
    "def printmd(string, color=None):\n",
    "    colorstr = \"<span style='color:{}'>{}</span>\".format(color, string)\n",
    "    display(Markdown(colorstr))"
   ]
  },
  {
   "cell_type": "code",
   "execution_count": null,
   "metadata": {},
   "outputs": [],
   "source": [
    "for tweet in tweets:\n",
    "    print(tweet)\n",
    "    analysis = TextBlob(tweet)\n",
    "    print(analysis.sentiment)\n",
    "    if analysis.sentiment[0]>0:\n",
    "        printmd('Positive', color=\"green\")\n",
    "    elif analysis.sentiment[0]<0:\n",
    "        printmd('Negative', color=\"red\")\n",
    "    else:\n",
    "        printmd(\"Neutral\", color=\"grey\")\n",
    "        print(\"\")"
   ]
  },
  {
   "cell_type": "markdown",
   "metadata": {},
   "source": [
    "## Add sentiments to dataframe"
   ]
  },
  {
   "cell_type": "code",
   "execution_count": 24,
   "metadata": {},
   "outputs": [],
   "source": [
    "from pyspark.sql.functions import udf"
   ]
  },
  {
   "cell_type": "code",
   "execution_count": 25,
   "metadata": {},
   "outputs": [],
   "source": [
    "def apply_blob(sentence):\n",
    "    temp = TextBlob(sentence).sentiment[0]\n",
    "    if temp == 0.0:\n",
    "        return 0.0 # Neutral\n",
    "    elif temp >= 0.0:\n",
    "        return 1.0 # Positive\n",
    "    else:\n",
    "        return 2.0 # Negative"
   ]
  },
  {
   "cell_type": "code",
   "execution_count": 26,
   "metadata": {},
   "outputs": [],
   "source": [
    "sentiment = udf(apply_blob)"
   ]
  },
  {
   "cell_type": "code",
   "execution_count": null,
   "metadata": {},
   "outputs": [],
   "source": [
    "clean_tweets.withColumn(\"sentiment\", sentiment(clean_tweets['tweet'])).show()"
   ]
  },
  {
   "cell_type": "markdown",
   "metadata": {},
   "source": [
    "## Setup everything"
   ]
  },
  {
   "cell_type": "code",
   "execution_count": 1,
   "metadata": {},
   "outputs": [
    {
     "name": "stderr",
     "output_type": "stream",
     "text": [
      "/opt/conda/lib/python3.6/site-packages/requests/__init__.py:91: RequestsDependencyWarning: urllib3 (1.25.2) or chardet (3.0.4) doesn't match a supported version!\n",
      "  RequestsDependencyWarning)\n"
     ]
    }
   ],
   "source": [
    "%load_ext autoreload\n",
    "%autoreload 2\n",
    "\n",
    "# Import twint\n",
    "import sys\n",
    "sys.path.append(\"twint/\")\n",
    "\n",
    "# Set up TWINT config\n",
    "import twint\n",
    "c = twint.Config()\n",
    "\n",
    "# Other imports\n",
    "import seaborn as sns\n",
    "import os\n",
    "from optimus import Optimus\n",
    "op = Optimus()\n",
    "\n",
    "# Solve compatibility issues with notebooks and RunTime errors.\n",
    "import nest_asyncio\n",
    "nest_asyncio.apply()\n",
    "\n",
    "# Disable annoying printing\n",
    "\n",
    "class HiddenPrints:\n",
    "    def __enter__(self):\n",
    "        self._original_stdout = sys.stdout\n",
    "        sys.stdout = open(os.devnull, 'w')\n",
    "\n",
    "    def __exit__(self, exc_type, exc_val, exc_tb):\n",
    "        sys.stdout.close()\n",
    "        sys.stdout = self._original_stdout"
   ]
  },
  {
   "cell_type": "markdown",
   "metadata": {},
   "source": [
    "## The code with the magic"
   ]
  },
  {
   "cell_type": "code",
   "execution_count": 2,
   "metadata": {},
   "outputs": [],
   "source": [
    "from textblob import TextBlob\n",
    "from pyspark.sql.functions import udf\n",
    "from pyspark.sql.types import DoubleType\n",
    "\n",
    "# Function to get sentiment \n",
    "def apply_blob(sentence):\n",
    "    temp = TextBlob(sentence).sentiment[0]\n",
    "    if temp == 0.0:\n",
    "        return 0.0 # Neutral\n",
    "    elif temp >= 0.0:\n",
    "        return 1.0 # Positive\n",
    "    else:\n",
    "        return 2.0 # Negative\n",
    "\n",
    "# UDF to write sentiment on DF\n",
    "sentiment = udf(apply_blob, DoubleType())\n",
    "\n",
    "# Transform result to pandas\n",
    "def twint_to_pandas(columns):\n",
    "    return twint.output.panda.Tweets_df[columns]\n",
    "\n",
    "def tweets_sentiment(search, limit=1):\n",
    "    c.Search = search\n",
    "    # Custom output format\n",
    "    c.Format = \"Username: {username} |  Tweet: {tweet}\"\n",
    "    c.Limit = limit\n",
    "    c.Pandas = True\n",
    "    with HiddenPrints():\n",
    "        print(twint.run.Search(c))\n",
    "    \n",
    "    # Transform tweets to pandas DF\n",
    "    df_pd = twint_to_pandas([\"date\", \"username\", \"tweet\", \"hashtags\", \"nlikes\"])\n",
    "    \n",
    "    # Transform Pandas DF to Optimus/Spark DF\n",
    "    df = op.create.data_frame(pdf= df_pd)\n",
    "    \n",
    "    # Clean tweets\n",
    "    clean_tweets = df.cols.remove_accents(\"tweet\") \\\n",
    "                 .cols.remove_special_chars(\"tweet\")\n",
    "    \n",
    "    # Add sentiment to final DF\n",
    "    return clean_tweets.withColumn(\"sentiment\", sentiment(clean_tweets['tweet']))"
   ]
  },
  {
   "cell_type": "code",
   "execution_count": 3,
   "metadata": {},
   "outputs": [],
   "source": [
    "df_result = tweets_sentiment(\"data science\", limit=1)"
   ]
  },
  {
   "cell_type": "code",
   "execution_count": null,
   "metadata": {},
   "outputs": [],
   "source": [
    "df_result.show()"
   ]
  },
  {
   "cell_type": "markdown",
   "metadata": {},
   "source": [
    "### Lets see the distribution of the sentiments"
   ]
  },
  {
   "cell_type": "code",
   "execution_count": 37,
   "metadata": {},
   "outputs": [],
   "source": [
    "df_res_pandas = df_result.toPandas()"
   ]
  },
  {
   "cell_type": "code",
   "execution_count": 46,
   "metadata": {},
   "outputs": [
    {
     "data": {
      "image/png": "[encoded data removed]",
      "text/plain": [
       "<Figure size 842.4x595.44 with 1 Axes>"
      ]
     },
     "metadata": {},
     "output_type": "display_data"
    }
   ],
   "source": [
    "sns.distplot(df_res_pandas['sentiment'])\n",
    "sns.set(rc={'figure.figsize':(11.7,8.27)})"
   ]
  },
  {
   "cell_type": "markdown",
   "metadata": {},
   "source": [
    "# Lets do more with Twint"
   ]
  },
  {
   "cell_type": "code",
   "execution_count": 30,
   "metadata": {},
   "outputs": [
    {
     "name": "stdout",
     "output_type": "stream",
     "text": [
      "The autoreload extension is already loaded. To reload it, use:\n",
      "  %reload_ext autoreload\n"
     ]
    }
   ],
   "source": [
    "%load_ext autoreload\n",
    "%autoreload 2\n",
    "\n",
    "import sys, os\n",
    "sys.path.append(\"twint/\")\n",
    "\n",
    "import twint\n",
    "import numpy as np\n",
    "from PIL import Image\n",
    "from os import path\n",
    "\n",
    "# Solve compatibility issues with notebooks and RunTime errors.\n",
    "import nest_asyncio\n",
    "nest_asyncio.apply()"
   ]
  },
  {
   "cell_type": "code",
   "execution_count": 33,
   "metadata": {},
   "outputs": [],
   "source": [
    "# Disable annoying printing\n",
    "\n",
    "class HiddenPrints:\n",
    "    def __enter__(self):\n",
    "        self._original_stdout = sys.stdout\n",
    "        sys.stdout = open(os.devnull, 'w')\n",
    "\n",
    "    def __exit__(self, exc_type, exc_val, exc_tb):\n",
    "        sys.stdout.close()\n",
    "        sys.stdout = self._original_stdout"
   ]
  },
  {
   "cell_type": "markdown",
   "metadata": {},
   "source": [
    "## Get tweets easily"
   ]
  },
  {
   "cell_type": "code",
   "execution_count": 3,
   "metadata": {},
   "outputs": [],
   "source": [
    "def get_tweets(search, limit=100):\n",
    "    c = twint.Config()\n",
    "    c.Search = search\n",
    "    c.Limit = limit\n",
    "    c.Pandas = True\n",
    "    c.Pandas_clean = True\n",
    "\n",
    "    with HiddenPrints():\n",
    "        print(twint.run.Search(c))\n",
    "    return twint.output.panda.Tweets_df[[\"username\",\"tweet\"]]"
   ]
  },
  {
   "cell_type": "code",
   "execution_count": 4,
   "metadata": {},
   "outputs": [],
   "source": [
    "tweets = get_tweets(\"AAPL\", limit=1000)"
   ]
  },
  {
   "cell_type": "code",
   "execution_count": 5,
   "metadata": {},
   "outputs": [
    {
     "data": {
      "text/plain": [
       "username    10003\n",
       "tweet       10003\n",
       "dtype: int64"
      ]
     },
     "execution_count": 5,
     "metadata": {},
     "output_type": "execute_result"
    }
   ],
   "source": [
    "tweets.count()"
   ]
  },
  {
   "cell_type": "markdown",
   "metadata": {},
   "source": [
    "## Generate word cloud"
   ]
  },
  {
   "cell_type": "code",
   "execution_count": 6,
   "metadata": {},
   "outputs": [],
   "source": [
    "from wordcloud import WordCloud, STOPWORDS, ImageColorGenerator\n",
    "import matplotlib.pyplot as plt\n",
    "%matplotlib inline\n",
    "\n",
    "text = tweets.tweet.values\n",
    "\n",
    "# adding movie script specific stopwords\n",
    "stopwords = set(STOPWORDS)\n",
    "stopwords.add(\"https\")\n",
    "stopwords.add(\"xa0\")\n",
    "stopwords.add(\"xa0'\")\n",
    "stopwords.add(\"bitly\")\n",
    "stopwords.add(\"bit\")\n",
    "stopwords.add(\"ly\")\n",
    "stopwords.add(\"twitter\")\n",
    "stopwords.add(\"pic\")\n",
    "\n",
    "wordcloud = WordCloud(\n",
    "    background_color = 'black',\n",
    "    width = 1000,\n",
    "    height = 500,\n",
    "    stopwords = stopwords).generate(str(text))"
   ]
  },
  {
   "cell_type": "code",
   "execution_count": null,
   "metadata": {},
   "outputs": [],
   "source": [
    "plt.imshow(wordcloud, interpolation='bilinear')\n",
    "plt.axis(\"off\")\n",
    "plt.rcParams['figure.figsize'] = [10, 10]"
   ]
  },
  {
   "cell_type": "code",
   "execution_count": 12,
   "metadata": {},
   "outputs": [],
   "source": [
    "def generate_word_cloud(tweets):\n",
    "    \n",
    "    # Getting the text out of the tweets\n",
    "    text = tweets.tweet.values\n",
    "    \n",
    "    # adding movie script specific stopwords\n",
    "    stopwords = set(STOPWORDS)\n",
    "    stopwords.add(\"https\")\n",
    "    stopwords.add(\"xa0\")\n",
    "    stopwords.add(\"xa0'\")\n",
    "    stopwords.add(\"bitly\")\n",
    "    stopwords.add(\"bit\")\n",
    "    stopwords.add(\"ly\")\n",
    "    stopwords.add(\"twitter\")\n",
    "    stopwords.add(\"pic\")\n",
    "\n",
    "    wordcloud = WordCloud(\n",
    "        background_color = 'black',\n",
    "        width = 1000,\n",
    "        height = 500,\n",
    "        stopwords = stopwords).generate(str(text))\n",
    "    \n",
    "    plt.imshow(wordcloud, interpolation='bilinear')\n",
    "    plt.axis(\"off\")\n",
    "    plt.rcParams['figure.figsize'] = [10, 10]"
   ]
  },
  {
   "cell_type": "markdown",
   "metadata": {},
   "source": [
    "## Other example"
   ]
  },
  {
   "cell_type": "code",
   "execution_count": 14,
   "metadata": {},
   "outputs": [],
   "source": [
    "tweets = get_tweets(\"Apple\", limit=1000)"
   ]
  },
  {
   "cell_type": "code",
   "execution_count": null,
   "metadata": {},
   "outputs": [],
   "source": [
    "generate_word_cloud(tweets)"
   ]
  },
  {
   "cell_type": "markdown",
   "metadata": {},
   "source": [
    "## Scaling up"
   ]
  },
  {
   "cell_type": "code",
   "execution_count": null,
   "metadata": {},
   "outputs": [],
   "source": [
    "df_result = tweets_sentiment(\"AAPL\", limit=10000)\n",
    "df_result.show()"
   ]
  }
 ],
 "metadata": {
  "kernelspec": {
   "display_name": "learn-env",
   "language": "python",
   "name": "learn-env"
  },
  "language_info": {
   "codemirror_mode": {
    "name": "ipython",
    "version": 3
   },
   "file_extension": ".py",
   "mimetype": "text/x-python",
   "name": "python",
   "nbconvert_exporter": "python",
   "pygments_lexer": "ipython3",
   "version": "3.8.5"
  },
  "toc": {
   "base_numbering": 1,
   "nav_menu": {},
   "number_sections": true,
   "sideBar": true,
   "skip_h1_title": false,
   "title_cell": "Table of Contents",
   "title_sidebar": "Contents",
   "toc_cell": false,
   "toc_position": {
    "height": "calc(100% - 180px)",
    "left": "10px",
    "top": "150px",
    "width": "236.797px"
   },
   "toc_section_display": true,
   "toc_window_display": true
  },
  "varInspector": {
   "cols": {
    "lenName": 16,
    "lenType": 16,
    "lenVar": 40
   },
   "kernels_config": {
    "python": {
     "delete_cmd_postfix": "",
     "delete_cmd_prefix": "del ",
     "library": "var_list.py",
     "varRefreshCmd": "print(var_dic_list())"
    },
    "r": {
     "delete_cmd_postfix": ") ",
     "delete_cmd_prefix": "rm(",
     "library": "var_list.r",
     "varRefreshCmd": "cat(var_dic_list()) "
    }
   },
   "types_to_exclude": [
    "module",
    "function",
    "builtin_function_or_method",
    "instance",
    "_Feature"
   ],
   "window_display": false
  }
 },
 "nbformat": 4,
 "nbformat_minor": 4
}
