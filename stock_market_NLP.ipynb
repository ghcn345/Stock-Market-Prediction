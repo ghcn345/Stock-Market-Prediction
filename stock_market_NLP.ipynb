{
 "cells": [
  {
   "cell_type": "markdown",
   "metadata": {},
   "source": [
    "# Stock Market Prediction"
   ]
  },
  {
   "cell_type": "markdown",
   "metadata": {},
   "source": [
    "## Overview"
   ]
  },
  {
   "cell_type": "markdown",
   "metadata": {},
   "source": [
    "Accurate prediction of stock market asset is a significant and challenging task due to complicated nature of the financial stock markets. Considering the increasing availability and affordability of powerful computational engines, deep learning methods of prediction have proved its efficiency in finance."
   ]
  },
  {
   "cell_type": "markdown",
   "metadata": {},
   "source": [
    "## Business Understanding"
   ]
  },
  {
   "cell_type": "markdown",
   "metadata": {},
   "source": [
    "A time series regression model using NN or other advanced techniques is built to predict the stock market. Stock market prediction aims to determine the future movement of the stock value of a financial exchange. This project is helpful for Stock investors and investment banks to have a better understanding in developing economical Strategy and in making financial decisions."
   ]
  },
  {
   "cell_type": "markdown",
   "metadata": {},
   "source": [
    "### Import Packages"
   ]
  },
  {
   "cell_type": "code",
   "execution_count": 1,
   "metadata": {
    "ExecuteTime": {
     "end_time": "2020-11-09T16:42:16.477059Z",
     "start_time": "2020-11-09T16:42:16.465937Z"
    }
   },
   "outputs": [],
   "source": [
    "import twint\n",
    "import nest_asyncio\n",
    "nest_asyncio.apply()\n",
    "\n",
    "import pandas as pd\n",
    "pd.set_option('display.max_rows', 500)\n",
    "pd.set_option('display.max_columns', 500)\n",
    "pd.set_option('display.width', 1000)\n",
    "import numpy as np\n",
    "import matplotlib.pyplot as plt\n",
    "from nltk.sentiment.vader import SentimentIntensityAnalyzer"
   ]
  },
  {
   "cell_type": "code",
   "execution_count": null,
   "metadata": {},
   "outputs": [],
   "source": []
  },
  {
   "cell_type": "markdown",
   "metadata": {},
   "source": [
    "## Twint"
   ]
  },
  {
   "cell_type": "code",
   "execution_count": 3,
   "metadata": {},
   "outputs": [
    {
     "name": "stdout",
     "output_type": "stream",
     "text": [
      "\u001b[31mERROR: Could not open requirements file: [Errno 2] No such file or directory: 'requirements.txt'\u001b[0m\n"
     ]
    }
   ],
   "source": [
    "!pip install --user -r requirements.txt"
   ]
  },
  {
   "cell_type": "code",
   "execution_count": 2,
   "metadata": {},
   "outputs": [
    {
     "name": "stdout",
     "output_type": "stream",
     "text": [
      "1385560819065311237 2021-04-23 07:46:56 -0400 <noneprivacy> Hey mom look I'm on @Hakin9    https://t.co/DYnGXuTkQz\n",
      "1384929804017885187 2021-04-21 13:59:30 -0400 <noneprivacy> @FiloSottile It's a privacy violation, not just a \"bug\". Still, Whatsapp says that's a feature.\n",
      "1381958323986124801 2021-04-13 09:11:54 -0400 <noneprivacy> The FB, Linkedin and Clubhouse \"leaks\" are not actual leaks  Then, if we want to discuss if being able to get that amount of data is wrong or not, let's chat but it's a totally different topic\n",
      "1380461578257104896 2021-04-09 06:04:22 -0400 <noneprivacy> @Cloudflare updated their infrastructure IPs list, make the following changes to your iptables rules  Remove:  104.16.0.0/12   Add:  104.16.0.0/13 104.24.0.0/14\n",
      "1380109111581364225 2021-04-08 06:43:48 -0400 <noneprivacy> @Zewensec @Ginger__T Well, keeping the analogy, I hope that you put the X on your map yourself In my personal vision, it's like your goal\n",
      "1380106045251588098 2021-04-08 06:31:36 -0400 <noneprivacy> @Ginger__T Aaah damn, felt something was missing and that's it!\n",
      "1380091641898360832 2021-04-08 05:34:22 -0400 <noneprivacy> #ELI5 #OSINT  OSINT is like doing a treasure hunt, but you need to make your own map.\n",
      "1379695877800005633 2021-04-07 03:21:45 -0400 <noneprivacy> @serhack_ I used Trello and Gitkraken in the past, fine with both  Gitkraken is not just a Git client, you also have issue board, timeline and nice stuff, all made easy\n",
      "1379692350633611269 2021-04-07 03:07:44 -0400 <noneprivacy> What do you suggest to use?  Feel free to leave a comment, I value your feedback!\n",
      "1379337256239046656 2021-04-06 03:36:43 -0400 <noneprivacy> @shofieu Hi Shofiuddin, I don't touch twint since a while so the code may just not work for other reasons\n",
      "1378974349194067968 2021-04-05 03:34:39 -0400 <noneprivacy> @B1tSmurf Ah nice, I don't know much about Object Pascal Good to know!\n",
      "1378776547876876290 2021-04-04 14:28:40 -0400 <noneprivacy> Could be of interest to @BufferBandit 😂\n",
      "1378776288471756811 2021-04-04 14:27:38 -0400 <noneprivacy> Let's add some pepper to this, and specifically for C/C++ (AFAIK). What about prototypes?   https://t.co/zNUVSd2oG5\n",
      "1378414070529990662 2021-04-03 14:28:18 -0400 <noneprivacy> @BufferBandit I refused to add the option \"between the first and the last\" because things should not be placed randomly Still, things that my eyes (unfortunately) have seen 😂\n",
      "1378410948696887298 2021-04-03 14:15:54 -0400 <noneprivacy> To anyone who writes C/C++/Go/Rust/whatsoever... \"main\" function as:\n",
      "1377543861648646146 2021-04-01 04:50:24 -0400 <noneprivacy> @Flizzar  https://t.co/uEJpOj333K\n",
      "1377245758563434503 2021-03-31 09:05:51 -0400 <noneprivacy> lmao\n",
      "1375836959160086531 2021-03-27 11:47:47 -0400 <noneprivacy> @uelandir  https://t.co/EO9yn0aZSP\n",
      "1375836026749530117 2021-03-27 11:44:05 -0400 <noneprivacy> 👀👀👀👌🏼  https://t.co/FFUHtUn901\n",
      "1373887803449294851 2021-03-22 02:42:32 -0400 <noneprivacy> If you need to do cross-origin requests better use an API proxy, CORS is for browsers (preflight request) so you can use Python/Go/else and proxy requests with it  Don't blame webdevs for not avoiding CORS checks (like Axios does)\n",
      "1373887801993916421 2021-03-22 02:42:32 -0400 <noneprivacy> CORS is not there for nothing or wasting time, it's a security feature. I see people asking to manage it client-side but it's handled server-side. There are ways to disable client-side checks but better not to do so\n",
      "1373367302079528961 2021-03-20 16:14:15 -0400 <noneprivacy> 🔮\n",
      "1373209264358035456 2021-03-20 05:46:16 -0400 <noneprivacy> @GONZOs_int @nickdrewe Totally agree with you!\n",
      "1373196126560587779 2021-03-20 04:54:03 -0400 <noneprivacy> @UKOSINT @OSINTtechniques Can confirm with IT IP adderss I do think it's restricted\n",
      "1373164632756604934 2021-03-20 02:48:55 -0400 <noneprivacy> @GONZOs_int @nickdrewe Nice tool mate but...  You know that emails in commits can be spoofed (and not just emails), right? 😉\n",
      "1372964633506689026 2021-03-19 13:34:11 -0400 <noneprivacy> I received an email inviting me for quick survey  The company has \"dox\" in the name  Not the best marketing choice, imho\n",
      "1372862947874250754 2021-03-19 06:50:07 -0400 <noneprivacy> @switch_d Just archive the chat, nothing's gonna happen\n",
      "1372862062716715009 2021-03-19 06:46:36 -0400 <noneprivacy> @olihough86 No F way\n",
      "1372861658419376144 2021-03-19 06:45:00 -0400 <noneprivacy> (A bit more rare) but also domains rotate! Use historical records carefully!\n",
      "1372561028601483264 2021-03-18 10:50:24 -0400 <noneprivacy> @maxxer @JAMESWT_MHT @illegalFawn @malwrhunterteam @guelfoweb @FBussoletti @andpalmier @AndreaDraghetti @dubstard Grazie 🙏🏻\n",
      "1372560979150639109 2021-03-18 10:50:13 -0400 <noneprivacy> @JAMESWT_MHT @maxxer @illegalFawn @malwrhunterteam @guelfoweb @FBussoletti @andpalmier @AndreaDraghetti @dubstard Grazie 🙏🏻\n",
      "1372559211234738179 2021-03-18 10:43:11 -0400 <noneprivacy> @maxxer @JAMESWT_MHT @illegalFawn @malwrhunterteam @guelfoweb @FBussoletti @andpalmier @AndreaDraghetti @dubstard Interessante, se non ti è di disturbo potresti condividere il testo del messaggio? Anche attraverso uno screenshot o come ti è più comodo  \"Lo sbatti\" non è \"tanto per\" ma pare che l'operazione sia un pelo larga, ho siti in italiano/spagnolo/inglese e non siamo gli unici\n",
      "1372549874961514503 2021-03-18 10:06:05 -0400 <noneprivacy> @JAMESWT_MHT @illegalFawn @malwrhunterteam @guelfoweb @FBussoletti @andpalmier @AndreaDraghetti @dubstard Probabile che chi ha ricevuto il link lo abbia ricevuto via SMS? Perché sia io che miei conoscenti abbiamo ricevuto SMS di phishing, e peraltro col nostro nome nel testo del messaggio. In alternativa, potresti condividere informazioni su come hai trovato il link? Grazie\n",
      "1370707829779234822 2021-03-13 07:06:27 -0400 <noneprivacy> IG added \"unsend\" option for direct messages. Still, if a message violates community standard it can be reported even if has been \"unsent\"  https://t.co/cTBWVN26Df\n",
      "1369957268410806273 2021-03-11 05:24:00 -0400 <noneprivacy> At the end, in my humble opinion, the point is that when using such services/tools is preferred to not abuse them (or simply use them \"too extensively\") otherwise get ready to say goodbye.  I think this is just a matter of opinions and nothing (much) more\n",
      "1369957266586275843 2021-03-11 05:23:59 -0400 <noneprivacy> But \"hey, it's free and without bounds, they made the tool/service thus it's their own responsibility. Let's use it until it's there\"  Well yes, that's true but ethically speaking is not really kind (still, their own issue, they made it this way)\n",
      "1369957264732389377 2021-03-11 05:23:59 -0400 <noneprivacy> There are a few things to say  In my opinion, just because a tool/service is free it doesn't mean that it could be abused, this would just lead to it taken down\n",
      "1369957262777794561 2021-03-11 05:23:58 -0400 <noneprivacy> More on this  I'll not share the name of the company, what happened or other details  The loophole in the free tier can be used to avoid paid plans (this is my main concern)\n",
      "1369623001214423042 2021-03-10 07:15:44 -0400 <noneprivacy> I thought mail bombing is an old thing  Still, dis/mis-information groups use it  Btw the text proposed is static, so easy to flag as spam  https://t.co/zj9mdehJpE\n",
      "1369556836853178373 2021-03-10 02:52:49 -0400 <noneprivacy> @GiorgioPatrini  https://t.co/ejzZOqYc3a\n",
      "1369553251528491010 2021-03-10 02:38:34 -0400 <noneprivacy> Malware is outdated\n",
      "1369413461684457484 2021-03-09 17:23:06 -0400 <noneprivacy> Feel free to share your experience in similar situations\n",
      "1369413045710172177 2021-03-09 17:21:27 -0400 <noneprivacy> Recently I've found a loophole in a service, I contacted the company and they basically said \"yes we are aware and that's fine for us\"  Now, what should one do?\n",
      "1369374558835343367 2021-03-09 14:48:31 -0400 <noneprivacy> 👇🏻👇🏻👇🏻\n",
      "1369334759344734209 2021-03-09 12:10:22 -0400 <noneprivacy> @1005458 fake news\n",
      "1369290486947721216 2021-03-09 09:14:26 -0400 <noneprivacy> First Encrochat, now Sky ECC   https://t.co/pqaNSakEGJ  👀\n",
      "1369017343544811523 2021-03-08 15:09:04 -0400 <noneprivacy> @DanielGallagher I would also like to contribute in other ways, both to share my experience and to learn new things\n",
      "1367836868084183040 2021-03-05 08:58:17 -0400 <noneprivacy> • assume compromise •\n",
      "1367470103537868808 2021-03-04 08:40:53 -0400 <noneprivacy> Evergreen\n",
      "1367469888957276163 2021-03-04 08:40:02 -0400 <noneprivacy> @mylifeasalllly @Infosec_Taylor Fortunately that's false!\n",
      "1366376725379239943 2021-03-01 08:16:12 -0400 <noneprivacy> #privacy help needed and hope that some #osint friend can help as well!\n",
      "1366376371908395009 2021-03-01 08:14:47 -0400 <noneprivacy> @n0x08 Then If you need an account for a few apps (only needed ones) create new of them and don't sync to any cloud service  Block/suspend the previous profile and social media and stuff  At least, I'd start this way  In case of doubt @IntelTechniques helps a lot!\n",
      "1366375822655897606 2021-03-01 08:12:36 -0400 <noneprivacy> @n0x08 At first, I'd suggest a complete hard reset of the phone (delete everything) Once the phone is \"as new\" don't use iCloud and if you need new IDs use new email addresses and phone numbers\n",
      "1365335336713400325 2021-02-26 11:18:05 -0400 <noneprivacy> @andpalmier @JAMESWT_MHT @intesasanpaolo @GruppoBPER_PR @illegalFawn @Bank_Security @PGRotondo @FBussoletti @guelfoweb /cc @Bank_Security\n",
      "1365315138245566473 2021-02-26 09:57:49 -0400 <noneprivacy> @DarkDotFail Setup some \"backup\" solutions\n",
      "1364681944089378816 2021-02-24 16:01:44 -0400 <noneprivacy> @switch_d Hey, this's written by me!\n",
      "1364322668338679809 2021-02-23 16:14:06 -0400 <noneprivacy> @BushidoToken Great thank you  May I keep you updated as soon as I can? Maybe my details/experience may help you somehow  Maybe one way or the other we can figure out what's going on and who is doing what\n",
      "1364319000684081153 2021-02-23 15:59:32 -0400 <noneprivacy> @BushidoToken Would you like to share some info? Me and friends received this sort of spam by SMS containing actual real name of the receiver There seems to be something interesting, let it be template, actors or else\n",
      "1359575205274931202 2021-02-10 13:49:23 -0400 <noneprivacy>  https://t.co/0nExEZpxAD\n",
      "1359525792007471105 2021-02-10 10:33:02 -0400 <noneprivacy> @ludoblock  https://t.co/gElNtvft0d\n",
      "1359520471096655874 2021-02-10 10:11:53 -0400 <noneprivacy> @chicago ⓘ 𝗢𝗳𝗳𝗶𝗰𝗶𝗮𝗹 𝘀𝗼𝘂𝗿𝗰𝗲𝘀 𝘀𝘁𝗮𝘁𝗲𝗱 𝘁𝗵𝗮𝘁 𝘁𝗵𝗶𝘀 𝗶𝘀 𝗳𝗮𝗹𝘀𝗲 𝗮𝗻𝗱 𝗺𝗶𝘀𝗹𝗲𝗮𝗱𝗶𝗻𝗴\n",
      "1359520180435574785 2021-02-10 10:10:44 -0400 <noneprivacy> ⓘ 𝗢𝗳𝗳𝗶𝗰𝗶𝗮𝗹 𝘀𝗼𝘂𝗿𝗰𝗲𝘀 𝘀𝘁𝗮𝘁𝗲𝗱 𝘁𝗵𝗮𝘁 𝘁𝗵𝗶𝘀 𝗶𝘀 𝗳𝗮𝗹𝘀𝗲 𝗮𝗻𝗱 𝗺𝗶𝘀𝗹𝗲𝗮𝗱𝗶𝗻𝗴\n",
      "1359479839120621577 2021-02-10 07:30:26 -0400 <noneprivacy> € 125/h is more like a blackfriday discount, sort of a gift, for professional consultancy\n",
      "1358677750085799937 2021-02-08 02:23:13 -0400 <noneprivacy> @SkittlesSpace @BOsintBlanc @DuckDuckGo @three_cube 🙏🏻\n",
      "1358677587317374979 2021-02-08 02:22:34 -0400 <noneprivacy> 👇🏻👇🏻👇🏻\n",
      "1358164692468924423 2021-02-06 16:24:30 -0400 <noneprivacy> @testdrivenio @realpython And to check if two passwords are the same don't use ==, use \" https://t.co/ysQRsgW3KN_digest\" instead!\n",
      "1357658453033025541 2021-02-05 06:52:53 -0400 <noneprivacy> Beware they are blocking entire TLDs\n",
      "1357617398745079810 2021-02-05 04:09:45 -0400 <noneprivacy> @nima_shadmehri Sent\n",
      "1357617355791228928 2021-02-05 04:09:35 -0400 <noneprivacy> @mmrabbani Sent\n",
      "1357617220168413184 2021-02-05 04:09:03 -0400 <noneprivacy> @alirezaimi Can't DM you\n",
      "1357367305009848320 2021-02-04 11:35:58 -0400 <noneprivacy> #IRanASignalProxy Reply to this thread if you want the connection details, and follow me so I can DM you the link\n",
      "1355807177001328640 2021-01-31 04:16:35 -0400 <noneprivacy> Principles and basic theory*\n",
      "1355545892565233668 2021-01-30 10:58:20 -0400 <noneprivacy>  https://t.co/SDgcYoblBd\n",
      "1355450654131539968 2021-01-30 04:39:53 -0400 <noneprivacy> Guess not gonna use production software loading libgcrypt 1.9.0 for a while now 👀\n",
      "1354736614799532032 2021-01-28 05:22:33 -0400 <noneprivacy> @ItalianComments  https://t.co/xspZOvvrH0\n",
      "1354555373479464966 2021-01-27 17:22:22 -0400 <noneprivacy> @DavidPuente Questo livello di diffamazione è abbastanza grave\n",
      "1354504602507476995 2021-01-27 14:00:37 -0400 <noneprivacy> @JordanWildon Thank you for sharing this, not just for me but also for the others  I think that people should focus more on what they give rather than what they get, and in my experience #OSINT guys do this very well!\n",
      "1353798878244515840 2021-01-25 15:16:19 -0400 <noneprivacy> @lracrr @faffa42 @fabiochiusi @ORARiccardo \"Sono Francesco Poldi e affermo di avere più di 14 anni\" con tanto di carta di identità alla mano  Boh cioè mi viene da ridere per non piangere\n",
      "1353794497939992578 2021-01-25 14:58:55 -0400 <noneprivacy> @gretelisabetta Spero sia meme\n",
      "1353611634443493376 2021-01-25 02:52:17 -0400 <noneprivacy> 👇🏻👇🏻👇🏻\n",
      "1352916391461060608 2021-01-23 04:49:38 -0400 <noneprivacy> @LockpickingPete You may be interested in joining the @TraceLabs Slack, from time to time they push new cases similar to CTFs  If that's not enough, @NCPTF8 has a specific volunteers program which you may apply to  And it doesn't stop there, there's also @OSPASafeEscape and many others!\n",
      "1352533221813219329 2021-01-22 03:27:03 -0400 <noneprivacy> @ItsNux * IT team sad noise *\n",
      "1352371708305534982 2021-01-21 16:45:15 -0400 <noneprivacy> @_MAArgentino If you may need some support, feel free to reach out ✌🏻\n",
      "1352371205005836300 2021-01-21 16:43:15 -0400 <noneprivacy> @Kkzahu @_MAArgentino Not sure if tgstat provides this sort of info, but it could be possible\n",
      "1352370406536175619 2021-01-21 16:40:05 -0400 <noneprivacy> @Flizzar Tocca piano\n",
      "1352307601099411459 2021-01-21 12:30:31 -0400 <noneprivacy> * cough * Facebook * cough *\n",
      "1352297470420774915 2021-01-21 11:50:16 -0400 <noneprivacy> @jms_dot_py I woke up with the idea of a YT channel talking about dev things, \"CPP Recipes and Headaches\"  Only have the contents for now\n",
      "1352276679406837760 2021-01-21 10:27:39 -0400 <noneprivacy>  https://t.co/MS0EpuLvlt\n",
      "1352237886473695233 2021-01-21 07:53:30 -0400 <noneprivacy> @NixiePixel Not my business but I think that as soon as thermal sources are not too close to each other, you are quite safe to go. Still, you can run psensor and see differences with the same load\n",
      "1351898846100647940 2021-01-20 09:26:16 -0400 <noneprivacy> This made my day\n",
      "1351897904647122944 2021-01-20 09:22:32 -0400 <noneprivacy> Metadata, metadata everywhere!  Well done, Jordan 👏🏻👏🏻👏🏻\n",
      "1351167332534644741 2021-01-18 08:59:30 -0400 <noneprivacy> Twitter adds \"materials may have been obtained through hacking...\" label 👀  https://t.co/I0x1lPCbIQ\n",
      "1351147429635256321 2021-01-18 07:40:24 -0400 <noneprivacy> Check this out and its YT channel, so interesting!\n",
      "1350867914694533122 2021-01-17 13:09:43 -0400 <noneprivacy> @_MAArgentino Add @DisinfoEU and @openfacto ;)\n",
      "1350108835772563456 2021-01-15 10:53:24 -0400 <noneprivacy> @SkittlesSpace Who knows\n",
      "1350088057354117125 2021-01-15 09:30:50 -0400 <noneprivacy> Only God truly knows what happened on the 6th  - source: statistics from my Telegram CSE  https://t.co/4J1kvfBAFO\n",
      "1350053110048292864 2021-01-15 07:11:58 -0400 <noneprivacy> @ludoblock @EricNewton2020 @BenDoBrown @intelligence_i1 Android + Google Play Serivces  You can still use an Android phone without GServices, which means less features  Imho, if all you can have is just an Android phone and need to use PM without being worried about Google stuff, just use it on FF\n",
      "1350052471327092737 2021-01-15 07:09:26 -0400 <noneprivacy> @EricNewton2020 @BenDoBrown @intelligence_i1 That being said, users can still use PM without using smartphones so, imho, it's not entirely an issue with PM. Rather, it's a \"privacy compatibility\" issue.  Just my 2c, anything more\n",
      "1350051284603334657 2021-01-15 07:04:43 -0400 <noneprivacy> @EricNewton2020 @BenDoBrown @intelligence_i1 But this is a specific case which highlights how Google-based devices are not really privacy friendly, as we already know.  Also PM says that they use E2EE even for push notifications  https://t.co/YJ5R1WAB3F\n",
      "1350025413242859521 2021-01-15 05:21:55 -0400 <noneprivacy> @EricNewton2020 @BenDoBrown @intelligence_i1 Why do you think that PM2PM is not secure?\n"
     ]
    }
   ],
   "source": [
    "c = twint.Config()\n",
    "\n",
    "c.Username = \"noneprivacy\"\n",
    "c.Custom[\"tweet\"] = [\"id\"]\n",
    "c.Custom[\"user\"] = [\"bio\"]\n",
    "c.Limit = 10\n",
    "c.Pandas = True\n",
    "c.Output = \"none\"\n",
    "\n",
    "twint.run.Search(c)"
   ]
  },
  {
   "cell_type": "code",
   "execution_count": 10,
   "metadata": {},
   "outputs": [],
   "source": [
    "# Assigning the DF\n",
    "df = twint.storage.panda.Tweets_df"
   ]
  },
  {
   "cell_type": "code",
   "execution_count": 11,
   "metadata": {},
   "outputs": [
    {
     "data": {
      "text/plain": [
       "(0, 0)"
      ]
     },
     "execution_count": 11,
     "metadata": {},
     "output_type": "execute_result"
    }
   ],
   "source": [
    "df.shape"
   ]
  },
  {
   "cell_type": "code",
   "execution_count": null,
   "metadata": {},
   "outputs": [],
   "source": []
  },
  {
   "cell_type": "code",
   "execution_count": null,
   "metadata": {},
   "outputs": [],
   "source": []
  },
  {
   "cell_type": "code",
   "execution_count": 3,
   "metadata": {},
   "outputs": [],
   "source": [
    "# Search stock\n",
    "subject = \"$AAPL\""
   ]
  },
  {
   "cell_type": "code",
   "execution_count": 3,
   "metadata": {},
   "outputs": [
    {
     "name": "stdout",
     "output_type": "stream",
     "text": [
      "1386463468769796096 2021-04-25 19:33:44 -0400 <solaris23290390> @RepKClark @SenWarren @POTUS dose that include smuggled illegal self-walking kids, really \"universally\" from every nations in the world \"willingfuly\" sneeking into #USA ? $BTC $LTC $BCH #bitcoin #litecoin #bitcoincash $FB $AMD $AAPL $AMZN $MSFT $NFLX $NVDA $GOOGL $TSLA $GME $AMC $NOK\n",
      "1386463390202224643 2021-04-25 19:33:26 -0400 <Greentix16> $XRP closing in on a doji for a reversal back to the updside and new ATH.  Markets are down but I'm looking forward to the week ahead! $HOGE $ETH $BTC $XRP $XLM $DOGE $ADA $LTC  $ZEC $TSLA $AAPL $PTON $BYND $ROKU $NIO\n",
      "1386463209406693376 2021-04-25 19:32:43 -0400 <GregsgoneRiding> @DeadCaitBounce Thank you. (I'm long $aapl) 😁\n",
      "1386462783378792451 2021-04-25 19:31:01 -0400 <solaris23290390> @SenWarren @usmayors @repcleaver Force every tax-avoiding #foundations,like @billgates's,to excise one time 15% out for housing fundings.many petty foundations hiding TAX money! @potus @BernieSanders $BTC $LTC #bitcoin #litecoin #bitcoincash $FB $AMD $AAPL $AMZN $MSFT $NFLX $NVDA $GOOGL $TSLA $GME $AMC $NOK\n",
      "1386462527845027841 2021-04-25 19:30:00 -0400 <FloraBauer18> Best stocks to get at 4AM!  $TSLA $RDFN $NIO $AMZN $SKLZ $PINS $AAPL $BX $FB  REMINDER- Only Webull lets you trade from 4AM to 8PM EST! (MOST out of EVERY broker!)  Sign up for Webull using the link in my BIO &amp; you will get 2 FREE stocks worth up to $1850!  = d\n",
      "1386462527521902592 2021-04-25 19:30:00 -0400 <Right__Stocks> $penn $ino $mara $aal $tsla $opti $spy $srne $sunw   $dkng $aapl $hexo $boxl $ibio $vxrt $acb $nio $fb  $amc $gme $fsr $cciv $msft $xspa $snap $fubo $nok  $wkhs $sndl  ALERTED $AYRO at $3 RAN TO $10 (233% GAIN)    DAILY ALERTS  $15 ONE TIME FEE     BEAT THAT 👇👇  🚨LINK IN BIO🚨\n",
      "1386461698123390980 2021-04-25 19:26:42 -0400 <solaris23290390> #foundations r used by #superwealth,eg @billgates as a means to ctrl/spend wealth shielded by petty charity.every FAMILY luxury is tagged as #foundation,cutting from tax! @potus @BernieSanders @SenWarren #bitcoin #litecoin #bitcoincash $FB $AMD $AAPL $AMZN $MSFT $NFLX $NVDA\n",
      "1386461340106174466 2021-04-25 19:25:17 -0400 <WSBChairmanee> $FOUR $AAPL $AMZN $WRAP 🚀🚀🚀🚀🚀\n",
      "1386461276499587084 2021-04-25 19:25:02 -0400 <itsfroggydaddy> 49.78 % of S&amp;P500 stocks are trending up. Target &gt;=10%. Trend Strength 4.93 Target: &gt;=2. Avg distance from support 2.63 % Target &gt;=1%. S&amp;P500 is a BUY!! Current trend since - 2020-11-03  $QQQ $SPY $DIA $AAPL $AMZN $TSLA #growthstocks #technicalanalysis\n",
      "1386461198820986880 2021-04-25 19:24:43 -0400 <itsfroggydaddy> 10 % of Froggy 50 Growth stocks are trending up. Target &gt;=40%. Trend Strength 2.36 Target: &gt;=3.75. Avg distance from support 2.23 % Target &gt;=3.75%. Avoid growth stocks! Current trend since - 2021-02-24  $QQQ $SPY $DIA $AAPL $AMZN $TSLA #growthstocks #technicalanalysis\n",
      "1386461188935098371 2021-04-25 19:24:41 -0400 <itsfroggydaddy> 29.67 % of NASDAQ 100 stocks are trending up. Target &gt;=28%. Trend Strength 3.76 Target: &gt;=3.5. Avg distance from support 2.43 % Target &gt;=2%. Nasdaq 100 is a buy!! Current trend since - 2021-04-08  $QQQ $SPY $DIA $AAPL $AMZN $TSLA #growthstocks #technicalanalysis\n",
      "1386460448409538560 2021-04-25 19:21:44 -0400 <solaris23290390> @billgates uses #foundation trick to avoid tax,laughs seeing capital gain tax bully.If truly aims superweahlthy,Gov shd seize #foundation ctrl,or up annual excise rate 20% from petty 2.5%.@potus @BernieSanders @SenWarren #bitcoin #litecoin #bitcoincash $FB $AMD $AAPL $AMZN $MSFT\n",
      "1386459847089131523 2021-04-25 19:19:21 -0400 <juanmiguelworld> Monday - $TSLA $ACI $AMKR Tuesday - $GOOG $MSFT $AMD $PINS $SBUX $V $UPS $GE $MMM $BP $RTX Wednesday - $BA $SHOP $SPOT $FB $AAPL $QCOM $TDOC $LOGI $EBAY $MGM Thursday - $AMZN $NIO $TWTR Friday - $XOM $CVX $CLX $AZN $ABBV\n",
      "1386459485707948032 2021-04-25 19:17:55 -0400 <dilee2540069> @fatbabyfunds $AAPL\n",
      "1386459255025246210 2021-04-25 19:17:00 -0400 <ArmstrongRobbi2> Best stocks to get at 4AM!  $TSLA $RDFN $NIO $AMZN $SKLZ $PINS $AAPL $BX $FB  REMINDER- Only Webull lets you trade from 4AM to 8PM EST! (MOST out of EVERY broker!)  Sign up for Webull using the link in my BIO &amp; you will get 2 FREE stocks worth up to $1850!  ~ d\n",
      "1386458675087384577 2021-04-25 19:14:41 -0400 <Ethannnnn2> $AAPL may see 140 trrw\n",
      "1386457996679516161 2021-04-25 19:12:00 -0400 <JoannePoe4> Best stocks to get at 4AM!  $TSLA $RDFN $NIO $AMZN $SKLZ $PINS $AAPL $BX $FB  REMINDER- Only Webull lets you trade from 4AM to 8PM EST! (MOST out of EVERY broker!)  Sign up for Webull using the link in my BIO &amp; you will get 2 FREE stocks worth up to $1850!  - jk\n",
      "1386457493476311043 2021-04-25 19:10:00 -0400 <Right__Stocks> $penn $ino $mara $aal $tsla $opti $spy $srne $coin  $sunw $dkng $aapl $hexo $boxl $ibio $vxrt $acb  $nio  $fb $amc $gme $fsr $cciv $msft $muds $snap $fubo  $wkhs $sndl  ALERTED $NIO at $6.1 RAN TO $35 (480% GAIN!)  DAILY ALERTS  $15 ONE TIME FEE  BEAT THAT   👇👇 🚨LINK IN BIO🚨\n",
      "1386457336869441537 2021-04-25 19:09:22 -0400 <firestone_brian> Saw That A CEO Got High Votes Against? A Record?   $aapl $amzn $brk $ba $hlf $iep $ibm $ko $pep $mcd $nke $sbux $JNJ $googl $crm $cmg $msft $fb $nflx $gm $bhc $tst $baba $qsr $bmy $snap $nke $shak $btc $orcl $ge $tsla $coin $intc $bidu $mat $hon $pfe\n",
      "1386456806080188418 2021-04-25 19:07:16 -0400 <RecksterC> $SPX Futures 💙  Second-quarter earnings, Over a 3rd of the 30 components of the Dow and about the same share of the S&amp;P 500, 144 companies, report earnings this week   By nGiStrategy   $AAPL $JPM $FB $ABT $MU $MRNA $AMD $TSLA $NIO $GME $AMC $UAL  $XOM $SPX $ACB $RIOT $CF $MOS\n",
      "1386456744058966019 2021-04-25 19:07:01 -0400 <Marklovesstocks> @RP_RP_RP @TeslaAndBitcoin $AAPL is the only company that can make Airtags work.  Who else can have a virtual private network in all major cities?  Long $AAPL.\n",
      "1386455537861136384 2021-04-25 19:02:13 -0400 <MarketRebels> Big week of earnings coming up.  Monday - $TSLA $ACI $AMKR Tuesday - $GOOG $MSFT $AMD $PINS $SBUX $V $UPS $GE $MMM $BP $RTX Wednesday - $BA $SHOP $SPOT $FB $AAPL $QCOM $TDOC $LOGI $EBAY $MGM Thursday - $AMZN $NIO $TWTR Friday - $XOM $CVX $CLX $AZN $ABBV\n",
      "1386455387449135106 2021-04-25 19:01:38 -0400 <solaris23290390> if track down true exercise % of #future #gold contracts,and check which #centralbanks own those contracts. It might be explosively surprising,or scam? $BTC $LTC $BCH #bitcoin #litecoin #bitcoincash $FB $AMD $AAPL $AMZN $MSFT $NFLX $NVDA $GOOGL $TSLA $GME $AMC $NOK\n",
      "1386455366318190595 2021-04-25 19:01:33 -0400 <baba_yan5> 決算  4月 26日AH $TSLA $NXPI 27日PM $UPS $MMM $LLY $NVS $SSTK 27日AH $AMD $MSFT $GOOGL $PINS $V $ENPH 28日PM $SHOP $SPOT $DISCA 28日AH $AAPL $FB $TDOC $NOW $QCOM 29日PM $MCD $MA $TMO $MRK 29日AH $AMZN $NIO $TEAM $ZEN $MVIS $GILD 30日PM $AZN $ABBV\n",
      "1386454502685888513 2021-04-25 18:58:07 -0400 <solaris23290390> @jimcramer Don't (take it for granted) cry u deserve more simply because of a college certificate. It is the ability and performance that dictate the value in u. $BTC #bitcoin #litecoin #bitcoincash $FB $AMD $AAPL $AMZN $MSFT $NFLX $NVDA $GOOGL $TSLA $GME $AMC $NOK\n",
      "1386454099105832961 2021-04-25 18:56:30 -0400 <itsfroggydaddy> 49.78 % of S&amp;P500 stocks are trending up. Target &gt;=10%. Trend Strength 4.93 Target: &gt;=2. Avg distance from support 2.63 % Target &gt;=1% S&amp;P500 is a BUY!! Current trend since - 2020-11-03  $QQQ $SPY $DIA $AAPL $AMZN $TSLA #growthstocks #technicalanalysis\n",
      "1386453991501013002 2021-04-25 18:56:05 -0400 <itsfroggydaddy> 29.67 % of NASDAQ 100 stocks are trending up. Target &gt;=28%. Trend Strength 3.76 Target: &gt;=3.5. Avg distance from support 2.43 % Target &gt;=2% Nasdaq 100 is a buy!! Current trend since - 2021-04-08  $QQQ $SPY $DIA $AAPL $AMZN $TSLA #growthstocks #technicalanalysis\n",
      "1386453355342540807 2021-04-25 18:53:33 -0400 <Jamesey76> @Jimmyjude13 I think the connection is the average retail investor is long $BTC, $AAPL, $TSLA.  They are either paying them or they are fading them.\n",
      "1386452677522038785 2021-04-25 18:50:52 -0400 <RP_RP_RP> @TeslaAndBitcoin Yeah ... umm circle back when air tags generated more  profits then 25 of the S&amp;P500 companies , $aapl doesn’t take wild risks, but they generate a lot of@cash !\n",
      "1386452460235988994 2021-04-25 18:50:00 -0400 <Right__Stocks> $penn $mara $tsla $srne $dkng $ino $yvr $vxrt $sndl $nio $sunw $hexo $aapl $fubo $spy $fb $sklz $wkhs  $acb $gme $opti $aal $amc $fsr $nkla $fubo $hofv $pltr $msft  WE ALERTED $SHIP AT $0.18 RAN TO $1.50 (733% GAIN)  Daily Alerts   $15 ONE TIME FEE  BEAT THAT 👇👇 🚨LINK IN BIO🚨\n",
      "1386452308779839491 2021-04-25 18:49:24 -0400 <Albert_trades> 4/25 Watchlist  Top picks: $LYFT, $UBER, $SNAP, $PYPL, $NVDA  On watch: $MA , $TWTR, $ETSY, $FUTU  Earnings: $FB, $AAPL, $NIO, $MSFT, $AMD  All charts up, glad to be back; lets kill it this week! 🙏📈\n",
      "1386452301208907776 2021-04-25 18:49:22 -0400 <solaris23290390> welfare suckers/communists bully California/NY hardworking high income family for money.After hardworking ppl all leave,communists n suckers will pay the price tag. dont laugh. $BTC #bitcoin #litecoin #bitcoincash $FB $AMD $AAPL $AMZN $MSFT $NFLX $NVDA $GOOGL $TSLA $GME $AMC $NOK\n",
      "1386451729122660355 2021-04-25 18:47:05 -0400 <ZxPortfolio> 04/28 BO $SHOP 04/28 BO $SPOT 04/28 AC $AAPL 04/28 AC $CAKE 04/28 AC $EBAY 04/28 AC $FB 04/28 AC $QCOM 04/29 AC $AMZN 04/29 AC $NIO 04/29 AC $TWTR (2/2)\n",
      "1386451294244773889 2021-04-25 18:45:22 -0400 <DrPhan2> $SONY, $AAPL, $NFLX, $AMZN, or $GOOG buying $VIAC would instantly rocket them to #1 or #2 in streaming.  If I wake up tomorrow with the headline “$AAPL is in talks to buy $VIAC”, it would be almost as good as winning the lotto jackpot.\n",
      "1386450583553462275 2021-04-25 18:42:32 -0400 <rationalwalk> Cracked screen of my 2 1/2 year old iPhone SE which also needs a new battery. So now it makes no sense to repair it. I note that the iPhone 12 mini is lighter and smaller than the new SE despite having a larger usable screen. Undecided for now. $AAPL is good at getting my money.\n",
      "1386450431207948295 2021-04-25 18:41:56 -0400 <FonzeeTweets> How many times have you said or heard someone say I can't afford to save/invest? Same people: Wearing Jordan's  Jewelry Expensive car Spend money eating out.  Monthly bills: $AAPL $NFLX $TWC $VZ etc...  You either have priorities or excuses!\n",
      "1386450078940864512 2021-04-25 18:40:32 -0400 <t_noeru> 私の注目決算👀✨ 4月26日（月） $TSLA  4月27日（火） $GOOGL $MSFT  $PINS $AMD $V 4月28日（水） $AAPL $FB $TDOC $QCOM 4月29日（木） $AMZM $TWTR $NIO $BMY\n",
      "1386449332727992321 2021-04-25 18:37:34 -0400 <amu_kat1> ER calendar (4/26-4/30) GROWTH M(AH)  $TSLA  T(AH)  $AMD $ENPH $GOOGL $IRBT $MSFT W(PM) $SHOP $SPOT      (AH) $AAPL $ATOM $FB $QCOM $TDOC T(AH)  $AMZN $DXCM $NIO $PACB $TEAM\n",
      "1386449273290645505 2021-04-25 18:37:20 -0400 <opalbert> #Stocks in my long term portfolio keeping for long: $APPS   $TSLA $AAPL  $NET $GNRC $SQ $ETSY $PYPL $PLTR  $PINS $FOUR $AMZN $MSFT $NVDA $GOOGL Updates:                                                    Sold None Upgrade to this list: $GOOGL Wish me well, most  report this week\n",
      "1386448965311291394 2021-04-25 18:36:06 -0400 <TSLAinfinity> $SPX 4200-4250 this week on strong tech earnings is the most likely scenario. $AAPL $AMZN $MSFT $GOOG $FB $TSLA should rally 20-40% this year, leading to $SPX 5000 by year-end.\n",
      "1386447503185399810 2021-04-25 18:30:18 -0400 <AAPLsilicon> $AAPL posts second quarter results this week. I am confident that Apple will meet, if not exceed estimates, and deliver another fantastic quarter. Still, I would suggest approaching this week of trading with cautious optimism.\n",
      "1386446944407494656 2021-04-25 18:28:05 -0400 <LPellathy> Options Implied Volatility (30-Day) $AAPL 134.32 IV 29.4% $FB 301.13 IV 34.6% $AMZN 3340.88 IV 28.7% $GOOG 2315.3 IV 27.4% $NFLX 505.55 IV 25.8% $MSFT 261.15 IV 22.8% $SPY VIX 17.3% $CL IV 38.7%\n",
      "1386446404416000000 2021-04-25 18:25:56 -0400 <ki14300906> おはようございます☀ 今週からゴールデンウィークですね！ $AAPL  などの決算も楽しみですね！ 今週も頑張りましょう！\n",
      "1386445274097197060 2021-04-25 18:21:26 -0400 <LuoshengPeng> @AmitayYaniv I think the near term XR gwth opportunities are in vertical apps:  - Defence - Field operations - Medical - Training - Consumer smartglass - need to wait for $AAPL launch  $KOPN &amp; $VUZI are 2 leaders in those apps; $nexcf seems more focused on consumer web apps, a bit too early.\n",
      "1386444899197886464 2021-04-25 18:19:57 -0400 <dandonttweet> @PeterSchorschFL This Tweet powered by my $AAPL holdings.\n",
      "1386443959027781637 2021-04-25 18:16:13 -0400 <fullchipdesign> $aapl just to position better for earnings week, I am going to focus only on one large position. And that’s going to be Apple.\n",
      "1386442377481662464 2021-04-25 18:09:56 -0400 <LordDarlington5> 5-year returns on these notable tech stocks:   $SHOP 3,355% $AMD 1,974% $SQ 1,747% $TSLA 1,337% $PYPL 560% $ARKK 528% (ETF) $AMZN 438% $NFLX 427% $AAPL 408% (not including dividends &amp; reinvestment) $MSFT 404% (not including dividends &amp; reinvestment) $TWTR 289% $GOOG 222% $FB 172%\n",
      "1386440801375297539 2021-04-25 18:03:40 -0400 <ShadowTrader17> My plays for  🌟 MONEY MONDAY🌟   $ACI x11 $18@the money calls $CHWY x4 $79@the money calls $AAPL x1 $34@the money call $BNGO x1 $6@the money call  My take on these plays...none of these will be sold this day ill see you on Tuesday call day!\n",
      "1386440521023954945 2021-04-25 18:02:33 -0400 <Dougie_dee> Youtube video is done.. I know everyones eyes will be on tech stocks.. so I covered $tsla $nio $aapl $fb &amp; $twtr.. will upload it in about 15min\n",
      "1386439183271530496 2021-04-25 17:57:14 -0400 <KoolaidDont> $GME NOT the hottest stock anymore. $AAPL had 78.9 million volume thursday $SNAP had 104.5 million $FB 17.5 million &amp; its DOUBLE $GME price! Heck even $PTON had 10 million &amp; thats a stock traders supposedly staying away from. 4 out of the last 5 days were the lowest vol ALL YEAR\n",
      "1386438638049787908 2021-04-25 17:55:04 -0400 <BackpackerFI> Big earning this week:  Monday- $TSLA  Tuesday- $MSFT $AMD $GOOG $PINS $SBUX $ENPH $V $UPS  Wednesday- $AAPL $FB $SPOT $SHOP $TDOC $BA $QCOM $NOW  Thursday- $AMZN $NIO $CAT $MCD $TWTR $PACB\n",
      "1386438278597992448 2021-04-25 17:53:39 -0400 <SteveScales> Gym then Sunday prep! 💪  It's time to plot those supply and demand zones! Simplify your charts, you do not need 5,645 EMA plots to be a successful trader!   $SPY $QQQ $TSLA $BTC $NNDM $PLTR $VISL $GME $AMC $SEMR $AAPL $NIO $CLOV $HPE $OCGN\n",
      "1386438201695301633 2021-04-25 17:53:20 -0400 <Getrealorelse> this week big tech ER  tues: $GOOG $MSFT wed: $FB $AAPL thur: $AMZN  ALL LONG TERM HOLD.\n",
      "1386437371902660611 2021-04-25 17:50:02 -0400 <Risk75742306> 💲Team RVR's Top 5 Trending Tickers on Twitter, Discord, StockTwits and Yahoo! message boards🚨  1. $MA 2. $DK 3. $HA 4. $AMD 5. $AAPL\n",
      "1386437360779288578 2021-04-25 17:50:00 -0400 <Right__Stocks> $penn $ino $mara $aal $tsla $opti $spy $srne $sklz   $sunw $dkng $aapl $hexo $boxl $fubo $ibio $coin $acb  $nio $fb $gme $fsr $cciv $msft $xspa $snap $wkhs $sndl $amc      ALERTED $BLNK at $6 RAN TO $30 (400% GAIN!)  DAILY ALERTS  $15 ONE TIME FEE   BEAT THAT 👇👇 🚨LINK IN BIO🚨\n",
      "1386436407636283394 2021-04-25 17:46:12 -0400 <PandaOptions> Pandas Weekly Watchlist 🐼  $AAPL 138c over 136, 130p under 131 $TSLA 770c over 755, 680p under 700 $AMD 86c over 84.75, 77p under 78 $NIO 43c over 42, 33p under 34 $GOOGL 2330c over 2306, 2200p under 2228 $SE 265c over 262, 235p under 240\n",
      "1386434609492086786 2021-04-25 17:39:04 -0400 <stretchmikep> @mjekm5 \"computers\" = mainframes; but point still stands. $IBM, $AAPL, $DELL, $HPQ, $SMCI...\n",
      "1386434390025117696 2021-04-25 17:38:11 -0400 <elihudiaz27> $BTC is going to 42k because that's what $AAPL needs to buy in and add it to their balance sheet. Don't shoot the messenger\n",
      "1386432522825781252 2021-04-25 17:30:46 -0400 <jedimarkus77> @The_Real_Fly Probably raising fiat dollar funds for value investing in big $NDX names this week... $TSLA $AAPL $GOOG $GOOGL $MSFT $FB\n",
      "1386432499111251969 2021-04-25 17:30:41 -0400 <stocksalerter11> Big tech reporting earnings next week $TSLA 4/26 AH $MSFT 4/27 AH $AAPL 4/28 AH  $NIO 4/29 AH\n",
      "1386432328898162694 2021-04-25 17:30:00 -0400 <Right__Stocks> $penn $ino $mara $aal $tsla $opti $spy $srne $sunw   $dkng $aapl $fsr $hexo $boxl $ibio $coin $sklz  $sndl $amc $nio $fb $gme $msft $xspa $fubo $snap $wkhs $cciv $acb  ALERTED $NOVN at $.50 RAN TO $1.30 (160% GAIN!)  DAILY ALERTS  $15 ONE TIME FEE!  BEAT THAT 👇👇 🚨LINK IN BIO🚨\n",
      "1386432327752978437 2021-04-25 17:30:00 -0400 <FloraBauer18> Best stocks to get at 4AM!  $TSLA $RDFN $NIO $AMZN $SKLZ $PINS $AAPL $BX $FB  REMINDER- Only Webull lets you trade from 4AM to 8PM EST! (MOST out of EVERY broker!)  Sign up for Webull using the link in my BIO &amp; you will get 2 FREE stocks worth up to $1850!  = c\n",
      "1386432293707919363 2021-04-25 17:29:52 -0400 <OptionsMike> @FonzeeTweets $AAPL $MSFT $GOOGL\n",
      "1386431562477043713 2021-04-25 17:26:57 -0400 <thesamjohnstock> I think the biggest part behind a short squeeze is the community behind the stock. So I’m trying to see how big the $CLOV community is on Twitter. If you are part of the $CLOV community then vote YES.  $GME $AMC $SNDL $BNGO $TSLA $AAPL $ZOM $PLTR $PENN $DOGE $NIO $SRNE $ZOM\n",
      "1386431151032524806 2021-04-25 17:25:19 -0400 <BrassCoResearch> The world will change when Apple releases their smart (AR) glasses   $AAPL  #AugmentedReality\n",
      "1386429499919650817 2021-04-25 17:18:46 -0400 <AreteTrading> Newsletter is out !   Note the stops. $AAPL $SKLZ $SOXL   Any questions message me 👍🚀  #stock #newsletter #video\n",
      "1386429056095186951 2021-04-25 17:17:00 -0400 <ArmstrongRobbi2> Best stocks to get at 4AM!  $TSLA $RDFN $NIO $AMZN $SKLZ $PINS $AAPL $BX $FB  REMINDER- Only Webull lets you trade from 4AM to 8PM EST! (MOST out of EVERY broker!)  Sign up for Webull using the link in my BIO &amp; you will get 2 FREE stocks worth up to $1850!  ~ c\n",
      "1386428640796155909 2021-04-25 17:15:21 -0400 <scharzpeit> $AAPL $AMZN $DELL $INTC $MSFT $TSM $UMC\n",
      "1386428359102529536 2021-04-25 17:14:14 -0400 <kamdoyletrades> A very very big earnings week scheduled. Here’s my price predictions for the open the day after earnings. Let’s see how close I can get. $FB- $330. $TSLA- $660. $AAPL- $142. $AMZN- $3650. $AMD-$88. $MSFT- $345. $GOOGL- $2200\n",
      "1386427797720248320 2021-04-25 17:12:00 -0400 <JoannePoe4> Best stocks to get at 4AM!  $TSLA $RDFN $NIO $AMZN $SKLZ $PINS $AAPL $BX $FB  REMINDER- Only Webull lets you trade from 4AM to 8PM EST! (MOST out of EVERY broker!)  Sign up for Webull using the link in my BIO &amp; you will get 2 FREE stocks worth up to $1850!  - h8\n",
      "1386427330525114371 2021-04-25 17:10:08 -0400 <ActivelyManaged> Hope everyone is ready for an awesome week of earnings reports coming our way. Incredibly exciting and deep lineup. $AAPL $MSFT $FB $GOOG $V $TDOC $WM $SHOP $TSLA and the list goes on....\n",
      "1386427294844063747 2021-04-25 17:10:00 -0400 <Right__Stocks> $penn $mara $tsla $srne $dkng $yvr $vxrt $sndl $nio  $sunw $hexo $aapl $fubo $spy $fb $sklz $muds $wkhs   $acb $gme $opti  $aal $amc $fsr $nkla $fubo $hofv $pltr $msft  ALERTED $DPW at $1.6 RAN TO $5 (210% GAIN!)   DAILY ALERTS  $15 ONE TIME FEE!  BEAT THAT 👇👇  🚨LINK IN BIO🚨\n",
      "1386426847315972098 2021-04-25 17:08:13 -0400 <StockMarketNerd> @TheMarkCooke @DeziDream @BornInvestor @JonahLupton @OphirGottlieb @dhaval_kotecha @Soumyazen @FromValue @InvestmentTalkk Berkshire owns dozens of stocks (but $AAPL by far the largest).\n",
      "1386426326496776199 2021-04-25 17:06:09 -0400 <boilerjoe99> @LiviamCapital My superpower is getting in a great stock early at a great price and then thinking it’s run it’s course. Had I held despite thinking that $AMZN, $TSLA, $AAPL, $MARA, $ETH were a bit extended I would easily be retired and well off today.\n",
      "1386425096475136003 2021-04-25 17:01:16 -0400 <LuoshengPeng> ER calendar (4/26-4/30)  Mon:  $TSLA AH TUE:  $AMD $ENPH $GOOGL $IRBT $MSFT AH WED: $SHOP $SPOT PM              $AAPL $ATOM $FB $QCOM $TDOC AH THU:  $AMZN $DXCM $NIO $PACB $TEAM AH  Needless to say, I'm most interested in $ATOM $NIO $PACB.  GL for your stocks!\n",
      "1386425054372761603 2021-04-25 17:01:06 -0400 <Turbovtk> @kay_enne @manoylo_vnc @BDogefam @jimcramer Lol analyst are all like that is just playing their books- think about it why would an analyst say what they really think- their duty is to their firm &amp; their clients which means informing the public is used to fill their agenda- gs analyst has $aapl in the 80s another has it 140\n",
      "1386423382510645248 2021-04-25 16:54:27 -0400 <BlueMoonTrades> If you must buy an 'At the Money' put option (expires in a week) for one of these having ER this week, which one would you go with?   $AAPL $FB $SHOP $NIO\n",
      "1386422261389807621 2021-04-25 16:50:00 -0400 <Right__Stocks> $penn $ino $mara $aal $tsla $opti $spy $srne $coin $sunw $dkng $aapl $hexo $boxl $ibio $vxrt $acb $nio  $fb $amc $gme $fsr $cciv $msft $muds $snap  $fubo  $wkhs $sndl  ALERTED $NIO at $6.1 RAN TO $35 (480% GAIN!)  DAILY ALERTS   $15 ONE TIME FEE   BEAT THAT   👇👇 🚨LINK IN BIO🚨\n",
      "1386421568385945602 2021-04-25 16:47:15 -0400 <brentthomas11> “Stocks follow #earnings.”  Src: @TeachKidsStox. $AAPL $TSLA $AMD $AMZN $MSFT $FB $NIO $BA $UPS $PINS $GE $SHOP $GOOGL $QCOM $XOM $F $MMM $ABBV $ACI $TWTR $X $SPOT $TDOC $CL $V $CAT $LLY $ENPH $SAND $OTIS $SWKS $CROX $MRK $RTX $MCD $SBUX $OSTK $BP $NXPI $DPZ $BMY $MA $GLW $CHKP\n",
      "1386417229294624770 2021-04-25 16:30:00 -0400 <Right__Stocks> $penn $ino $mara $aal $tsla $opti $spy $srne $sunw  $dkng $aapl $hexo $boxl $ibio $vxrt $acb $nio  $fb  $amc $gme $fsr $cciv $msft $xspa $snap $fubo $nok  $wkhs $sndl  ALERTED $AYRO at $3 RAN TO $10 (233% GAIN)   DAILY ALERTS  $15 ONE TIME FEE     BEAT THAT 👇👇  🚨LINK IN BIO🚨\n",
      "1386413611829059587 2021-04-25 16:15:38 -0400 <LiL_Space_X> Follow @eWhispers  $AAPL $TSLA $AMD $AMZN $MSFT $FB $NIO $BA $UPS $PINS $GE $SHOP $GOOGL $QCOM $XOM $F $MMM $ABBV $ACI $TWTR $X $SPOT $TDOC $CL $V $CAT $LLY $ENPH $SAND $OTIS $SWKS $CROX $MRK $RTX $MCD $SBUX $OSTK $BP $NXPI $DPZ $BMY $MA $GLW $CHKP\n",
      "1386411841459351553 2021-04-25 16:08:35 -0400 <_steve2_> All in  $aapl #bitcoin 3 week Perpetual  Until 2022\n",
      "1386411561435213825 2021-04-25 16:07:29 -0400 <Right__Stocks> $penn $mara $tsla $srne $dkng $ino $yvr $vxrt $sndl $nio $sunw $hexo $aapl $fubo $spy $fb $sklz  $wkhs $acb $gme $opti $aal $amc $fsr $nkla $fubo $hofv $pltr $msft  WE ALERTED $SHIP AT $0.18 RAN TO $1.50 (733% GAIN)  Daily Alerts   $15 ONE TIME FEE  BEAT THAT 👇👇 🚨LINK IN BIO🚨\n",
      "1386410104744865794 2021-04-25 16:01:41 -0400 <UDowngrades> Some implies moves for #earnings next week:  $TSLA 8.0% $MSFT 3.5% $GOOGL 4.7% $AMZN 4.5% $FB 5.8% $AAPL 4.5% $SHOP 7.3% $PINS 12.9% $SPOT 7.9% $TDOC 8.4% $TWTR 10.3% $BA 4.4% $NIO 9.5% $MCD 2.8% $SBUX 3.9% $DPZ 5.8% $SWKS 5.2% $ENPH 11.4% $V 2.9% $UPS 4.9%\n",
      "1386409247991164933 2021-04-25 15:58:17 -0400 <cadeinvests> Some big earnings this week👇  Mon: $TSLA  Tue: $MSFT $AMD $GOOG $V $WM  Wed: $AAPL $FB $SHOP $TDOC  Thu: $AMZN $CAT $MCD $NIO  Fri: $XOM $ABBV $CVX   It could get crazy out there folks.\n",
      "1386409138134032387 2021-04-25 15:57:51 -0400 <ana65879687> $penn $ino  $aal $tsla $opti $spy $srne $sunw $dkng $aapl $hexo $boxl  $fubo $ibio $vxrt $acb $nio $fb $gme $fsr $cciv $msft $xspa $snap $nok $wkhs $sndl $t  ALERTED $NOVN at $.50 RAN TO $1.30 (160% GAIN)\n",
      "1386407697512235008 2021-04-25 15:52:07 -0400 <Theunksmoney> Weekly Breakout Watchlist 4/26 - 4/30  Sunday list are always my longest. Don't try to catch them all. Look through the charts and pick a couple you like. Any questions please ask!  $AAPL over 135.12 $ABBV over 111.77 $ADBE over 524 $AMD over 83.30 under 78.59 $APPS over 76.50\n",
      "1386407301968392200 2021-04-25 15:50:33 -0400 <SunriseTrader> Big earnings week and lots can happen.  $AAPL $TSLA $AMZN $MSFT $BA $MCD $MMM $XOM $GOOGL $TWTR and the list goes on and on.\n",
      "1386407004550225920 2021-04-25 15:49:22 -0400 <Dirtyred_74> @ThePupOfWallSt $TSLA $AMZN $AAPL\n",
      "1386405841906151425 2021-04-25 15:44:45 -0400 <thatuniqueniga2> Earnings next week.   $TSLA  $FB  $NIO  $AAPL $MSFT $AMZN   etc so many of them . The performance  of these FAANGs will determine the next phase and cycle of a bull market we are in.  Stay updated .there is money to be made. There is always a bull market happening somewhere.\n",
      "1386403050626043906 2021-04-25 15:33:40 -0400 <DDynastie> @HeroDividend $AAPL &amp; $MSFT,  no interest at all in others. No dividends: not for me :-)\n",
      "1386402128998981632 2021-04-25 15:30:00 -0400 <FloraBauer18> Best stocks to get at 4AM!  $TSLA $RDFN $NIO $AMZN $SKLZ $PINS $AAPL $BX $FB  REMINDER- Only Webull lets you trade from 4AM to 8PM EST! (MOST out of EVERY broker!)  Sign up for Webull using the link in my BIO &amp; you will get 2 FREE stocks worth up to $1850!  = b\n",
      "1386402067007344643 2021-04-25 15:29:45 -0400 <J_O_R_D_O> @WOLF_Financial M: $TSLA T: $GOOG $MSFT $PINS W: $AAPL $FB $SHOP $TDOC Th: $AMZN $MA\n",
      "1386401879148568578 2021-04-25 15:29:00 -0400 <StocksGrowth> @FlosserInvest $TSLA, $NIO, $PINS, $AAPL, $FB, $TDOC for me\n",
      "1386401735954952195 2021-04-25 15:28:26 -0400 <ek45019> $SKLZ の様子を見つつ決算の良かった $DOW も気になる。いまの持ち株では $PLTR $PFE $PFF $AAPL の買い増しを考えてます。今年はマイナス分を取り戻せるかどうかわからんなぁ。仕事しよ。\n",
      "1386401255128408066 2021-04-25 15:26:31 -0400 <MarkQuarter> @VABVOX We need a system to be able to give the right medicine / treatment / vaccine $AZN $MRNA $BTNX $PFE to the right person $ARKG $TMO $ILMN  It's literally a:  The life you save may be your own situation cc @NIH Need contracts to $AAPL $GOOGL $MSFT $AMZN for biometric / genetic intel\n",
      "1386401141764677634 2021-04-25 15:26:04 -0400 <Carnage4Life> I’m less interested in people who point out that I’d be rich today if I’d invested in $AAPL or $BTC a decade ago and more interested in people who can share a first principles rationale for why their current investments are the next Apple stock or digital store of value.\n",
      "1386399520234168322 2021-04-25 15:19:38 -0400 <Daytrad23414930> $penn $mara $tsla $srne $dkng $yvr $vxrt $sndl $nio  $sunw $hexo $aapl $fubo $spy $fb $sklz $muds $wkhs   $acb $gme $opti $aal $amc $fsr $nkla $fubo $hofv $pltr $msft   ALERTED $DPW at $1.6 RAN TO $5 (210% GAIN!!)   DAILY ALERTS\n",
      "1386399403791896581 2021-04-25 15:19:10 -0400 <afortunetrading> Focus list for the week ⚡️ $AAPL $FB $IWM $NFLX $TSLA $GOOGL $AMZN $GS $DASH $AI $FUTU $NVAX $BIDU $ADBE $COIN  Indices ⚡️ $SPY $SPX $IWM $RUT   Small Caps / Growth Names Continuation: $SKLZ $TKAT $OCG $OCGN\n",
      "1386399239065018376 2021-04-25 15:18:31 -0400 <EverydayFinanc5> Upcoming Earnings:  4/26: $TSLA $AMD 4/27: $MSFT $GOOG $V  4/28: $AAPL $FB $BA $SHOP 4/29: $MA $NIO $AMZN   5/5: $BOO.L $PLUG 5/6: $PYPL $SQ $STOR  Major!!!\n"
     ]
    }
   ],
   "source": [
    "#%%capture\n",
    "# Configuring Twint to search for the subject in the first specified city\n",
    "c = twint.Config()\n",
    "\n",
    "# The amount of tweets to return sorted by most recent\n",
    "c.Limit = 1\n",
    "\n",
    "# Input parameters\n",
    "c.Search = \"$AAPL\"\n",
    "\n",
    "# Removing retweets\n",
    "c.Filter_retweets = True\n",
    "\n",
    "# No pictures or video\n",
    "c.Media = False\n",
    "\n",
    "# English only\n",
    "c.Lang ='en'\n",
    "\n",
    "# Excluding tweets with links\n",
    "c.Links ='exclude'\n",
    "\n",
    "# Making the results pandas friendly\n",
    "c.Pandas = True\n",
    "\n",
    "twint.run.Search(c)\n",
    "\n",
    "# Assigning the DF\n",
    "df = twint.storage.panda.Tweets_df"
   ]
  },
  {
   "cell_type": "code",
   "execution_count": 5,
   "metadata": {},
   "outputs": [
    {
     "data": {
      "text/html": [
       "<div>\n",
       "<style scoped>\n",
       "    .dataframe tbody tr th:only-of-type {\n",
       "        vertical-align: middle;\n",
       "    }\n",
       "\n",
       "    .dataframe tbody tr th {\n",
       "        vertical-align: top;\n",
       "    }\n",
       "\n",
       "    .dataframe thead th {\n",
       "        text-align: right;\n",
       "    }\n",
       "</style>\n",
       "<table border=\"1\" class=\"dataframe\">\n",
       "  <thead>\n",
       "    <tr style=\"text-align: right;\">\n",
       "      <th></th>\n",
       "    </tr>\n",
       "  </thead>\n",
       "  <tbody>\n",
       "  </tbody>\n",
       "</table>\n",
       "</div>"
      ],
      "text/plain": [
       "Empty DataFrame\n",
       "Columns: []\n",
       "Index: []"
      ]
     },
     "execution_count": 5,
     "metadata": {},
     "output_type": "execute_result"
    }
   ],
   "source": [
    "twint.output.panda.Tweets_df"
   ]
  },
  {
   "cell_type": "code",
   "execution_count": null,
   "metadata": {},
   "outputs": [],
   "source": []
  },
  {
   "cell_type": "code",
   "execution_count": 4,
   "metadata": {},
   "outputs": [
    {
     "ename": "TypeError",
     "evalue": "replace() argument 2 must be str, not int",
     "output_type": "error",
     "traceback": [
      "\u001b[0;31m---------------------------------------------------------------------------\u001b[0m",
      "\u001b[0;31mTypeError\u001b[0m                                 Traceback (most recent call last)",
      "\u001b[0;32m<ipython-input-4-b3b81816ac69>\u001b[0m in \u001b[0;36m<module>\u001b[0;34m\u001b[0m\n\u001b[1;32m      6\u001b[0m \u001b[0mc\u001b[0m\u001b[0;34m.\u001b[0m\u001b[0mPandas\u001b[0m \u001b[0;34m=\u001b[0m \u001b[0;32mTrue\u001b[0m\u001b[0;34m\u001b[0m\u001b[0;34m\u001b[0m\u001b[0m\n\u001b[1;32m      7\u001b[0m \u001b[0;34m\u001b[0m\u001b[0m\n\u001b[0;32m----> 8\u001b[0;31m \u001b[0mtwint\u001b[0m\u001b[0;34m.\u001b[0m\u001b[0mrun\u001b[0m\u001b[0;34m.\u001b[0m\u001b[0mSearch\u001b[0m\u001b[0;34m(\u001b[0m\u001b[0mc\u001b[0m\u001b[0;34m)\u001b[0m\u001b[0;34m\u001b[0m\u001b[0;34m\u001b[0m\u001b[0m\n\u001b[0m",
      "\u001b[0;32m~/.local/lib/python3.8/site-packages/twint/run.py\u001b[0m in \u001b[0;36mSearch\u001b[0;34m(config, callback)\u001b[0m\n\u001b[1;32m    408\u001b[0m     \u001b[0mconfig\u001b[0m\u001b[0;34m.\u001b[0m\u001b[0mFollowers\u001b[0m \u001b[0;34m=\u001b[0m \u001b[0;32mFalse\u001b[0m\u001b[0;34m\u001b[0m\u001b[0;34m\u001b[0m\u001b[0m\n\u001b[1;32m    409\u001b[0m     \u001b[0mconfig\u001b[0m\u001b[0;34m.\u001b[0m\u001b[0mProfile\u001b[0m \u001b[0;34m=\u001b[0m \u001b[0;32mFalse\u001b[0m\u001b[0;34m\u001b[0m\u001b[0;34m\u001b[0m\u001b[0m\n\u001b[0;32m--> 410\u001b[0;31m     \u001b[0mrun\u001b[0m\u001b[0;34m(\u001b[0m\u001b[0mconfig\u001b[0m\u001b[0;34m,\u001b[0m \u001b[0mcallback\u001b[0m\u001b[0;34m)\u001b[0m\u001b[0;34m\u001b[0m\u001b[0;34m\u001b[0m\u001b[0m\n\u001b[0m\u001b[1;32m    411\u001b[0m     \u001b[0;32mif\u001b[0m \u001b[0mconfig\u001b[0m\u001b[0;34m.\u001b[0m\u001b[0mPandas_au\u001b[0m\u001b[0;34m:\u001b[0m\u001b[0;34m\u001b[0m\u001b[0;34m\u001b[0m\u001b[0m\n\u001b[1;32m    412\u001b[0m         \u001b[0mstorage\u001b[0m\u001b[0;34m.\u001b[0m\u001b[0mpanda\u001b[0m\u001b[0;34m.\u001b[0m\u001b[0m_autoget\u001b[0m\u001b[0;34m(\u001b[0m\u001b[0;34m\"tweet\"\u001b[0m\u001b[0;34m)\u001b[0m\u001b[0;34m\u001b[0m\u001b[0;34m\u001b[0m\u001b[0m\n",
      "\u001b[0;32m~/.local/lib/python3.8/site-packages/twint/run.py\u001b[0m in \u001b[0;36mrun\u001b[0;34m(config, callback)\u001b[0m\n\u001b[1;32m    327\u001b[0m         \u001b[0;32mraise\u001b[0m\u001b[0;34m\u001b[0m\u001b[0;34m\u001b[0m\u001b[0m\n\u001b[1;32m    328\u001b[0m \u001b[0;34m\u001b[0m\u001b[0m\n\u001b[0;32m--> 329\u001b[0;31m     \u001b[0mget_event_loop\u001b[0m\u001b[0;34m(\u001b[0m\u001b[0;34m)\u001b[0m\u001b[0;34m.\u001b[0m\u001b[0mrun_until_complete\u001b[0m\u001b[0;34m(\u001b[0m\u001b[0mTwint\u001b[0m\u001b[0;34m(\u001b[0m\u001b[0mconfig\u001b[0m\u001b[0;34m)\u001b[0m\u001b[0;34m.\u001b[0m\u001b[0mmain\u001b[0m\u001b[0;34m(\u001b[0m\u001b[0mcallback\u001b[0m\u001b[0;34m)\u001b[0m\u001b[0;34m)\u001b[0m\u001b[0;34m\u001b[0m\u001b[0;34m\u001b[0m\u001b[0m\n\u001b[0m\u001b[1;32m    330\u001b[0m \u001b[0;34m\u001b[0m\u001b[0m\n\u001b[1;32m    331\u001b[0m \u001b[0;34m\u001b[0m\u001b[0m\n",
      "\u001b[0;32m~/opt/anaconda3/envs/learn-env/lib/python3.8/site-packages/nest_asyncio.py\u001b[0m in \u001b[0;36mrun_until_complete\u001b[0;34m(self, future)\u001b[0m\n\u001b[1;32m     93\u001b[0m                 raise RuntimeError(\n\u001b[1;32m     94\u001b[0m                     'Event loop stopped before Future completed.')\n\u001b[0;32m---> 95\u001b[0;31m             \u001b[0;32mreturn\u001b[0m \u001b[0mf\u001b[0m\u001b[0;34m.\u001b[0m\u001b[0mresult\u001b[0m\u001b[0;34m(\u001b[0m\u001b[0;34m)\u001b[0m\u001b[0;34m\u001b[0m\u001b[0;34m\u001b[0m\u001b[0m\n\u001b[0m\u001b[1;32m     96\u001b[0m         \u001b[0;32mfinally\u001b[0m\u001b[0;34m:\u001b[0m\u001b[0;34m\u001b[0m\u001b[0;34m\u001b[0m\u001b[0m\n\u001b[1;32m     97\u001b[0m             \u001b[0mevents\u001b[0m\u001b[0;34m.\u001b[0m\u001b[0m_set_running_loop\u001b[0m\u001b[0;34m(\u001b[0m\u001b[0mold_running_loop\u001b[0m\u001b[0;34m)\u001b[0m\u001b[0;34m\u001b[0m\u001b[0;34m\u001b[0m\u001b[0m\n",
      "\u001b[0;32m~/opt/anaconda3/envs/learn-env/lib/python3.8/asyncio/futures.py\u001b[0m in \u001b[0;36mresult\u001b[0;34m(self)\u001b[0m\n\u001b[1;32m    176\u001b[0m         \u001b[0mself\u001b[0m\u001b[0;34m.\u001b[0m\u001b[0m__log_traceback\u001b[0m \u001b[0;34m=\u001b[0m \u001b[0;32mFalse\u001b[0m\u001b[0;34m\u001b[0m\u001b[0;34m\u001b[0m\u001b[0m\n\u001b[1;32m    177\u001b[0m         \u001b[0;32mif\u001b[0m \u001b[0mself\u001b[0m\u001b[0;34m.\u001b[0m\u001b[0m_exception\u001b[0m \u001b[0;32mis\u001b[0m \u001b[0;32mnot\u001b[0m \u001b[0;32mNone\u001b[0m\u001b[0;34m:\u001b[0m\u001b[0;34m\u001b[0m\u001b[0;34m\u001b[0m\u001b[0m\n\u001b[0;32m--> 178\u001b[0;31m             \u001b[0;32mraise\u001b[0m \u001b[0mself\u001b[0m\u001b[0;34m.\u001b[0m\u001b[0m_exception\u001b[0m\u001b[0;34m\u001b[0m\u001b[0;34m\u001b[0m\u001b[0m\n\u001b[0m\u001b[1;32m    179\u001b[0m         \u001b[0;32mreturn\u001b[0m \u001b[0mself\u001b[0m\u001b[0;34m.\u001b[0m\u001b[0m_result\u001b[0m\u001b[0;34m\u001b[0m\u001b[0;34m\u001b[0m\u001b[0m\n\u001b[1;32m    180\u001b[0m \u001b[0;34m\u001b[0m\u001b[0m\n",
      "\u001b[0;32m~/opt/anaconda3/envs/learn-env/lib/python3.8/asyncio/tasks.py\u001b[0m in \u001b[0;36m__step\u001b[0;34m(***failed resolving arguments***)\u001b[0m\n\u001b[1;32m    280\u001b[0m                 \u001b[0mresult\u001b[0m \u001b[0;34m=\u001b[0m \u001b[0mcoro\u001b[0m\u001b[0;34m.\u001b[0m\u001b[0msend\u001b[0m\u001b[0;34m(\u001b[0m\u001b[0;32mNone\u001b[0m\u001b[0;34m)\u001b[0m\u001b[0;34m\u001b[0m\u001b[0;34m\u001b[0m\u001b[0m\n\u001b[1;32m    281\u001b[0m             \u001b[0;32melse\u001b[0m\u001b[0;34m:\u001b[0m\u001b[0;34m\u001b[0m\u001b[0;34m\u001b[0m\u001b[0m\n\u001b[0;32m--> 282\u001b[0;31m                 \u001b[0mresult\u001b[0m \u001b[0;34m=\u001b[0m \u001b[0mcoro\u001b[0m\u001b[0;34m.\u001b[0m\u001b[0mthrow\u001b[0m\u001b[0;34m(\u001b[0m\u001b[0mexc\u001b[0m\u001b[0;34m)\u001b[0m\u001b[0;34m\u001b[0m\u001b[0;34m\u001b[0m\u001b[0m\n\u001b[0m\u001b[1;32m    283\u001b[0m         \u001b[0;32mexcept\u001b[0m \u001b[0mStopIteration\u001b[0m \u001b[0;32mas\u001b[0m \u001b[0mexc\u001b[0m\u001b[0;34m:\u001b[0m\u001b[0;34m\u001b[0m\u001b[0;34m\u001b[0m\u001b[0m\n\u001b[1;32m    284\u001b[0m             \u001b[0;32mif\u001b[0m \u001b[0mself\u001b[0m\u001b[0;34m.\u001b[0m\u001b[0m_must_cancel\u001b[0m\u001b[0;34m:\u001b[0m\u001b[0;34m\u001b[0m\u001b[0;34m\u001b[0m\u001b[0m\n",
      "\u001b[0;32m~/.local/lib/python3.8/site-packages/twint/run.py\u001b[0m in \u001b[0;36mmain\u001b[0;34m(self, callback)\u001b[0m\n\u001b[1;32m    233\u001b[0m             \u001b[0mtask\u001b[0m\u001b[0;34m.\u001b[0m\u001b[0madd_done_callback\u001b[0m\u001b[0;34m(\u001b[0m\u001b[0mcallback\u001b[0m\u001b[0;34m)\u001b[0m\u001b[0;34m\u001b[0m\u001b[0;34m\u001b[0m\u001b[0m\n\u001b[1;32m    234\u001b[0m \u001b[0;34m\u001b[0m\u001b[0m\n\u001b[0;32m--> 235\u001b[0;31m         \u001b[0;32mawait\u001b[0m \u001b[0mtask\u001b[0m\u001b[0;34m\u001b[0m\u001b[0;34m\u001b[0m\u001b[0m\n\u001b[0m\u001b[1;32m    236\u001b[0m \u001b[0;34m\u001b[0m\u001b[0m\n\u001b[1;32m    237\u001b[0m     \u001b[0;32masync\u001b[0m \u001b[0;32mdef\u001b[0m \u001b[0mrun\u001b[0m\u001b[0;34m(\u001b[0m\u001b[0mself\u001b[0m\u001b[0;34m)\u001b[0m\u001b[0;34m:\u001b[0m\u001b[0;34m\u001b[0m\u001b[0;34m\u001b[0m\u001b[0m\n",
      "\u001b[0;32m~/opt/anaconda3/envs/learn-env/lib/python3.8/asyncio/futures.py\u001b[0m in \u001b[0;36m__await__\u001b[0;34m(self)\u001b[0m\n\u001b[1;32m    258\u001b[0m         \u001b[0;32mif\u001b[0m \u001b[0;32mnot\u001b[0m \u001b[0mself\u001b[0m\u001b[0;34m.\u001b[0m\u001b[0mdone\u001b[0m\u001b[0;34m(\u001b[0m\u001b[0;34m)\u001b[0m\u001b[0;34m:\u001b[0m\u001b[0;34m\u001b[0m\u001b[0;34m\u001b[0m\u001b[0m\n\u001b[1;32m    259\u001b[0m             \u001b[0mself\u001b[0m\u001b[0;34m.\u001b[0m\u001b[0m_asyncio_future_blocking\u001b[0m \u001b[0;34m=\u001b[0m \u001b[0;32mTrue\u001b[0m\u001b[0;34m\u001b[0m\u001b[0;34m\u001b[0m\u001b[0m\n\u001b[0;32m--> 260\u001b[0;31m             \u001b[0;32myield\u001b[0m \u001b[0mself\u001b[0m  \u001b[0;31m# This tells Task to wait for completion.\u001b[0m\u001b[0;34m\u001b[0m\u001b[0;34m\u001b[0m\u001b[0m\n\u001b[0m\u001b[1;32m    261\u001b[0m         \u001b[0;32mif\u001b[0m \u001b[0;32mnot\u001b[0m \u001b[0mself\u001b[0m\u001b[0;34m.\u001b[0m\u001b[0mdone\u001b[0m\u001b[0;34m(\u001b[0m\u001b[0;34m)\u001b[0m\u001b[0;34m:\u001b[0m\u001b[0;34m\u001b[0m\u001b[0;34m\u001b[0m\u001b[0m\n\u001b[1;32m    262\u001b[0m             \u001b[0;32mraise\u001b[0m \u001b[0mRuntimeError\u001b[0m\u001b[0;34m(\u001b[0m\u001b[0;34m\"await wasn't used with future\"\u001b[0m\u001b[0;34m)\u001b[0m\u001b[0;34m\u001b[0m\u001b[0;34m\u001b[0m\u001b[0m\n",
      "\u001b[0;32m~/opt/anaconda3/envs/learn-env/lib/python3.8/asyncio/tasks.py\u001b[0m in \u001b[0;36m__wakeup\u001b[0;34m(self, future)\u001b[0m\n\u001b[1;32m    347\u001b[0m     \u001b[0;32mdef\u001b[0m \u001b[0m__wakeup\u001b[0m\u001b[0;34m(\u001b[0m\u001b[0mself\u001b[0m\u001b[0;34m,\u001b[0m \u001b[0mfuture\u001b[0m\u001b[0;34m)\u001b[0m\u001b[0;34m:\u001b[0m\u001b[0;34m\u001b[0m\u001b[0;34m\u001b[0m\u001b[0m\n\u001b[1;32m    348\u001b[0m         \u001b[0;32mtry\u001b[0m\u001b[0;34m:\u001b[0m\u001b[0;34m\u001b[0m\u001b[0;34m\u001b[0m\u001b[0m\n\u001b[0;32m--> 349\u001b[0;31m             \u001b[0mfuture\u001b[0m\u001b[0;34m.\u001b[0m\u001b[0mresult\u001b[0m\u001b[0;34m(\u001b[0m\u001b[0;34m)\u001b[0m\u001b[0;34m\u001b[0m\u001b[0;34m\u001b[0m\u001b[0m\n\u001b[0m\u001b[1;32m    350\u001b[0m         \u001b[0;32mexcept\u001b[0m \u001b[0mBaseException\u001b[0m \u001b[0;32mas\u001b[0m \u001b[0mexc\u001b[0m\u001b[0;34m:\u001b[0m\u001b[0;34m\u001b[0m\u001b[0;34m\u001b[0m\u001b[0m\n\u001b[1;32m    351\u001b[0m             \u001b[0;31m# This may also be a cancellation.\u001b[0m\u001b[0;34m\u001b[0m\u001b[0;34m\u001b[0m\u001b[0;34m\u001b[0m\u001b[0m\n",
      "\u001b[0;32m~/opt/anaconda3/envs/learn-env/lib/python3.8/asyncio/futures.py\u001b[0m in \u001b[0;36mresult\u001b[0;34m(self)\u001b[0m\n\u001b[1;32m    176\u001b[0m         \u001b[0mself\u001b[0m\u001b[0;34m.\u001b[0m\u001b[0m__log_traceback\u001b[0m \u001b[0;34m=\u001b[0m \u001b[0;32mFalse\u001b[0m\u001b[0;34m\u001b[0m\u001b[0;34m\u001b[0m\u001b[0m\n\u001b[1;32m    177\u001b[0m         \u001b[0;32mif\u001b[0m \u001b[0mself\u001b[0m\u001b[0;34m.\u001b[0m\u001b[0m_exception\u001b[0m \u001b[0;32mis\u001b[0m \u001b[0;32mnot\u001b[0m \u001b[0;32mNone\u001b[0m\u001b[0;34m:\u001b[0m\u001b[0;34m\u001b[0m\u001b[0;34m\u001b[0m\u001b[0m\n\u001b[0;32m--> 178\u001b[0;31m             \u001b[0;32mraise\u001b[0m \u001b[0mself\u001b[0m\u001b[0;34m.\u001b[0m\u001b[0m_exception\u001b[0m\u001b[0;34m\u001b[0m\u001b[0;34m\u001b[0m\u001b[0m\n\u001b[0m\u001b[1;32m    179\u001b[0m         \u001b[0;32mreturn\u001b[0m \u001b[0mself\u001b[0m\u001b[0;34m.\u001b[0m\u001b[0m_result\u001b[0m\u001b[0;34m\u001b[0m\u001b[0;34m\u001b[0m\u001b[0m\n\u001b[1;32m    180\u001b[0m \u001b[0;34m\u001b[0m\u001b[0m\n",
      "\u001b[0;32m~/opt/anaconda3/envs/learn-env/lib/python3.8/asyncio/tasks.py\u001b[0m in \u001b[0;36m__step\u001b[0;34m(***failed resolving arguments***)\u001b[0m\n\u001b[1;32m    278\u001b[0m                 \u001b[0;31m# We use the `send` method directly, because coroutines\u001b[0m\u001b[0;34m\u001b[0m\u001b[0;34m\u001b[0m\u001b[0;34m\u001b[0m\u001b[0m\n\u001b[1;32m    279\u001b[0m                 \u001b[0;31m# don't have `__iter__` and `__next__` methods.\u001b[0m\u001b[0;34m\u001b[0m\u001b[0;34m\u001b[0m\u001b[0;34m\u001b[0m\u001b[0m\n\u001b[0;32m--> 280\u001b[0;31m                 \u001b[0mresult\u001b[0m \u001b[0;34m=\u001b[0m \u001b[0mcoro\u001b[0m\u001b[0;34m.\u001b[0m\u001b[0msend\u001b[0m\u001b[0;34m(\u001b[0m\u001b[0;32mNone\u001b[0m\u001b[0;34m)\u001b[0m\u001b[0;34m\u001b[0m\u001b[0;34m\u001b[0m\u001b[0m\n\u001b[0m\u001b[1;32m    281\u001b[0m             \u001b[0;32melse\u001b[0m\u001b[0;34m:\u001b[0m\u001b[0;34m\u001b[0m\u001b[0;34m\u001b[0m\u001b[0m\n\u001b[1;32m    282\u001b[0m                 \u001b[0mresult\u001b[0m \u001b[0;34m=\u001b[0m \u001b[0mcoro\u001b[0m\u001b[0;34m.\u001b[0m\u001b[0mthrow\u001b[0m\u001b[0;34m(\u001b[0m\u001b[0mexc\u001b[0m\u001b[0;34m)\u001b[0m\u001b[0;34m\u001b[0m\u001b[0;34m\u001b[0m\u001b[0m\n",
      "\u001b[0;32m~/.local/lib/python3.8/site-packages/twint/run.py\u001b[0m in \u001b[0;36mrun\u001b[0;34m(self)\u001b[0m\n\u001b[1;32m    284\u001b[0m                     \u001b[0;32melif\u001b[0m \u001b[0mself\u001b[0m\u001b[0;34m.\u001b[0m\u001b[0mconfig\u001b[0m\u001b[0;34m.\u001b[0m\u001b[0mTwitterSearch\u001b[0m\u001b[0;34m:\u001b[0m\u001b[0;34m\u001b[0m\u001b[0;34m\u001b[0m\u001b[0m\n\u001b[1;32m    285\u001b[0m                         \u001b[0mlogme\u001b[0m\u001b[0;34m.\u001b[0m\u001b[0mdebug\u001b[0m\u001b[0;34m(\u001b[0m\u001b[0m__name__\u001b[0m \u001b[0;34m+\u001b[0m \u001b[0;34m':Twint:main:twitter-search'\u001b[0m\u001b[0;34m)\u001b[0m\u001b[0;34m\u001b[0m\u001b[0;34m\u001b[0m\u001b[0m\n\u001b[0;32m--> 286\u001b[0;31m                         \u001b[0;32mawait\u001b[0m \u001b[0mself\u001b[0m\u001b[0;34m.\u001b[0m\u001b[0mtweets\u001b[0m\u001b[0;34m(\u001b[0m\u001b[0;34m)\u001b[0m\u001b[0;34m\u001b[0m\u001b[0;34m\u001b[0m\u001b[0m\n\u001b[0m\u001b[1;32m    287\u001b[0m                 \u001b[0;32melse\u001b[0m\u001b[0;34m:\u001b[0m\u001b[0;34m\u001b[0m\u001b[0;34m\u001b[0m\u001b[0m\n\u001b[1;32m    288\u001b[0m                     \u001b[0mlogme\u001b[0m\u001b[0;34m.\u001b[0m\u001b[0mdebug\u001b[0m\u001b[0;34m(\u001b[0m\u001b[0m__name__\u001b[0m \u001b[0;34m+\u001b[0m \u001b[0;34m':Twint:main:no-more-tweets'\u001b[0m\u001b[0;34m)\u001b[0m\u001b[0;34m\u001b[0m\u001b[0;34m\u001b[0m\u001b[0m\n",
      "\u001b[0;32m~/.local/lib/python3.8/site-packages/twint/run.py\u001b[0m in \u001b[0;36mtweets\u001b[0;34m(self)\u001b[0m\n\u001b[1;32m    224\u001b[0m             \u001b[0;32mfor\u001b[0m \u001b[0mtweet\u001b[0m \u001b[0;32min\u001b[0m \u001b[0mself\u001b[0m\u001b[0;34m.\u001b[0m\u001b[0mfeed\u001b[0m\u001b[0;34m:\u001b[0m\u001b[0;34m\u001b[0m\u001b[0;34m\u001b[0m\u001b[0m\n\u001b[1;32m    225\u001b[0m                 \u001b[0mself\u001b[0m\u001b[0;34m.\u001b[0m\u001b[0mcount\u001b[0m \u001b[0;34m+=\u001b[0m \u001b[0;36m1\u001b[0m\u001b[0;34m\u001b[0m\u001b[0;34m\u001b[0m\u001b[0m\n\u001b[0;32m--> 226\u001b[0;31m                 \u001b[0;32mawait\u001b[0m \u001b[0moutput\u001b[0m\u001b[0;34m.\u001b[0m\u001b[0mTweets\u001b[0m\u001b[0;34m(\u001b[0m\u001b[0mtweet\u001b[0m\u001b[0;34m,\u001b[0m \u001b[0mself\u001b[0m\u001b[0;34m.\u001b[0m\u001b[0mconfig\u001b[0m\u001b[0;34m,\u001b[0m \u001b[0mself\u001b[0m\u001b[0;34m.\u001b[0m\u001b[0mconn\u001b[0m\u001b[0;34m)\u001b[0m\u001b[0;34m\u001b[0m\u001b[0;34m\u001b[0m\u001b[0m\n\u001b[0m\u001b[1;32m    227\u001b[0m \u001b[0;34m\u001b[0m\u001b[0m\n\u001b[1;32m    228\u001b[0m     \u001b[0;32masync\u001b[0m \u001b[0;32mdef\u001b[0m \u001b[0mmain\u001b[0m\u001b[0;34m(\u001b[0m\u001b[0mself\u001b[0m\u001b[0;34m,\u001b[0m \u001b[0mcallback\u001b[0m\u001b[0;34m=\u001b[0m\u001b[0;32mNone\u001b[0m\u001b[0;34m)\u001b[0m\u001b[0;34m:\u001b[0m\u001b[0;34m\u001b[0m\u001b[0;34m\u001b[0m\u001b[0m\n",
      "\u001b[0;32m~/.local/lib/python3.8/site-packages/twint/output.py\u001b[0m in \u001b[0;36mTweets\u001b[0;34m(tweets, config, conn)\u001b[0m\n\u001b[1;32m    164\u001b[0m     \u001b[0;32melif\u001b[0m \u001b[0mconfig\u001b[0m\u001b[0;34m.\u001b[0m\u001b[0mTwitterSearch\u001b[0m \u001b[0;32mor\u001b[0m \u001b[0mconfig\u001b[0m\u001b[0;34m.\u001b[0m\u001b[0mProfile\u001b[0m\u001b[0;34m:\u001b[0m\u001b[0;34m\u001b[0m\u001b[0;34m\u001b[0m\u001b[0m\n\u001b[1;32m    165\u001b[0m         \u001b[0mlogme\u001b[0m\u001b[0;34m.\u001b[0m\u001b[0mdebug\u001b[0m\u001b[0;34m(\u001b[0m\u001b[0m__name__\u001b[0m \u001b[0;34m+\u001b[0m \u001b[0;34m':Tweets:TwitterSearch'\u001b[0m\u001b[0;34m)\u001b[0m\u001b[0;34m\u001b[0m\u001b[0;34m\u001b[0m\u001b[0m\n\u001b[0;32m--> 166\u001b[0;31m         \u001b[0;32mawait\u001b[0m \u001b[0mcheckData\u001b[0m\u001b[0;34m(\u001b[0m\u001b[0mtweets\u001b[0m\u001b[0;34m,\u001b[0m \u001b[0mconfig\u001b[0m\u001b[0;34m,\u001b[0m \u001b[0mconn\u001b[0m\u001b[0;34m)\u001b[0m\u001b[0;34m\u001b[0m\u001b[0;34m\u001b[0m\u001b[0m\n\u001b[0m\u001b[1;32m    167\u001b[0m     \u001b[0;32melse\u001b[0m\u001b[0;34m:\u001b[0m\u001b[0;34m\u001b[0m\u001b[0;34m\u001b[0m\u001b[0m\n\u001b[1;32m    168\u001b[0m         \u001b[0mlogme\u001b[0m\u001b[0;34m.\u001b[0m\u001b[0mdebug\u001b[0m\u001b[0;34m(\u001b[0m\u001b[0m__name__\u001b[0m \u001b[0;34m+\u001b[0m \u001b[0;34m':Tweets:else'\u001b[0m\u001b[0;34m)\u001b[0m\u001b[0;34m\u001b[0m\u001b[0;34m\u001b[0m\u001b[0m\n",
      "\u001b[0;32m~/.local/lib/python3.8/site-packages/twint/output.py\u001b[0m in \u001b[0;36mcheckData\u001b[0;34m(tweet, config, conn)\u001b[0m\n\u001b[1;32m    135\u001b[0m         \u001b[0;32mreturn\u001b[0m\u001b[0;34m\u001b[0m\u001b[0;34m\u001b[0m\u001b[0m\n\u001b[1;32m    136\u001b[0m     \u001b[0;32mif\u001b[0m \u001b[0mdatecheck\u001b[0m\u001b[0;34m(\u001b[0m\u001b[0mtweet\u001b[0m\u001b[0;34m.\u001b[0m\u001b[0mdatestamp\u001b[0m \u001b[0;34m+\u001b[0m \u001b[0;34m\" \"\u001b[0m \u001b[0;34m+\u001b[0m \u001b[0mtweet\u001b[0m\u001b[0;34m.\u001b[0m\u001b[0mtimestamp\u001b[0m\u001b[0;34m,\u001b[0m \u001b[0mconfig\u001b[0m\u001b[0;34m)\u001b[0m\u001b[0;34m:\u001b[0m\u001b[0;34m\u001b[0m\u001b[0;34m\u001b[0m\u001b[0m\n\u001b[0;32m--> 137\u001b[0;31m         \u001b[0moutput\u001b[0m \u001b[0;34m=\u001b[0m \u001b[0mformat\u001b[0m\u001b[0;34m.\u001b[0m\u001b[0mTweet\u001b[0m\u001b[0;34m(\u001b[0m\u001b[0mconfig\u001b[0m\u001b[0;34m,\u001b[0m \u001b[0mtweet\u001b[0m\u001b[0;34m)\u001b[0m\u001b[0;34m\u001b[0m\u001b[0;34m\u001b[0m\u001b[0m\n\u001b[0m\u001b[1;32m    138\u001b[0m         \u001b[0;32mif\u001b[0m \u001b[0mconfig\u001b[0m\u001b[0;34m.\u001b[0m\u001b[0mDatabase\u001b[0m\u001b[0;34m:\u001b[0m\u001b[0;34m\u001b[0m\u001b[0;34m\u001b[0m\u001b[0m\n\u001b[1;32m    139\u001b[0m             \u001b[0mlogme\u001b[0m\u001b[0;34m.\u001b[0m\u001b[0mdebug\u001b[0m\u001b[0;34m(\u001b[0m\u001b[0m__name__\u001b[0m \u001b[0;34m+\u001b[0m \u001b[0;34m':checkData:Database'\u001b[0m\u001b[0;34m)\u001b[0m\u001b[0;34m\u001b[0m\u001b[0;34m\u001b[0m\u001b[0m\n",
      "\u001b[0;32m~/.local/lib/python3.8/site-packages/twint/format.py\u001b[0m in \u001b[0;36mTweet\u001b[0;34m(config, t)\u001b[0m\n\u001b[1;32m     21\u001b[0m         \u001b[0moutput\u001b[0m \u001b[0;34m=\u001b[0m \u001b[0moutput\u001b[0m\u001b[0;34m.\u001b[0m\u001b[0mreplace\u001b[0m\u001b[0;34m(\u001b[0m\u001b[0;34m\"{hashtags}\"\u001b[0m\u001b[0;34m,\u001b[0m \u001b[0;34m\",\"\u001b[0m\u001b[0;34m.\u001b[0m\u001b[0mjoin\u001b[0m\u001b[0;34m(\u001b[0m\u001b[0mt\u001b[0m\u001b[0;34m.\u001b[0m\u001b[0mhashtags\u001b[0m\u001b[0;34m)\u001b[0m\u001b[0;34m)\u001b[0m\u001b[0;34m\u001b[0m\u001b[0;34m\u001b[0m\u001b[0m\n\u001b[1;32m     22\u001b[0m         \u001b[0moutput\u001b[0m \u001b[0;34m=\u001b[0m \u001b[0moutput\u001b[0m\u001b[0;34m.\u001b[0m\u001b[0mreplace\u001b[0m\u001b[0;34m(\u001b[0m\u001b[0;34m\"{cashtags}\"\u001b[0m\u001b[0;34m,\u001b[0m \u001b[0;34m\",\"\u001b[0m\u001b[0;34m.\u001b[0m\u001b[0mjoin\u001b[0m\u001b[0;34m(\u001b[0m\u001b[0mt\u001b[0m\u001b[0;34m.\u001b[0m\u001b[0mcashtags\u001b[0m\u001b[0;34m)\u001b[0m\u001b[0;34m)\u001b[0m\u001b[0;34m\u001b[0m\u001b[0;34m\u001b[0m\u001b[0m\n\u001b[0;32m---> 23\u001b[0;31m         \u001b[0moutput\u001b[0m \u001b[0;34m=\u001b[0m \u001b[0moutput\u001b[0m\u001b[0;34m.\u001b[0m\u001b[0mreplace\u001b[0m\u001b[0;34m(\u001b[0m\u001b[0;34m\"{replies}\"\u001b[0m\u001b[0;34m,\u001b[0m \u001b[0mt\u001b[0m\u001b[0;34m.\u001b[0m\u001b[0mreplies_count\u001b[0m\u001b[0;34m)\u001b[0m\u001b[0;34m\u001b[0m\u001b[0;34m\u001b[0m\u001b[0m\n\u001b[0m\u001b[1;32m     24\u001b[0m         \u001b[0moutput\u001b[0m \u001b[0;34m=\u001b[0m \u001b[0moutput\u001b[0m\u001b[0;34m.\u001b[0m\u001b[0mreplace\u001b[0m\u001b[0;34m(\u001b[0m\u001b[0;34m\"{retweets}\"\u001b[0m\u001b[0;34m,\u001b[0m \u001b[0mt\u001b[0m\u001b[0;34m.\u001b[0m\u001b[0mretweets_count\u001b[0m\u001b[0;34m)\u001b[0m\u001b[0;34m\u001b[0m\u001b[0;34m\u001b[0m\u001b[0m\n\u001b[1;32m     25\u001b[0m         \u001b[0moutput\u001b[0m \u001b[0;34m=\u001b[0m \u001b[0moutput\u001b[0m\u001b[0;34m.\u001b[0m\u001b[0mreplace\u001b[0m\u001b[0;34m(\u001b[0m\u001b[0;34m\"{likes}\"\u001b[0m\u001b[0;34m,\u001b[0m \u001b[0mt\u001b[0m\u001b[0;34m.\u001b[0m\u001b[0mlikes_count\u001b[0m\u001b[0;34m)\u001b[0m\u001b[0;34m\u001b[0m\u001b[0;34m\u001b[0m\u001b[0m\n",
      "\u001b[0;31mTypeError\u001b[0m: replace() argument 2 must be str, not int"
     ]
    }
   ],
   "source": [
    "c = twint.Config()\n",
    "c.Search = \"data science\"\n",
    "# Custom output format\n",
    "c.Format = \"Username: {username} |  Tweet: {tweet}\"\n",
    "c.Limit = 1\n",
    "c.Pandas = True\n",
    "\n",
    "twint.run.Search(c)"
   ]
  },
  {
   "cell_type": "code",
   "execution_count": 5,
   "metadata": {},
   "outputs": [],
   "source": [
    "twint.output.panda.Tweets_df"
   ]
  },
  {
   "cell_type": "code",
   "execution_count": null,
   "metadata": {},
   "outputs": [],
   "source": []
  },
  {
   "cell_type": "code",
   "execution_count": null,
   "metadata": {},
   "outputs": [],
   "source": []
  },
  {
   "cell_type": "code",
   "execution_count": null,
   "metadata": {},
   "outputs": [],
   "source": []
  },
  {
   "cell_type": "code",
   "execution_count": null,
   "metadata": {},
   "outputs": [],
   "source": []
  },
  {
   "cell_type": "code",
   "execution_count": 6,
   "metadata": {},
   "outputs": [],
   "source": [
    "def sentiment_class(score):\n",
    "    \"\"\"\n",
    "    Labels each tweet based on its sentiment score\n",
    "    \"\"\"\n",
    "    if score > 0:\n",
    "        score = \"Positive\"\n",
    "    elif score < 0:\n",
    "        score ='Negative'\n",
    "    else:\n",
    "        score = 'Neutral'\n",
    "        \n",
    "    return score"
   ]
  },
  {
   "cell_type": "code",
   "execution_count": 7,
   "metadata": {},
   "outputs": [
    {
     "ename": "LookupError",
     "evalue": "\n**********************************************************************\n  Resource \u001b[93mvader_lexicon\u001b[0m not found.\n  Please use the NLTK Downloader to obtain the resource:\n\n  \u001b[31m>>> import nltk\n  >>> nltk.download('vader_lexicon')\n  \u001b[0m\n  For more information see: https://www.nltk.org/data.html\n\n  Attempted to load \u001b[93msentiment/vader_lexicon.zip/vader_lexicon/vader_lexicon.txt\u001b[0m\n\n  Searched in:\n    - '/Users/mbcn345/nltk_data'\n    - '/Users/mbcn345/opt/anaconda3/envs/learn-env/nltk_data'\n    - '/Users/mbcn345/opt/anaconda3/envs/learn-env/share/nltk_data'\n    - '/Users/mbcn345/opt/anaconda3/envs/learn-env/lib/nltk_data'\n    - '/usr/share/nltk_data'\n    - '/usr/local/share/nltk_data'\n    - '/usr/lib/nltk_data'\n    - '/usr/local/lib/nltk_data'\n    - ''\n**********************************************************************\n",
     "output_type": "error",
     "traceback": [
      "\u001b[0;31m---------------------------------------------------------------------------\u001b[0m",
      "\u001b[0;31mLookupError\u001b[0m                               Traceback (most recent call last)",
      "\u001b[0;32m<ipython-input-7-ee8a5372cd1f>\u001b[0m in \u001b[0;36m<module>\u001b[0;34m\u001b[0m\n\u001b[1;32m      1\u001b[0m \u001b[0;31m# Instantiating the sentiment analyzer\u001b[0m\u001b[0;34m\u001b[0m\u001b[0;34m\u001b[0m\u001b[0;34m\u001b[0m\u001b[0m\n\u001b[0;32m----> 2\u001b[0;31m \u001b[0msid\u001b[0m \u001b[0;34m=\u001b[0m \u001b[0mSentimentIntensityAnalyzer\u001b[0m\u001b[0;34m(\u001b[0m\u001b[0;34m)\u001b[0m\u001b[0;34m\u001b[0m\u001b[0;34m\u001b[0m\u001b[0m\n\u001b[0m\u001b[1;32m      3\u001b[0m \u001b[0;34m\u001b[0m\u001b[0m\n\u001b[1;32m      4\u001b[0m \u001b[0;31m# Grabbing the sentiment scores and assigning them to a new column\u001b[0m\u001b[0;34m\u001b[0m\u001b[0;34m\u001b[0m\u001b[0;34m\u001b[0m\u001b[0m\n\u001b[1;32m      5\u001b[0m \u001b[0mdf\u001b[0m\u001b[0;34m[\u001b[0m\u001b[0;34m'sentiment'\u001b[0m\u001b[0;34m]\u001b[0m \u001b[0;34m=\u001b[0m \u001b[0;34m[\u001b[0m\u001b[0msid\u001b[0m\u001b[0;34m.\u001b[0m\u001b[0mpolarity_scores\u001b[0m\u001b[0;34m(\u001b[0m\u001b[0mdf\u001b[0m\u001b[0;34m.\u001b[0m\u001b[0mtweet\u001b[0m\u001b[0;34m.\u001b[0m\u001b[0miloc\u001b[0m\u001b[0;34m[\u001b[0m\u001b[0mi\u001b[0m\u001b[0;34m]\u001b[0m\u001b[0;34m)\u001b[0m\u001b[0;34m[\u001b[0m\u001b[0;34m'compound'\u001b[0m\u001b[0;34m]\u001b[0m \u001b[0;32mfor\u001b[0m \u001b[0mi\u001b[0m \u001b[0;32min\u001b[0m \u001b[0mrange\u001b[0m\u001b[0;34m(\u001b[0m\u001b[0mlen\u001b[0m\u001b[0;34m(\u001b[0m\u001b[0mdf\u001b[0m\u001b[0;34m)\u001b[0m\u001b[0;34m)\u001b[0m\u001b[0;34m]\u001b[0m\u001b[0;34m\u001b[0m\u001b[0;34m\u001b[0m\u001b[0m\n",
      "\u001b[0;32m~/opt/anaconda3/envs/learn-env/lib/python3.8/site-packages/nltk/sentiment/vader.py\u001b[0m in \u001b[0;36m__init__\u001b[0;34m(self, lexicon_file)\u001b[0m\n\u001b[1;32m    337\u001b[0m         \u001b[0mself\u001b[0m\u001b[0;34m,\u001b[0m \u001b[0mlexicon_file\u001b[0m\u001b[0;34m=\u001b[0m\u001b[0;34m\"sentiment/vader_lexicon.zip/vader_lexicon/vader_lexicon.txt\"\u001b[0m\u001b[0;34m,\u001b[0m\u001b[0;34m\u001b[0m\u001b[0;34m\u001b[0m\u001b[0m\n\u001b[1;32m    338\u001b[0m     ):\n\u001b[0;32m--> 339\u001b[0;31m         \u001b[0mself\u001b[0m\u001b[0;34m.\u001b[0m\u001b[0mlexicon_file\u001b[0m \u001b[0;34m=\u001b[0m \u001b[0mnltk\u001b[0m\u001b[0;34m.\u001b[0m\u001b[0mdata\u001b[0m\u001b[0;34m.\u001b[0m\u001b[0mload\u001b[0m\u001b[0;34m(\u001b[0m\u001b[0mlexicon_file\u001b[0m\u001b[0;34m)\u001b[0m\u001b[0;34m\u001b[0m\u001b[0;34m\u001b[0m\u001b[0m\n\u001b[0m\u001b[1;32m    340\u001b[0m         \u001b[0mself\u001b[0m\u001b[0;34m.\u001b[0m\u001b[0mlexicon\u001b[0m \u001b[0;34m=\u001b[0m \u001b[0mself\u001b[0m\u001b[0;34m.\u001b[0m\u001b[0mmake_lex_dict\u001b[0m\u001b[0;34m(\u001b[0m\u001b[0;34m)\u001b[0m\u001b[0;34m\u001b[0m\u001b[0;34m\u001b[0m\u001b[0m\n\u001b[1;32m    341\u001b[0m         \u001b[0mself\u001b[0m\u001b[0;34m.\u001b[0m\u001b[0mconstants\u001b[0m \u001b[0;34m=\u001b[0m \u001b[0mVaderConstants\u001b[0m\u001b[0;34m(\u001b[0m\u001b[0;34m)\u001b[0m\u001b[0;34m\u001b[0m\u001b[0;34m\u001b[0m\u001b[0m\n",
      "\u001b[0;32m~/opt/anaconda3/envs/learn-env/lib/python3.8/site-packages/nltk/data.py\u001b[0m in \u001b[0;36mload\u001b[0;34m(resource_url, format, cache, verbose, logic_parser, fstruct_reader, encoding)\u001b[0m\n\u001b[1;32m    750\u001b[0m \u001b[0;34m\u001b[0m\u001b[0m\n\u001b[1;32m    751\u001b[0m     \u001b[0;31m# Load the resource.\u001b[0m\u001b[0;34m\u001b[0m\u001b[0;34m\u001b[0m\u001b[0;34m\u001b[0m\u001b[0m\n\u001b[0;32m--> 752\u001b[0;31m     \u001b[0mopened_resource\u001b[0m \u001b[0;34m=\u001b[0m \u001b[0m_open\u001b[0m\u001b[0;34m(\u001b[0m\u001b[0mresource_url\u001b[0m\u001b[0;34m)\u001b[0m\u001b[0;34m\u001b[0m\u001b[0;34m\u001b[0m\u001b[0m\n\u001b[0m\u001b[1;32m    753\u001b[0m \u001b[0;34m\u001b[0m\u001b[0m\n\u001b[1;32m    754\u001b[0m     \u001b[0;32mif\u001b[0m \u001b[0mformat\u001b[0m \u001b[0;34m==\u001b[0m \u001b[0;34m\"raw\"\u001b[0m\u001b[0;34m:\u001b[0m\u001b[0;34m\u001b[0m\u001b[0;34m\u001b[0m\u001b[0m\n",
      "\u001b[0;32m~/opt/anaconda3/envs/learn-env/lib/python3.8/site-packages/nltk/data.py\u001b[0m in \u001b[0;36m_open\u001b[0;34m(resource_url)\u001b[0m\n\u001b[1;32m    875\u001b[0m \u001b[0;34m\u001b[0m\u001b[0m\n\u001b[1;32m    876\u001b[0m     \u001b[0;32mif\u001b[0m \u001b[0mprotocol\u001b[0m \u001b[0;32mis\u001b[0m \u001b[0;32mNone\u001b[0m \u001b[0;32mor\u001b[0m \u001b[0mprotocol\u001b[0m\u001b[0;34m.\u001b[0m\u001b[0mlower\u001b[0m\u001b[0;34m(\u001b[0m\u001b[0;34m)\u001b[0m \u001b[0;34m==\u001b[0m \u001b[0;34m\"nltk\"\u001b[0m\u001b[0;34m:\u001b[0m\u001b[0;34m\u001b[0m\u001b[0;34m\u001b[0m\u001b[0m\n\u001b[0;32m--> 877\u001b[0;31m         \u001b[0;32mreturn\u001b[0m \u001b[0mfind\u001b[0m\u001b[0;34m(\u001b[0m\u001b[0mpath_\u001b[0m\u001b[0;34m,\u001b[0m \u001b[0mpath\u001b[0m \u001b[0;34m+\u001b[0m \u001b[0;34m[\u001b[0m\u001b[0;34m\"\"\u001b[0m\u001b[0;34m]\u001b[0m\u001b[0;34m)\u001b[0m\u001b[0;34m.\u001b[0m\u001b[0mopen\u001b[0m\u001b[0;34m(\u001b[0m\u001b[0;34m)\u001b[0m\u001b[0;34m\u001b[0m\u001b[0;34m\u001b[0m\u001b[0m\n\u001b[0m\u001b[1;32m    878\u001b[0m     \u001b[0;32melif\u001b[0m \u001b[0mprotocol\u001b[0m\u001b[0;34m.\u001b[0m\u001b[0mlower\u001b[0m\u001b[0;34m(\u001b[0m\u001b[0;34m)\u001b[0m \u001b[0;34m==\u001b[0m \u001b[0;34m\"file\"\u001b[0m\u001b[0;34m:\u001b[0m\u001b[0;34m\u001b[0m\u001b[0;34m\u001b[0m\u001b[0m\n\u001b[1;32m    879\u001b[0m         \u001b[0;31m# urllib might not use mode='rb', so handle this one ourselves:\u001b[0m\u001b[0;34m\u001b[0m\u001b[0;34m\u001b[0m\u001b[0;34m\u001b[0m\u001b[0m\n",
      "\u001b[0;32m~/opt/anaconda3/envs/learn-env/lib/python3.8/site-packages/nltk/data.py\u001b[0m in \u001b[0;36mfind\u001b[0;34m(resource_name, paths)\u001b[0m\n\u001b[1;32m    583\u001b[0m     \u001b[0msep\u001b[0m \u001b[0;34m=\u001b[0m \u001b[0;34m\"*\"\u001b[0m \u001b[0;34m*\u001b[0m \u001b[0;36m70\u001b[0m\u001b[0;34m\u001b[0m\u001b[0;34m\u001b[0m\u001b[0m\n\u001b[1;32m    584\u001b[0m     \u001b[0mresource_not_found\u001b[0m \u001b[0;34m=\u001b[0m \u001b[0;34m\"\\n%s\\n%s\\n%s\\n\"\u001b[0m \u001b[0;34m%\u001b[0m \u001b[0;34m(\u001b[0m\u001b[0msep\u001b[0m\u001b[0;34m,\u001b[0m \u001b[0mmsg\u001b[0m\u001b[0;34m,\u001b[0m \u001b[0msep\u001b[0m\u001b[0;34m)\u001b[0m\u001b[0;34m\u001b[0m\u001b[0;34m\u001b[0m\u001b[0m\n\u001b[0;32m--> 585\u001b[0;31m     \u001b[0;32mraise\u001b[0m \u001b[0mLookupError\u001b[0m\u001b[0;34m(\u001b[0m\u001b[0mresource_not_found\u001b[0m\u001b[0;34m)\u001b[0m\u001b[0;34m\u001b[0m\u001b[0;34m\u001b[0m\u001b[0m\n\u001b[0m\u001b[1;32m    586\u001b[0m \u001b[0;34m\u001b[0m\u001b[0m\n\u001b[1;32m    587\u001b[0m \u001b[0;34m\u001b[0m\u001b[0m\n",
      "\u001b[0;31mLookupError\u001b[0m: \n**********************************************************************\n  Resource \u001b[93mvader_lexicon\u001b[0m not found.\n  Please use the NLTK Downloader to obtain the resource:\n\n  \u001b[31m>>> import nltk\n  >>> nltk.download('vader_lexicon')\n  \u001b[0m\n  For more information see: https://www.nltk.org/data.html\n\n  Attempted to load \u001b[93msentiment/vader_lexicon.zip/vader_lexicon/vader_lexicon.txt\u001b[0m\n\n  Searched in:\n    - '/Users/mbcn345/nltk_data'\n    - '/Users/mbcn345/opt/anaconda3/envs/learn-env/nltk_data'\n    - '/Users/mbcn345/opt/anaconda3/envs/learn-env/share/nltk_data'\n    - '/Users/mbcn345/opt/anaconda3/envs/learn-env/lib/nltk_data'\n    - '/usr/share/nltk_data'\n    - '/usr/local/share/nltk_data'\n    - '/usr/lib/nltk_data'\n    - '/usr/local/lib/nltk_data'\n    - ''\n**********************************************************************\n"
     ]
    }
   ],
   "source": [
    "# Instantiating the sentiment analyzer\n",
    "sid = SentimentIntensityAnalyzer()\n",
    "\n",
    "# Grabbing the sentiment scores and assigning them to a new column\n",
    "df['sentiment'] = [sid.polarity_scores(df.tweet.iloc[i])['compound'] for i in range(len(df))]\n",
    "\n",
    "# Labeling the tweets in a new column\n",
    "df['feel'] = df.sentiment.apply(sentiment_class)"
   ]
  },
  {
   "cell_type": "code",
   "execution_count": null,
   "metadata": {},
   "outputs": [],
   "source": [
    "df[['tweet', 'sentiment', 'feel']]"
   ]
  },
  {
   "cell_type": "code",
   "execution_count": null,
   "metadata": {},
   "outputs": [],
   "source": []
  }
 ],
 "metadata": {
  "kernelspec": {
   "display_name": "learn-env",
   "language": "python",
   "name": "learn-env"
  },
  "language_info": {
   "codemirror_mode": {
    "name": "ipython",
    "version": 3
   },
   "file_extension": ".py",
   "mimetype": "text/x-python",
   "name": "python",
   "nbconvert_exporter": "python",
   "pygments_lexer": "ipython3",
   "version": "3.8.5"
  },
  "toc": {
   "base_numbering": 1,
   "nav_menu": {},
   "number_sections": true,
   "sideBar": true,
   "skip_h1_title": false,
   "title_cell": "Table of Contents",
   "title_sidebar": "Contents",
   "toc_cell": false,
   "toc_position": {
    "height": "calc(100% - 180px)",
    "left": "10px",
    "top": "150px",
    "width": "236.797px"
   },
   "toc_section_display": true,
   "toc_window_display": true
  },
  "varInspector": {
   "cols": {
    "lenName": 16,
    "lenType": 16,
    "lenVar": 40
   },
   "kernels_config": {
    "python": {
     "delete_cmd_postfix": "",
     "delete_cmd_prefix": "del ",
     "library": "var_list.py",
     "varRefreshCmd": "print(var_dic_list())"
    },
    "r": {
     "delete_cmd_postfix": ") ",
     "delete_cmd_prefix": "rm(",
     "library": "var_list.r",
     "varRefreshCmd": "cat(var_dic_list()) "
    }
   },
   "types_to_exclude": [
    "module",
    "function",
    "builtin_function_or_method",
    "instance",
    "_Feature"
   ],
   "window_display": false
  }
 },
 "nbformat": 4,
 "nbformat_minor": 4
}
